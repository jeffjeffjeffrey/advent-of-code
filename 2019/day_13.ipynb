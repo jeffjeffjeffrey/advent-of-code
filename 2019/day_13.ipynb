{
 "cells": [
  {
   "cell_type": "markdown",
   "metadata": {},
   "source": [
    "# Day 11: Care Package"
   ]
  },
  {
   "cell_type": "code",
   "execution_count": 5,
   "metadata": {},
   "outputs": [],
   "source": [
    "from collections import defaultdict"
   ]
  },
  {
   "cell_type": "code",
   "execution_count": 6,
   "metadata": {},
   "outputs": [],
   "source": [
    "class Instruction:\n",
    "    def __init__(self, opcode, length, param_locations, param_values, memory):\n",
    "        self.opcode = opcode\n",
    "        self.length = length\n",
    "        self.param_locations = param_locations\n",
    "        self.param_values = param_values\n",
    "        self.memory = memory\n",
    "        \n",
    "    def get_val(self, i):\n",
    "        return self.param_values[i]\n",
    "    \n",
    "    def set_val(self, i, val):\n",
    "        self.memory[self.param_locations[i]] = val"
   ]
  },
  {
   "cell_type": "code",
   "execution_count": 7,
   "metadata": {},
   "outputs": [],
   "source": [
    "class Add(Instruction):\n",
    "    def call(self):\n",
    "        self.set_val(2, self.get_val(0) + self.get_val(1))"
   ]
  },
  {
   "cell_type": "code",
   "execution_count": 8,
   "metadata": {},
   "outputs": [],
   "source": [
    "class Multiply(Instruction):\n",
    "    def call(self):\n",
    "        self.set_val(2, self.get_val(0) * self.get_val(1))"
   ]
  },
  {
   "cell_type": "code",
   "execution_count": 9,
   "metadata": {},
   "outputs": [],
   "source": [
    "class Input(Instruction):\n",
    "    def call(self, input_value):\n",
    "        self.set_val(0, input_value)"
   ]
  },
  {
   "cell_type": "code",
   "execution_count": 10,
   "metadata": {},
   "outputs": [],
   "source": [
    "class Output(Instruction):\n",
    "    def call(self):\n",
    "        return self.get_val(0)"
   ]
  },
  {
   "cell_type": "code",
   "execution_count": 11,
   "metadata": {},
   "outputs": [],
   "source": [
    "class JumpIfTrue(Instruction):\n",
    "    def call(self):\n",
    "        return self.get_val(1) if self.get_val(0) else None"
   ]
  },
  {
   "cell_type": "code",
   "execution_count": 12,
   "metadata": {},
   "outputs": [],
   "source": [
    "class JumpIfFalse(Instruction):\n",
    "    def call(self):\n",
    "        return self.get_val(1) if not self.get_val(0) else None"
   ]
  },
  {
   "cell_type": "code",
   "execution_count": 13,
   "metadata": {},
   "outputs": [],
   "source": [
    "class LessThan(Instruction):\n",
    "    def call(self):\n",
    "        val = 1 if self.get_val(0) < self.get_val(1) else 0\n",
    "        self.set_val(2, val)"
   ]
  },
  {
   "cell_type": "code",
   "execution_count": 14,
   "metadata": {},
   "outputs": [],
   "source": [
    "class Equals(Instruction):\n",
    "    def call(self):\n",
    "        val = 1 if self.get_val(0) == self.get_val(1) else 0\n",
    "        self.set_val(2, val)"
   ]
  },
  {
   "cell_type": "code",
   "execution_count": 15,
   "metadata": {},
   "outputs": [],
   "source": [
    "class RelativeBaseOffset(Instruction):\n",
    "    def call(self):\n",
    "        return self.get_val(0)"
   ]
  },
  {
   "cell_type": "code",
   "execution_count": 16,
   "metadata": {},
   "outputs": [],
   "source": [
    "class Halt(Instruction):\n",
    "    pass"
   ]
  },
  {
   "cell_type": "code",
   "execution_count": 17,
   "metadata": {},
   "outputs": [],
   "source": [
    "class IntcodeComputer:\n",
    "    # Instruction opcodes\n",
    "    ADD = 1\n",
    "    MULTIPLY = 2\n",
    "    INPUT = 3\n",
    "    OUTPUT = 4\n",
    "    JUMP_IF_TRUE = 5\n",
    "    JUMP_IF_FALSE = 6\n",
    "    LESS_THAN = 7\n",
    "    EQUALS = 8\n",
    "    RELATIVE_BASE_OFFSET = 9\n",
    "    HALT = 99\n",
    "    \n",
    "    LENGTHS = {\n",
    "        ADD: 4,\n",
    "        MULTIPLY: 4,\n",
    "        INPUT: 2,\n",
    "        OUTPUT: 2,\n",
    "        JUMP_IF_TRUE: 3,\n",
    "        JUMP_IF_FALSE: 3,\n",
    "        LESS_THAN: 4,\n",
    "        EQUALS: 4,\n",
    "        RELATIVE_BASE_OFFSET: 2,\n",
    "        HALT: 1,\n",
    "    }\n",
    "    \n",
    "    INSTRUCTIONS = {\n",
    "        ADD: Add,\n",
    "        MULTIPLY: Multiply,\n",
    "        INPUT: Input,\n",
    "        OUTPUT: Output,\n",
    "        JUMP_IF_TRUE: JumpIfTrue,\n",
    "        JUMP_IF_FALSE: JumpIfFalse,\n",
    "        LESS_THAN: LessThan,\n",
    "        EQUALS: Equals,\n",
    "        RELATIVE_BASE_OFFSET: RelativeBaseOffset,\n",
    "        HALT: Halt,\n",
    "    }\n",
    "    \n",
    "    POSITION_MODE = '0'\n",
    "    IMMEDIATE_MODE = '1'\n",
    "    RELATIVE_MODE = '2'\n",
    "    \n",
    "    def __init__(self, program):\n",
    "        self.memory = program.copy()\n",
    "        self.memory_pointer = 0\n",
    "        self.relative_base = 0\n",
    "        self.inputs = []\n",
    "        \n",
    "    def create_instruction(self):\n",
    "        op = str(self.memory[self.memory_pointer])\n",
    "        opcode = int(op[-2:])    \n",
    "        length = self.LENGTHS[opcode]\n",
    "        args = [self.memory[self.memory_pointer + i] for i in range(1, length)]\n",
    "        modes = op[:-2].zfill(length - 1)[::-1]\n",
    "        locs = []\n",
    "        vals = []\n",
    "        for arg, mode in zip(args, modes):\n",
    "            if mode == self.POSITION_MODE: \n",
    "                locs.append(arg)\n",
    "                vals.append(self.memory[arg])\n",
    "            elif mode == self.IMMEDIATE_MODE:\n",
    "                locs.append(None)\n",
    "                vals.append(arg)\n",
    "            elif mode == self.RELATIVE_MODE:\n",
    "                locs.append(arg + self.relative_base)\n",
    "                vals.append(self.memory[arg + self.relative_base])\n",
    "\n",
    "        return self.INSTRUCTIONS[opcode](opcode, length, locs, vals, self.memory)\n",
    "    \n",
    "    def queue_input(self, input_value):\n",
    "        self.inputs.append(input_value)\n",
    "        \n",
    "    def run(self):\n",
    "        while True:\n",
    "            instruction = self.create_instruction()\n",
    "            if instruction.opcode == self.HALT:\n",
    "                break\n",
    "            elif instruction.opcode == self.INPUT:\n",
    "                value = instruction.call(self.inputs.pop(0))\n",
    "            else:\n",
    "                value = instruction.call()\n",
    "            \n",
    "            self.memory_pointer += instruction.length\n",
    "            if instruction.opcode in [self.JUMP_IF_TRUE, self.JUMP_IF_FALSE] and value is not None:\n",
    "                self.memory_pointer = value\n",
    "            elif instruction.opcode == self.RELATIVE_BASE_OFFSET:\n",
    "                self.relative_base += value\n",
    "            elif instruction.opcode == self.OUTPUT:\n",
    "                yield value\n",
    "\n",
    "    @staticmethod\n",
    "    def to_program(data):\n",
    "        return defaultdict(int, enumerate(data.copy()))"
   ]
  },
  {
   "cell_type": "markdown",
   "metadata": {},
   "source": [
    "## Part 1"
   ]
  },
  {
   "cell_type": "code",
   "execution_count": 19,
   "metadata": {},
   "outputs": [],
   "source": [
    "def build_tiles(computer):\n",
    "    tiles = defaultdict(int)\n",
    "    x_coord, y_coord = [None, None]\n",
    "    for i, output in enumerate(computer.run()):\n",
    "        if i % 3 == 0:\n",
    "            x_coord = output\n",
    "        elif i % 3 == 1:\n",
    "            y_coord = output\n",
    "        else:\n",
    "            tiles[(x_coord, y_coord)] = output\n",
    "    return tiles"
   ]
  },
  {
   "cell_type": "code",
   "execution_count": 20,
   "metadata": {},
   "outputs": [],
   "source": [
    "with open('day_13.txt') as f:\n",
    "    data = [int(token) for token in f.readlines()[0].strip().split(',')]"
   ]
  },
  {
   "cell_type": "code",
   "execution_count": 21,
   "metadata": {},
   "outputs": [],
   "source": [
    "program = IntcodeComputer.to_program(data)\n",
    "computer = IntcodeComputer(program)\n",
    "tiles = build_tiles(computer)"
   ]
  },
  {
   "cell_type": "code",
   "execution_count": 23,
   "metadata": {},
   "outputs": [
    {
     "data": {
      "text/plain": [
       "236"
      ]
     },
     "execution_count": 23,
     "metadata": {},
     "output_type": "execute_result"
    }
   ],
   "source": [
    "len([coords for coords in tiles if tiles[coords] == 2])"
   ]
  },
  {
   "cell_type": "markdown",
   "metadata": {},
   "source": [
    "## Part 2"
   ]
  },
  {
   "cell_type": "code",
   "execution_count": 27,
   "metadata": {},
   "outputs": [],
   "source": [
    "EMPTY = 0\n",
    "WALL = 1\n",
    "BLOCK = 2\n",
    "PADDLE = 3\n",
    "BALL = 4\n",
    "\n",
    "TILE_CHARS = {\n",
    "    EMPTY: \" \",\n",
    "    WALL: \"#\",\n",
    "    BLOCK: \"X\",\n",
    "    PADDLE: \"=\",\n",
    "    BALL: \"O\"\n",
    "}"
   ]
  },
  {
   "cell_type": "code",
   "execution_count": 41,
   "metadata": {},
   "outputs": [],
   "source": [
    "def print_display(tiles):\n",
    "    min_x = min([loc[0] for loc in tiles])\n",
    "    max_x = max([loc[0] for loc in tiles])\n",
    "    min_y = min([loc[1] for loc in tiles])\n",
    "    max_y = max([loc[1] for loc in tiles])\n",
    "    for y in range(min_y, max_y):\n",
    "        row = [TILE_CHARS[tiles[(x, y)]] for x in range(min_x, max_x + 1)]\n",
    "        print(\"\".join(row))"
   ]
  },
  {
   "cell_type": "code",
   "execution_count": 42,
   "metadata": {},
   "outputs": [
    {
     "name": "stdout",
     "output_type": "stream",
     "text": [
      "####################################\n",
      "#                                  #\n",
      "# XX X    XX XXX XXXX  X X   XXXXX #\n",
      "# X  XXX  X  X X  XX  X  XXX X XXX #\n",
      "# XX XX X   X X  X X  XXXX XXX   X #\n",
      "#    X  XX  XX X XX XXX   XXXX XXX #\n",
      "# X       XXXX XXXXX XX X   XXX X  #\n",
      "# X XXXXX  X   X XX  X XXXX X      #\n",
      "# XX   X   XX XXX XXX XXXXXXX XXXX #\n",
      "#  X XXXX  XX  X  X  XX  X XX  X X #\n",
      "# XXXX X XX XXXX       XXXXX X   X #\n",
      "# X   X  X  X   XXXXX X X X X  XX  #\n",
      "#  X X  X X XXX X XXXXX  XXXX XXX  #\n",
      "# XXXX  XX  X   X  XX  XX XX XXXXX #\n",
      "# XXX  XX XX  XX   XX XXX XXXXXXXX #\n",
      "#                                  #\n",
      "#               O                  #\n",
      "#                                  #\n",
      "#                                  #\n",
      "#                 =                #\n",
      "#                                  #\n"
     ]
    }
   ],
   "source": [
    "print_display(tiles)"
   ]
  },
  {
   "cell_type": "code",
   "execution_count": 75,
   "metadata": {},
   "outputs": [],
   "source": [
    "def play(computer):\n",
    "    score = 0\n",
    "    tiles = defaultdict(int)\n",
    "    x_coord, y_coord, x_ball, x_paddle = [None, None, None, None]\n",
    "    computer.queue_input(0)\n",
    "    for i, output in enumerate(computer.run()):\n",
    "        if i % 3 == 0:\n",
    "            x_coord = output\n",
    "            continue\n",
    "        elif i % 3 == 1:\n",
    "            y_coord = output\n",
    "            continue\n",
    "        elif (x_coord, y_coord) == (-1, 0):\n",
    "            score = output\n",
    "            continue\n",
    "        tiles[(x_coord, y_coord)] = output\n",
    "        if output == BALL:\n",
    "            if not x_paddle:\n",
    "                pass\n",
    "            elif x_ball < x_paddle:\n",
    "                computer.queue_input(-1)\n",
    "            elif x_ball > x_paddle:\n",
    "                computer.queue_input(1)\n",
    "            elif x_ball < x_coord:\n",
    "                computer.queue_input(1)\n",
    "            elif x_ball > x_coord:\n",
    "                computer.queue_input(-1)\n",
    "            else:\n",
    "                computer.queue_input(0)\n",
    "            x_ball = x_coord\n",
    "        elif output == PADDLE:\n",
    "            x_paddle = x_coord\n",
    "#             print_display(tiles)\n",
    "    return score"
   ]
  },
  {
   "cell_type": "code",
   "execution_count": 76,
   "metadata": {},
   "outputs": [
    {
     "data": {
      "text/plain": [
       "11040"
      ]
     },
     "execution_count": 76,
     "metadata": {},
     "output_type": "execute_result"
    }
   ],
   "source": [
    "program[0] = 2\n",
    "computer = IntcodeComputer(program)\n",
    "play(computer)"
   ]
  },
  {
   "cell_type": "code",
   "execution_count": null,
   "metadata": {},
   "outputs": [],
   "source": []
  }
 ],
 "metadata": {
  "kernelspec": {
   "display_name": "Python 3",
   "language": "python",
   "name": "python3"
  },
  "language_info": {
   "codemirror_mode": {
    "name": "ipython",
    "version": 3
   },
   "file_extension": ".py",
   "mimetype": "text/x-python",
   "name": "python",
   "nbconvert_exporter": "python",
   "pygments_lexer": "ipython3",
   "version": "3.7.5"
  }
 },
 "nbformat": 4,
 "nbformat_minor": 2
}
