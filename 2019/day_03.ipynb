{
 "cells": [
  {
   "cell_type": "markdown",
   "metadata": {},
   "source": [
    "Example inputs:"
   ]
  },
  {
   "cell_type": "code",
   "execution_count": 92,
   "metadata": {},
   "outputs": [],
   "source": [
    "line1 = 'R8,U5,L5,D3'\n",
    "line2 = 'U7,R6,D4,L4'"
   ]
  },
  {
   "cell_type": "code",
   "execution_count": 101,
   "metadata": {},
   "outputs": [],
   "source": [
    "line1 = 'R75,D30,R83,U83,L12,D49,R71,U7,L72'\n",
    "line2 = 'U62,R66,U55,R34,D71,R55,D58,R83'"
   ]
  },
  {
   "cell_type": "code",
   "execution_count": 107,
   "metadata": {},
   "outputs": [],
   "source": [
    "line1 = 'R98,U47,R26,D63,R33,U87,L62,D20,R33,U53,R51'\n",
    "line2 = 'U98,R91,D20,R16,D67,R40,U7,R15,U6,R7'"
   ]
  },
  {
   "cell_type": "markdown",
   "metadata": {},
   "source": [
    "Official input:"
   ]
  },
  {
   "cell_type": "code",
   "execution_count": 113,
   "metadata": {},
   "outputs": [],
   "source": [
    "with open('day_03.txt') as f:\n",
    "    line1, line2 = [line.strip() for line in f.readlines()]"
   ]
  },
  {
   "cell_type": "code",
   "execution_count": 114,
   "metadata": {},
   "outputs": [],
   "source": [
    "path1, path2 = [[(move[0], int(move[1:])) for move in line.split(',')]for line in [line1, line2]]"
   ]
  },
  {
   "cell_type": "markdown",
   "metadata": {},
   "source": [
    "# Part 1\n",
    "Let's define a function that converts a path list into a list of coordinates visited. \n",
    "\n",
    "We'll use complex numbers to make the 2D steps easier to write down."
   ]
  },
  {
   "cell_type": "code",
   "execution_count": 71,
   "metadata": {},
   "outputs": [],
   "source": [
    "def visited(path):\n",
    "    visited_coords = []\n",
    "    current = complex(0,0)\n",
    "    for move in path:\n",
    "        direction = move[0]\n",
    "        distance = move[1]\n",
    "        if direction == 'U':\n",
    "            step = complex(0,1)\n",
    "        elif direction == 'D':\n",
    "            step = complex(0,-1)\n",
    "        elif direction == 'L':\n",
    "            step = complex(-1,0)\n",
    "        elif direction == 'R':\n",
    "            step = complex(1,0)\n",
    "        for i in range(distance):\n",
    "            current += step\n",
    "            visited_coords.append(current)\n",
    "    return visited_coords"
   ]
  },
  {
   "cell_type": "markdown",
   "metadata": {},
   "source": [
    "Next, let's take the intersection of all visited coords of both paths, and find the one closest to `(0, 0)`."
   ]
  },
  {
   "cell_type": "code",
   "execution_count": 120,
   "metadata": {},
   "outputs": [],
   "source": [
    "visited1 = set(visited(path1))\n",
    "visited2 = set(visited(path2))\n",
    "intersection = visited1 & visited2"
   ]
  },
  {
   "cell_type": "code",
   "execution_count": 126,
   "metadata": {},
   "outputs": [],
   "source": [
    "def manhattan(z):\n",
    "    return abs(z.real) + abs(z.imag)"
   ]
  },
  {
   "cell_type": "code",
   "execution_count": 127,
   "metadata": {},
   "outputs": [
    {
     "name": "stdout",
     "output_type": "stream",
     "text": [
      "(-100-527j) 627.0\n"
     ]
    }
   ],
   "source": [
    "closest_intersection = sorted(intersection, key=lambda coord: manhattan(coord))[0]\n",
    "print(closest_intersection, manhattan(closest_intersection))"
   ]
  },
  {
   "cell_type": "markdown",
   "metadata": {},
   "source": [
    "# Part 2\n",
    "Here we need to additionally keep track of the signal delay of each wire.\n",
    "\n",
    "The signal delay of a given coordinate on a path is just its index in the path array, with duplicates going to the earlier index.\n",
    "\n",
    "We will construct a dictionary to keep track of these indexes."
   ]
  },
  {
   "cell_type": "code",
   "execution_count": 96,
   "metadata": {},
   "outputs": [],
   "source": [
    "def delay_dict(coords_list):\n",
    "    d = {}\n",
    "    for i, coord in enumerate(coords_list):\n",
    "        if coord not in d:\n",
    "            d[coord] = i + 1\n",
    "    return d"
   ]
  },
  {
   "cell_type": "code",
   "execution_count": 117,
   "metadata": {},
   "outputs": [],
   "source": [
    "delay_dict1 = delay_dict(visited(path1))\n",
    "delay_dict2 = delay_dict(visited(path2))"
   ]
  },
  {
   "cell_type": "markdown",
   "metadata": {},
   "source": [
    "We can now sort the intersections based on their combined signal delay to get our answer."
   ]
  },
  {
   "cell_type": "code",
   "execution_count": 130,
   "metadata": {},
   "outputs": [],
   "source": [
    "def delay(z, dict1=delay_dict1, dict2=delay_dict2):\n",
    "    return dict1[z] + dict2[z]"
   ]
  },
  {
   "cell_type": "code",
   "execution_count": 131,
   "metadata": {},
   "outputs": [
    {
     "name": "stdout",
     "output_type": "stream",
     "text": [
      "(232-527j) 13190\n"
     ]
    }
   ],
   "source": [
    "fastest_intersection = sorted(intersection, key=lambda coord: delay(coord))[0]\n",
    "print(fastest_intersection, delay(fastest_intersection))"
   ]
  },
  {
   "cell_type": "code",
   "execution_count": null,
   "metadata": {},
   "outputs": [],
   "source": []
  }
 ],
 "metadata": {
  "kernelspec": {
   "display_name": "Python 3",
   "language": "python",
   "name": "python3"
  },
  "language_info": {
   "codemirror_mode": {
    "name": "ipython",
    "version": 3
   },
   "file_extension": ".py",
   "mimetype": "text/x-python",
   "name": "python",
   "nbconvert_exporter": "python",
   "pygments_lexer": "ipython3",
   "version": "3.7.5"
  }
 },
 "nbformat": 4,
 "nbformat_minor": 2
}
