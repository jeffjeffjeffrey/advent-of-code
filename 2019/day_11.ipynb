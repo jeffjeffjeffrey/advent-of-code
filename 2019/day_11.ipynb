{
 "cells": [
  {
   "cell_type": "markdown",
   "metadata": {},
   "source": [
    "# Day 11: Space Police\n",
    "In this chapter of the `Intcode` saga, we are using our Intcode computer to paint our spaceship.\n",
    "\n",
    "First we'll copy our Intcode computer code below, with some slight changes."
   ]
  },
  {
   "cell_type": "code",
   "execution_count": 273,
   "metadata": {},
   "outputs": [],
   "source": [
    "from collections import defaultdict"
   ]
  },
  {
   "cell_type": "code",
   "execution_count": 247,
   "metadata": {},
   "outputs": [],
   "source": [
    "class Instruction:\n",
    "    def __init__(self, opcode, length, param_locations, param_values, memory):\n",
    "        self.opcode = opcode\n",
    "        self.length = length\n",
    "        self.param_locations = param_locations\n",
    "        self.param_values = param_values\n",
    "        self.memory = memory\n",
    "        \n",
    "    def get_val(self, i):\n",
    "        return self.param_values[i]\n",
    "    \n",
    "    def set_val(self, i, val):\n",
    "        self.memory[self.param_locations[i]] = val"
   ]
  },
  {
   "cell_type": "code",
   "execution_count": 248,
   "metadata": {},
   "outputs": [],
   "source": [
    "class Add(Instruction):\n",
    "    def call(self):\n",
    "        self.set_val(2, self.get_val(0) + self.get_val(1))"
   ]
  },
  {
   "cell_type": "code",
   "execution_count": 249,
   "metadata": {},
   "outputs": [],
   "source": [
    "class Multiply(Instruction):\n",
    "    def call(self):\n",
    "        self.set_val(2, self.get_val(0) * self.get_val(1))"
   ]
  },
  {
   "cell_type": "code",
   "execution_count": 250,
   "metadata": {},
   "outputs": [],
   "source": [
    "class Input(Instruction):\n",
    "    def call(self, input_value):\n",
    "        self.set_val(0, input_value)"
   ]
  },
  {
   "cell_type": "code",
   "execution_count": 251,
   "metadata": {},
   "outputs": [],
   "source": [
    "class Output(Instruction):\n",
    "    def call(self):\n",
    "        return self.get_val(0)"
   ]
  },
  {
   "cell_type": "code",
   "execution_count": 252,
   "metadata": {},
   "outputs": [],
   "source": [
    "class JumpIfTrue(Instruction):\n",
    "    def call(self):\n",
    "        return self.get_val(1) if self.get_val(0) else None"
   ]
  },
  {
   "cell_type": "code",
   "execution_count": 253,
   "metadata": {},
   "outputs": [],
   "source": [
    "class JumpIfFalse(Instruction):\n",
    "    def call(self):\n",
    "        return self.get_val(1) if not self.get_val(0) else None"
   ]
  },
  {
   "cell_type": "code",
   "execution_count": 254,
   "metadata": {},
   "outputs": [],
   "source": [
    "class LessThan(Instruction):\n",
    "    def call(self):\n",
    "        val = 1 if self.get_val(0) < self.get_val(1) else 0\n",
    "        self.set_val(2, val)"
   ]
  },
  {
   "cell_type": "code",
   "execution_count": 255,
   "metadata": {},
   "outputs": [],
   "source": [
    "class Equals(Instruction):\n",
    "    def call(self):\n",
    "        val = 1 if self.get_val(0) == self.get_val(1) else 0\n",
    "        self.set_val(2, val)"
   ]
  },
  {
   "cell_type": "code",
   "execution_count": 256,
   "metadata": {},
   "outputs": [],
   "source": [
    "class RelativeBaseOffset(Instruction):\n",
    "    def call(self):\n",
    "        return self.get_val(0)"
   ]
  },
  {
   "cell_type": "code",
   "execution_count": 257,
   "metadata": {},
   "outputs": [],
   "source": [
    "class Halt(Instruction):\n",
    "    pass"
   ]
  },
  {
   "cell_type": "markdown",
   "metadata": {},
   "source": [
    "The one change we make to the `IntcodeComputer` class is the addition of a `queue_input` method. This will let us append new inputs to our program on the fly."
   ]
  },
  {
   "cell_type": "code",
   "execution_count": 258,
   "metadata": {},
   "outputs": [],
   "source": [
    "class IntcodeComputer:\n",
    "    # Instruction opcodes\n",
    "    ADD = 1\n",
    "    MULTIPLY = 2\n",
    "    INPUT = 3\n",
    "    OUTPUT = 4\n",
    "    JUMP_IF_TRUE = 5\n",
    "    JUMP_IF_FALSE = 6\n",
    "    LESS_THAN = 7\n",
    "    EQUALS = 8\n",
    "    RELATIVE_BASE_OFFSET = 9\n",
    "    HALT = 99\n",
    "    \n",
    "    LENGTHS = {\n",
    "        ADD: 4,\n",
    "        MULTIPLY: 4,\n",
    "        INPUT: 2,\n",
    "        OUTPUT: 2,\n",
    "        JUMP_IF_TRUE: 3,\n",
    "        JUMP_IF_FALSE: 3,\n",
    "        LESS_THAN: 4,\n",
    "        EQUALS: 4,\n",
    "        RELATIVE_BASE_OFFSET: 2,\n",
    "        HALT: 1,\n",
    "    }\n",
    "    \n",
    "    INSTRUCTIONS = {\n",
    "        ADD: Add,\n",
    "        MULTIPLY: Multiply,\n",
    "        INPUT: Input,\n",
    "        OUTPUT: Output,\n",
    "        JUMP_IF_TRUE: JumpIfTrue,\n",
    "        JUMP_IF_FALSE: JumpIfFalse,\n",
    "        LESS_THAN: LessThan,\n",
    "        EQUALS: Equals,\n",
    "        RELATIVE_BASE_OFFSET: RelativeBaseOffset,\n",
    "        HALT: Halt,\n",
    "    }\n",
    "    \n",
    "    POSITION_MODE = '0'\n",
    "    IMMEDIATE_MODE = '1'\n",
    "    RELATIVE_MODE = '2'\n",
    "    \n",
    "    def __init__(self, program):\n",
    "        self.memory = program.copy()\n",
    "        self.memory_pointer = 0\n",
    "        self.relative_base = 0\n",
    "        self.inputs = []\n",
    "        \n",
    "    def create_instruction(self):\n",
    "        op = str(self.memory[self.memory_pointer])\n",
    "        opcode = int(op[-2:])    \n",
    "        length = self.LENGTHS[opcode]\n",
    "        args = [self.memory[self.memory_pointer + i] for i in range(1, length)]\n",
    "        modes = op[:-2].zfill(length - 1)[::-1]\n",
    "        locs = []\n",
    "        vals = []\n",
    "        for arg, mode in zip(args, modes):\n",
    "            if mode == self.POSITION_MODE: \n",
    "                locs.append(arg)\n",
    "                vals.append(self.memory[arg])\n",
    "            elif mode == self.IMMEDIATE_MODE:\n",
    "                locs.append(None)\n",
    "                vals.append(arg)\n",
    "            elif mode == self.RELATIVE_MODE:\n",
    "                locs.append(arg + self.relative_base)\n",
    "                vals.append(self.memory[arg + self.relative_base])\n",
    "\n",
    "        return self.INSTRUCTIONS[opcode](opcode, length, locs, vals, self.memory)\n",
    "    \n",
    "    def queue_input(self, input_value):\n",
    "        self.inputs.append(input_value)\n",
    "        \n",
    "    def run(self):\n",
    "        while True:\n",
    "            instruction = self.create_instruction()\n",
    "            if instruction.opcode == self.HALT:\n",
    "                break\n",
    "            elif instruction.opcode == self.INPUT:\n",
    "                value = instruction.call(self.inputs.pop(0))\n",
    "            else:\n",
    "                value = instruction.call()\n",
    "            \n",
    "            self.memory_pointer += instruction.length\n",
    "            if instruction.opcode in [self.JUMP_IF_TRUE, self.JUMP_IF_FALSE] and value is not None:\n",
    "                self.memory_pointer = value\n",
    "            elif instruction.opcode == self.RELATIVE_BASE_OFFSET:\n",
    "                self.relative_base += value\n",
    "            elif instruction.opcode == self.OUTPUT:\n",
    "                yield value\n",
    "\n",
    "    @staticmethod\n",
    "    def to_program(data):\n",
    "        return defaultdict(int, enumerate(data.copy()))"
   ]
  },
  {
   "cell_type": "markdown",
   "metadata": {},
   "source": [
    "The majority of new code for this puzzle is our `HullPaintingRobot` class.\n",
    "\n",
    "This robot takes an Intcode `computer` and an optional `start_color` as its inputs. Then with the `run` method it proceeds to paint the ship's hull.\n",
    "\n",
    "In this method, we supply input to the `computer` (using our handy new `queue_input` method) in the form of the color of the current hull location we're on.\n",
    "\n",
    "We then receive two outputs from the computer: the new color to paint, and the direction to turn when we're done. Since our `IntcodeComputer`'s `OUTPUT` instruction simply `yields` a value to our `robot` caller, we can proceed through this back-and-forth between `robot` and `computer` seamlessly until the `computer` halts.\n",
    "\n",
    "We use complex numbers for making our left/right turning logic concise."
   ]
  },
  {
   "cell_type": "code",
   "execution_count": 259,
   "metadata": {},
   "outputs": [],
   "source": [
    "class HullPaintingRobot:\n",
    "    LEFT = 0\n",
    "    RIGHT = 1\n",
    "    \n",
    "    TURN = {\n",
    "        LEFT: 1j,\n",
    "        RIGHT: -1j\n",
    "    }\n",
    "    \n",
    "    BLACK = 0\n",
    "    WHITE = 1\n",
    "    \n",
    "    COLOR_CHAR = {\n",
    "        BLACK: '.',\n",
    "        WHITE: '#'\n",
    "    }\n",
    "    \n",
    "    def __init__(self, computer, start_color = BLACK):\n",
    "        self.computer = computer\n",
    "        self.hull_colors = defaultdict(int)\n",
    "        self.hull_counts = defaultdict(int) \n",
    "        self.location = 0 + 0j\n",
    "        self.orientation = 1j\n",
    "        \n",
    "        self.hull_colors[self.location] = start_color\n",
    "        self.computer.queue_input(start_color)\n",
    "        \n",
    "    def turn(self, direction):\n",
    "        self.orientation *= self.TURN[direction]\n",
    "        self.location += self.orientation\n",
    "        \n",
    "    def paint(self, color):\n",
    "        self.hull_colors[self.location] = color\n",
    "        self.hull_counts[self.location] += 1\n",
    "        \n",
    "    def print_hull(self):\n",
    "        min_x = min([int(loc.real) for loc in self.hull_colors])\n",
    "        max_x = max([int(loc.real) for loc in self.hull_colors])\n",
    "        min_y = min([int(loc.imag) for loc in self.hull_colors])\n",
    "        max_y = max([int(loc.imag) for loc in self.hull_colors])\n",
    "        for y in range(max_y, min_y - 1, -1):\n",
    "            row = [self.COLOR_CHAR[self.hull_colors[complex(x, y)]] for x in range(min_x, max_x + 1)]\n",
    "            print(\"\".join(row))\n",
    "        \n",
    "    def run(self):\n",
    "        is_paint_mode = True\n",
    "        for output in self.computer.run():\n",
    "            if is_paint_mode:\n",
    "                self.paint(color = output)\n",
    "            else:\n",
    "                self.turn(direction = output)\n",
    "                self.computer.queue_input(self.hull_colors[self.location])\n",
    "\n",
    "            is_paint_mode = not is_paint_mode"
   ]
  },
  {
   "cell_type": "markdown",
   "metadata": {},
   "source": [
    "## Part 1\n",
    "For the first part, we just need to keep track of how many times the `robot` paints something. We keep track of this in its `hull_counts` dict."
   ]
  },
  {
   "cell_type": "code",
   "execution_count": 265,
   "metadata": {},
   "outputs": [],
   "source": [
    "with open('day_11.txt') as f:\n",
    "    data = [int(token) for token in f.readlines()[0].strip().split(',')]"
   ]
  },
  {
   "cell_type": "code",
   "execution_count": 271,
   "metadata": {},
   "outputs": [],
   "source": [
    "program = IntcodeComputer.to_program(data)\n",
    "computer = IntcodeComputer(program)\n",
    "robot = HullPaintingRobot(computer)\n",
    "robot.run()"
   ]
  },
  {
   "cell_type": "code",
   "execution_count": 272,
   "metadata": {},
   "outputs": [
    {
     "data": {
      "text/plain": [
       "2336"
      ]
     },
     "execution_count": 272,
     "metadata": {},
     "output_type": "execute_result"
    }
   ],
   "source": [
    "len(robot.hull_counts.keys())"
   ]
  },
  {
   "cell_type": "markdown",
   "metadata": {},
   "source": [
    "## Part 2\n",
    "For the second part, we actually need to print the result of the paint job. To do this we'll use the `robot`'s `print_hull` method, taking care to flip the vertical axis since we're starting from top to bottom."
   ]
  },
  {
   "cell_type": "code",
   "execution_count": 269,
   "metadata": {},
   "outputs": [],
   "source": [
    "program = IntcodeComputer.to_program(data)\n",
    "computer = IntcodeComputer(program)\n",
    "robot = HullPaintingRobot(computer, start_color = HullPaintingRobot.WHITE)\n",
    "robot.run()"
   ]
  },
  {
   "cell_type": "code",
   "execution_count": 270,
   "metadata": {},
   "outputs": [
    {
     "name": "stdout",
     "output_type": "stream",
     "text": [
      ".#..#.####..##..####.#..#.###..#....###....\n",
      ".#..#....#.#..#.#....#.#..#..#.#....#..#...\n",
      ".#..#...#..#..#.###..##...###..#....#..#...\n",
      ".#..#..#...####.#....#.#..#..#.#....###....\n",
      ".#..#.#....#..#.#....#.#..#..#.#....#......\n",
      "..##..####.#..#.####.#..#.###..####.#......\n"
     ]
    }
   ],
   "source": [
    "robot.print_hull()"
   ]
  },
  {
   "cell_type": "code",
   "execution_count": null,
   "metadata": {},
   "outputs": [],
   "source": []
  }
 ],
 "metadata": {
  "kernelspec": {
   "display_name": "Python 3",
   "language": "python",
   "name": "python3"
  },
  "language_info": {
   "codemirror_mode": {
    "name": "ipython",
    "version": 3
   },
   "file_extension": ".py",
   "mimetype": "text/x-python",
   "name": "python",
   "nbconvert_exporter": "python",
   "pygments_lexer": "ipython3",
   "version": "3.7.5"
  }
 },
 "nbformat": 4,
 "nbformat_minor": 2
}
