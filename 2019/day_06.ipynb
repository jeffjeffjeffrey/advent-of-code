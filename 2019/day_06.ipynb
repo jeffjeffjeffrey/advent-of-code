{
 "cells": [
  {
   "cell_type": "markdown",
   "metadata": {},
   "source": [
    "# Part 1\n",
    "Each heavenly body orbits exactly one other thing, so let's use a child/parent relationship to represent this data.\n",
    "\n",
    "We'll build a dictionary that maps each object to the object it orbits, aka we map each child to its parent. Let's call that dictionary `parents`."
   ]
  },
  {
   "cell_type": "code",
   "execution_count": 46,
   "metadata": {},
   "outputs": [],
   "source": [
    "with open('day_06.txt') as f:\n",
    "    parents = {}\n",
    "    for line in f.readlines():\n",
    "        parent, child = line.strip().split(')')\n",
    "        parents[child] = parent"
   ]
  },
  {
   "cell_type": "markdown",
   "metadata": {},
   "source": [
    "Our goal is to get the total distances of all objects to the Center of Mass, aka `COM`. For this, let's create a dictionary that maps each object to its total distance to `COM`. We'll call this dictionary `com_distances`."
   ]
  },
  {
   "cell_type": "code",
   "execution_count": 63,
   "metadata": {},
   "outputs": [],
   "source": [
    "com_distances = {}"
   ]
  },
  {
   "cell_type": "markdown",
   "metadata": {},
   "source": [
    "Now let's make a function that can compute the total distance from a single object to the Center of Mass `COM`. This function will be called `get_distance`. \n",
    "\n",
    "We'll make this function recursive so we can trace each `child` back by looking at its parent, then its parent's parent, and all the way till we hit `COM`.\n",
    "\n",
    "Since we'll have to eventually call this function on each planet to get its total distance, we're going to end up retracing a lot of steps along the way. To prevent ourselves from having to recompute anything, we can memoize the `com_distances` as we go. \n",
    "\n",
    "To do this, we'll pass the `com_distances` object along through the recursion, updating it as we go and using it to short-circuit our recursion whenever possible.\n",
    "\n",
    "### For example: \n",
    "* Suppose I start with Earth, and compute that it is 1 step away from the Sun, and then compute that the Sun is 1 step away from the black hole at the center of the galaxy (`COM`). \n",
    "* That means Earth's distance to `COM` is 2.\n",
    "* Then let's say next I look at the Moon. I compute that it's 1 step away from Earth, and then since I already know how far the Earth is from the `COM`, I can stop!\n",
    "* The Moon's distance from the `COM` will just be Earth's distance from `COM` (2) plus Moon's distance from Earth (1).\n",
    "* So the Moon's distance to `COM` will be 1 + 2 = 3."
   ]
  },
  {
   "cell_type": "code",
   "execution_count": 64,
   "metadata": {},
   "outputs": [],
   "source": [
    "def get_distance(parents, com_distances, child):\n",
    "    if child in com_distances:\n",
    "        pass\n",
    "    elif parents[child] == 'COM':\n",
    "        com_distances[child] = 1\n",
    "    else:\n",
    "        com_distances[child] = 1 + get_distance(parents, com_distances, parents[child])\n",
    "    return com_distances[child]"
   ]
  },
  {
   "cell_type": "markdown",
   "metadata": {},
   "source": [
    "Now we can iterate through all the planets (`children`) in our data and compute the `com_distances` for each one (if it hasn't already been computed in a previous step!)"
   ]
  },
  {
   "cell_type": "code",
   "execution_count": 65,
   "metadata": {},
   "outputs": [],
   "source": [
    "for child in parents:\n",
    "    if child not in com_distances:\n",
    "        com_distances[child] = get_distance(parents, com_distances, child)"
   ]
  },
  {
   "cell_type": "markdown",
   "metadata": {},
   "source": [
    "The total of all these distances is our answer for Part 1!"
   ]
  },
  {
   "cell_type": "code",
   "execution_count": 81,
   "metadata": {},
   "outputs": [
    {
     "data": {
      "text/plain": [
       "160040"
      ]
     },
     "execution_count": 81,
     "metadata": {},
     "output_type": "execute_result"
    }
   ],
   "source": [
    "total_distances = sum(com_distances.values())\n",
    "total_distances"
   ]
  },
  {
   "cell_type": "markdown",
   "metadata": {},
   "source": [
    "# Part 2\n",
    "Now we need to figure out how many steps it takes to get from the thing you're orbiting around to the thing Santa is orbiting around.\n",
    "\n",
    "To do this we're going to step toward the `COM` from `YOU`, step toward the `COM` from `SAN`, and find out where those paths meet.\n",
    "\n",
    "First, let's just enumerate the full path from `YOU` to the `COM` and keep track of how far we've traveled at each step. We'll store this in a dictionary called `you_distances`."
   ]
  },
  {
   "cell_type": "code",
   "execution_count": 88,
   "metadata": {},
   "outputs": [],
   "source": [
    "you_distances = {}\n",
    "child = 'YOU'\n",
    "distance = 0\n",
    "while child in parents:\n",
    "    you_distances[child] = distance\n",
    "    child = parents[child]\n",
    "    distance += 1"
   ]
  },
  {
   "cell_type": "markdown",
   "metadata": {},
   "source": [
    "Next, let's trace through Santa's planetary lineage, counting how far we've traveled as we go.\n",
    "\n",
    "As soon as we encounter a planet that is part of the path from `YOU` to `COM`, then we're done! We've found the shortest connection between `SAN` and `YOU`."
   ]
  },
  {
   "cell_type": "code",
   "execution_count": 89,
   "metadata": {},
   "outputs": [],
   "source": [
    "child = 'SAN'\n",
    "distance = 0\n",
    "while child not in you_distances:\n",
    "    child = parents[child]\n",
    "    distance  += 1"
   ]
  },
  {
   "cell_type": "markdown",
   "metadata": {},
   "source": [
    "The previous loop will halt when the variable `child` has reached the spot where your path and santa's path first meet.\n",
    "\n",
    "Therefore the distance between `SAN` and `YOU` will just be the distance from `SAN` to `child` plus the distance from `YOU` to `child`. \n",
    "\n",
    "Lastly we subtract 2 because we're only supposed to count the steps between your and Santa's parent planets. Whatever!"
   ]
  },
  {
   "cell_type": "code",
   "execution_count": 92,
   "metadata": {},
   "outputs": [
    {
     "data": {
      "text/plain": [
       "373"
      ]
     },
     "execution_count": 92,
     "metadata": {},
     "output_type": "execute_result"
    }
   ],
   "source": [
    "distance_apart = distance + you_distances[child] - 2\n",
    "distance_apart"
   ]
  },
  {
   "cell_type": "code",
   "execution_count": null,
   "metadata": {},
   "outputs": [],
   "source": []
  }
 ],
 "metadata": {
  "kernelspec": {
   "display_name": "Python 3",
   "language": "python",
   "name": "python3"
  },
  "language_info": {
   "codemirror_mode": {
    "name": "ipython",
    "version": 3
   },
   "file_extension": ".py",
   "mimetype": "text/x-python",
   "name": "python",
   "nbconvert_exporter": "python",
   "pygments_lexer": "ipython3",
   "version": "3.7.5"
  }
 },
 "nbformat": 4,
 "nbformat_minor": 2
}
