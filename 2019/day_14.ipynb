{
 "cells": [
  {
   "cell_type": "markdown",
   "metadata": {},
   "source": [
    "# Day 14:  Space Stoichiometry\n",
    "In this problem we are given a bunch of recipes. Each recipe shows how to combine different ingredients to make another ingredient. The eventual source of all ingredients is `ORE`, and the ultimate product of these recipes is `FUEL`. \n",
    "\n",
    "We need to figure out how much `ORE` we need to produce a given amount of `FUEL`."
   ]
  },
  {
   "cell_type": "code",
   "execution_count": 128,
   "metadata": {},
   "outputs": [],
   "source": [
    "from collections import defaultdict\n",
    "from queue import Queue\n",
    "from math import ceil"
   ]
  },
  {
   "cell_type": "markdown",
   "metadata": {},
   "source": [
    "First let's write some functions for parsing the input to create our master dict of recipes."
   ]
  },
  {
   "cell_type": "code",
   "execution_count": 129,
   "metadata": {},
   "outputs": [],
   "source": [
    "def build_ingredient(string):\n",
    "    parts = string.split(\" \")\n",
    "    return {\"ingredient\": parts[1], \"amount\": int(parts[0])}"
   ]
  },
  {
   "cell_type": "code",
   "execution_count": 130,
   "metadata": {},
   "outputs": [],
   "source": [
    "def build_recipes(data):\n",
    "    recipes = {}\n",
    "    for line in data:\n",
    "        input_str, output_str = line.split(\" => \")\n",
    "        \n",
    "        ingredients = []\n",
    "        for ingredient_str in input_str.split(', '):\n",
    "            ingredients.append(build_ingredient(ingredient_str))\n",
    "            \n",
    "        output = build_ingredient(output_str)\n",
    "        \n",
    "        recipes[output[\"ingredient\"]] = {\n",
    "            \"servings\": output[\"amount\"],\n",
    "            \"ingredients\": ingredients\n",
    "        }\n",
    "    return recipes"
   ]
  },
  {
   "cell_type": "markdown",
   "metadata": {},
   "source": [
    "Now comes the interesting part: traversing the recipes from `FUEL` to `ORE` to figure out how much `ORE` we ultimately need.\n",
    "\n",
    "To do this, we will use a `Queue`. We'll call this `orders`, and think of it as orders in a restaurant kitchen. The first `order` is for `amount` units of `FUEL`.\n",
    "\n",
    "We'll pick an `order` off the `orders` queue and try to fill it using the `supply` we have on hand (made up of leftovers from previous `orders`). If we don't have enough `supply`, we'll make the rest from scratch using our recipe for the ingredient in question. To do this, we figure out how much of each ingredient we need, and put each of those requests into the `orders` queue.\n",
    "\n",
    "When the `orders` queue is empty, we know we've created all the ingredients needed for our `FUEL`, and we return the total amount of `ORE` we had to consume in the process."
   ]
  },
  {
   "cell_type": "code",
   "execution_count": 131,
   "metadata": {},
   "outputs": [],
   "source": [
    "def make_fuel(amount, recipes):\n",
    "    supply = defaultdict(int)\n",
    "    orders = Queue()\n",
    "    orders.put({\"ingredient\": \"FUEL\", \"amount\": amount})\n",
    "    ore_needed = 0\n",
    "\n",
    "    while not orders.empty():\n",
    "        order = orders.get()\n",
    "        if order[\"ingredient\"] == \"ORE\":\n",
    "            ore_needed += order[\"amount\"]\n",
    "        elif order[\"amount\"] <= supply[order[\"ingredient\"]]:\n",
    "            supply[order[\"ingredient\"]] -= order[\"amount\"]\n",
    "        else:\n",
    "            amount_needed = order[\"amount\"] - supply[order[\"ingredient\"]]\n",
    "            recipe = recipes[order[\"ingredient\"]]\n",
    "            batches = ceil(amount_needed / recipe[\"servings\"])\n",
    "            for ingredient in recipe[\"ingredients\"]:\n",
    "                orders.put({\"ingredient\": ingredient[\"ingredient\"], \"amount\": ingredient[\"amount\"] * batches})\n",
    "            leftover_amount = batches * recipe[\"servings\"] - amount_needed\n",
    "            supply[order[\"ingredient\"]] = leftover_amount\n",
    "    return ore_needed"
   ]
  },
  {
   "cell_type": "markdown",
   "metadata": {},
   "source": [
    "Here are some test data sets to try out"
   ]
  },
  {
   "cell_type": "code",
   "execution_count": 132,
   "metadata": {},
   "outputs": [],
   "source": [
    "data = [\n",
    "    \"10 ORE => 10 A\",\n",
    "    \"1 ORE => 1 B\",\n",
    "    \"7 A, 1 B => 1 C\",\n",
    "    \"7 A, 1 C => 1 D\",\n",
    "    \"7 A, 1 D => 1 E\",\n",
    "    \"7 A, 1 E => 1 FUEL\",\n",
    "]"
   ]
  },
  {
   "cell_type": "code",
   "execution_count": 133,
   "metadata": {},
   "outputs": [],
   "source": [
    "data = [\n",
    "    \"9 ORE => 2 A\",\n",
    "    \"8 ORE => 3 B\",\n",
    "    \"7 ORE => 5 C\",\n",
    "    \"3 A, 4 B => 1 AB\",\n",
    "    \"5 B, 7 C => 1 BC\",\n",
    "    \"4 C, 1 A => 1 CA\",\n",
    "    \"2 AB, 3 BC, 4 CA => 1 FUEL\",\n",
    "]"
   ]
  },
  {
   "cell_type": "code",
   "execution_count": 134,
   "metadata": {},
   "outputs": [],
   "source": [
    "data = [\n",
    "    \"157 ORE => 5 NZVS\",\n",
    "    \"165 ORE => 6 DCFZ\",\n",
    "    \"44 XJWVT, 5 KHKGT, 1 QDVJ, 29 NZVS, 9 GPVTF, 48 HKGWZ => 1 FUEL\",\n",
    "    \"12 HKGWZ, 1 GPVTF, 8 PSHF => 9 QDVJ\",\n",
    "    \"179 ORE => 7 PSHF\",\n",
    "    \"177 ORE => 5 HKGWZ\",\n",
    "    \"7 DCFZ, 7 PSHF => 2 XJWVT\",\n",
    "    \"165 ORE => 2 GPVTF\",\n",
    "    \"3 DCFZ, 7 NZVS, 5 HKGWZ, 10 PSHF => 8 KHKGT\",\n",
    "]"
   ]
  },
  {
   "cell_type": "markdown",
   "metadata": {},
   "source": [
    "Here is the real data set."
   ]
  },
  {
   "cell_type": "code",
   "execution_count": 135,
   "metadata": {},
   "outputs": [],
   "source": [
    "with open('day_14.txt') as f:\n",
    "    data = [row.strip() for row in f.readlines()]"
   ]
  },
  {
   "cell_type": "markdown",
   "metadata": {},
   "source": [
    "## Part 1\n",
    "For this part, we just need to make 1 unit of `FUEL`. Our `make_fuel` function will tell us how much `ORE` is needed for this."
   ]
  },
  {
   "cell_type": "code",
   "execution_count": 136,
   "metadata": {},
   "outputs": [],
   "source": [
    "recipes = build_recipes(data)"
   ]
  },
  {
   "cell_type": "code",
   "execution_count": 137,
   "metadata": {},
   "outputs": [
    {
     "data": {
      "text/plain": [
       "365768"
      ]
     },
     "execution_count": 137,
     "metadata": {},
     "output_type": "execute_result"
    }
   ],
   "source": [
    "make_fuel(1, recipes)"
   ]
  },
  {
   "cell_type": "markdown",
   "metadata": {},
   "source": [
    "## Part 2\n",
    "For the second part, we have to figure out how much `FUEL` we can produce with a starting supply of 1 trillion units of `ORE`. \n",
    "\n",
    "To do this, we'll just guess and check. We first guess how much `FUEL` we think we can produce with our huge `ORE` supply. If the ore needed for our guess is too big (over our capacity) or too small (too much `ORE` leftover), then we'll adjust and guess again. \n",
    "\n",
    "To do this efficiently we'll keep track of upper and lower bounds as we go, proceeding in a binary search pattern until we narrow these bounds down to only 1 possible answer."
   ]
  },
  {
   "cell_type": "code",
   "execution_count": 138,
   "metadata": {},
   "outputs": [],
   "source": [
    "upper_bound = None\n",
    "lower_bound = 1\n",
    "ore_capacity = 1000000000000"
   ]
  },
  {
   "cell_type": "code",
   "execution_count": 139,
   "metadata": {},
   "outputs": [],
   "source": [
    "recipes = build_recipes(data)\n",
    "while lower_bound + 1 != upper_bound:\n",
    "    if upper_bound is None:\n",
    "        guess = lower_bound * 2\n",
    "    else:\n",
    "        guess = (upper_bound + lower_bound) // 2\n",
    "        \n",
    "    ore_needed = make_fuel(guess, recipes)\n",
    "    if ore_needed > ore_capacity:\n",
    "        upper_bound = guess\n",
    "    else:\n",
    "        lower_bound = guess"
   ]
  },
  {
   "cell_type": "code",
   "execution_count": 140,
   "metadata": {},
   "outputs": [
    {
     "data": {
      "text/plain": [
       "3756877"
      ]
     },
     "execution_count": 140,
     "metadata": {},
     "output_type": "execute_result"
    }
   ],
   "source": [
    "lower_bound"
   ]
  },
  {
   "cell_type": "code",
   "execution_count": null,
   "metadata": {},
   "outputs": [],
   "source": []
  }
 ],
 "metadata": {
  "kernelspec": {
   "display_name": "Python 3",
   "language": "python",
   "name": "python3"
  },
  "language_info": {
   "codemirror_mode": {
    "name": "ipython",
    "version": 3
   },
   "file_extension": ".py",
   "mimetype": "text/x-python",
   "name": "python",
   "nbconvert_exporter": "python",
   "pygments_lexer": "ipython3",
   "version": "3.7.5"
  }
 },
 "nbformat": 4,
 "nbformat_minor": 2
}
