{
 "cells": [
  {
   "cell_type": "code",
   "execution_count": 404,
   "metadata": {},
   "outputs": [],
   "source": [
    "with open('day_05.txt') as f:\n",
    "    data = [int(token) for token in f.readlines()[0].strip().split(',')]"
   ]
  },
  {
   "cell_type": "markdown",
   "metadata": {},
   "source": [
    "# Setup\n",
    "For this problem I am trying an OOP approach, where each operation is a service object that inherits from a parent `Instruction` class. \n",
    "\n",
    "Come along with me now.\n",
    "\n",
    "First we define some constants to make things more human readable later. Here are the IDs corresponding to each opcode, the lengths of each instruction type, and indicators for mode types."
   ]
  },
  {
   "cell_type": "code",
   "execution_count": 405,
   "metadata": {},
   "outputs": [],
   "source": [
    "# Opcode IDs\n",
    "ADD = 1\n",
    "MULTIPLY = 2\n",
    "INPUT = 3\n",
    "OUTPUT = 4\n",
    "JUMP_IF_TRUE = 5\n",
    "JUMP_IF_FALSE = 6\n",
    "LESS_THAN = 7\n",
    "EQUALS = 8\n",
    "HALT = 99"
   ]
  },
  {
   "cell_type": "code",
   "execution_count": 406,
   "metadata": {},
   "outputs": [],
   "source": [
    "# Opcode param lengths\n",
    "NUM_PARAMS = {\n",
    "    ADD: 3,\n",
    "    MULTIPLY: 3,\n",
    "    INPUT: 1,\n",
    "    OUTPUT: 1,\n",
    "    JUMP_IF_TRUE: 2,\n",
    "    JUMP_IF_FALSE: 2,\n",
    "    LESS_THAN: 3,\n",
    "    EQUALS: 3,\n",
    "    HALT: 0,\n",
    "}"
   ]
  },
  {
   "cell_type": "code",
   "execution_count": 407,
   "metadata": {},
   "outputs": [],
   "source": [
    "# Opcode param modes\n",
    "POSITION_MODE = 0\n",
    "IMMEDIATE_MODE = 1"
   ]
  },
  {
   "cell_type": "markdown",
   "metadata": {},
   "source": [
    "# Classes\n",
    "It's class time. \n",
    "\n",
    "Here we define the `Instruction` class, which contains all the info for a single instruction:\n",
    "* the opcode and its length\n",
    "* the list of params for the opcode\n",
    "* the list of modes for each param\n",
    "* the entire state of current memory\n",
    "\n",
    "We also define a method for fetching a value from memory (including mode stuff), and writing a value to memory."
   ]
  },
  {
   "cell_type": "code",
   "execution_count": 408,
   "metadata": {},
   "outputs": [],
   "source": [
    "class Instruction:\n",
    "    def __init__(self, opcode, length, params, modes, memory):\n",
    "        self.opcode = opcode\n",
    "        self.length = length\n",
    "        self.params = params\n",
    "        self.modes = modes\n",
    "        self.memory = memory\n",
    "        \n",
    "    def get_val(self, param_index):\n",
    "        if self.modes[param_index] == IMMEDIATE_MODE:\n",
    "            return self.params[param_index]\n",
    "        elif self.modes[param_index] == POSITION_MODE: \n",
    "            return self.memory[self.params[param_index]]\n",
    "    \n",
    "    def put_val(self, param_address_index, value):\n",
    "        self.memory[self.params[param_address_index]] = value        "
   ]
  },
  {
   "cell_type": "markdown",
   "metadata": {},
   "source": [
    "The one thing the `Instruction` class doesn't do is to execute the opcodes' operations. That's where the inherited service object classes come in. \n",
    "\n",
    "Here we define a subclass of `Instruction` for each operation, each with a single `call()` method. This method uses the parent methods for getting values from memory and setting the result."
   ]
  },
  {
   "cell_type": "code",
   "execution_count": 409,
   "metadata": {},
   "outputs": [],
   "source": [
    "class Add(Instruction):\n",
    "    def call(self):\n",
    "        val0 = self.get_val(0)\n",
    "        val1 = self.get_val(1)\n",
    "        self.put_val(2, val0 + val1)"
   ]
  },
  {
   "cell_type": "code",
   "execution_count": 410,
   "metadata": {},
   "outputs": [],
   "source": [
    "class Multiply(Instruction):\n",
    "    def call(self):\n",
    "        val0 = self.get_val(0)\n",
    "        val1 = self.get_val(1)\n",
    "        self.put_val(2, val0 * val1)   "
   ]
  },
  {
   "cell_type": "markdown",
   "metadata": {},
   "source": [
    "The `Input` class needs an input value. We do this just by defining a global constant called `INPUT_VALUE`. Why not!"
   ]
  },
  {
   "cell_type": "code",
   "execution_count": 411,
   "metadata": {},
   "outputs": [],
   "source": [
    "INPUT_VALUE = 1 #default\n",
    "class Input(Instruction):\n",
    "    def call(self):\n",
    "        self.put_val(0, INPUT_VALUE)"
   ]
  },
  {
   "cell_type": "code",
   "execution_count": 412,
   "metadata": {},
   "outputs": [],
   "source": [
    "class Output(Instruction):\n",
    "    def call(self):\n",
    "        val = self.get_val(0)\n",
    "        print(\"Output:\", val)"
   ]
  },
  {
   "cell_type": "markdown",
   "metadata": {},
   "source": [
    "The two Jump classes, `JumpIfTrue` and `JumpIfFalse`, are responsible for setting the memory pointer directly, rather than simply proceeding to the next sequential `Instruction`. We accomplish this by returning the value the pointer should be set to, so the caller can reset that pointer accordingly."
   ]
  },
  {
   "cell_type": "code",
   "execution_count": 413,
   "metadata": {},
   "outputs": [],
   "source": [
    "class JumpIfTrue(Instruction):\n",
    "    def call(self):\n",
    "        in_val = self.get_val(0)\n",
    "        out_val = self.get_val(1)\n",
    "        if in_val:\n",
    "            return out_val"
   ]
  },
  {
   "cell_type": "code",
   "execution_count": 414,
   "metadata": {},
   "outputs": [],
   "source": [
    "class JumpIfFalse(Instruction):\n",
    "    def call(self):\n",
    "        in_val = self.get_val(0)\n",
    "        out_val = self.get_val(1)\n",
    "        if not in_val:\n",
    "            return out_val        "
   ]
  },
  {
   "cell_type": "code",
   "execution_count": 415,
   "metadata": {},
   "outputs": [],
   "source": [
    "class LessThan(Instruction):\n",
    "    def call(self):\n",
    "        val0 = self.get_val(0)\n",
    "        val1 = self.get_val(1)\n",
    "        out_val = 1 if val0 < val1 else 0\n",
    "        self.put_val(2, out_val)           "
   ]
  },
  {
   "cell_type": "code",
   "execution_count": 416,
   "metadata": {},
   "outputs": [],
   "source": [
    "class Equals(Instruction):\n",
    "    def call(self):\n",
    "        val0 = self.get_val(0)\n",
    "        val1 = self.get_val(1)\n",
    "        out_val = 1 if val0 == val1 else 0\n",
    "        self.put_val(2, out_val)"
   ]
  },
  {
   "cell_type": "markdown",
   "metadata": {},
   "source": [
    "The `Halt` instruction doesn't do anything, but we let it have its own class anyway."
   ]
  },
  {
   "cell_type": "code",
   "execution_count": 417,
   "metadata": {},
   "outputs": [],
   "source": [
    "class Halt(Instruction):\n",
    "    def call(self):\n",
    "        pass"
   ]
  },
  {
   "cell_type": "markdown",
   "metadata": {},
   "source": [
    "# Instruction factory\n",
    "Here we define a dictionary that maps opcodes to operation classes, and a method `create_instruction` that parses the instruction encoded at a given memory location and creates the corresponding `Instruction` subclass.\n",
    "\n",
    "I think this is maybe some kind of factory pattern?"
   ]
  },
  {
   "cell_type": "code",
   "execution_count": 418,
   "metadata": {},
   "outputs": [],
   "source": [
    "OPS = {\n",
    "    ADD: Add,\n",
    "    MULTIPLY: Multiply,\n",
    "    INPUT: Input,\n",
    "    OUTPUT: Output,\n",
    "    JUMP_IF_TRUE: JumpIfTrue,\n",
    "    JUMP_IF_FALSE: JumpIfFalse,\n",
    "    LESS_THAN: LessThan,\n",
    "    EQUALS: Equals,\n",
    "    HALT: Halt,\n",
    "}"
   ]
  },
  {
   "cell_type": "code",
   "execution_count": 419,
   "metadata": {},
   "outputs": [],
   "source": [
    "def create_instruction(memory, memory_pointer):\n",
    "    encoded_opcode = memory[memory_pointer]\n",
    "    opcode = int(str(encoded_opcode)[-2:])\n",
    "    \n",
    "    num_params = NUM_PARAMS[opcode]\n",
    "    \n",
    "    reverse_modes = str(encoded_opcode)[:-2][::-1]\n",
    "    modes = [int(char) for char in reverse_modes] + [0] * (num_params - len(reverse_modes))\n",
    "    \n",
    "    params = memory[memory_pointer + 1 : memory_pointer + num_params + 1]\n",
    "    \n",
    "    return OPS[opcode](opcode, num_params + 1, params, modes, memory)"
   ]
  },
  {
   "cell_type": "markdown",
   "metadata": {},
   "source": [
    "# Running the program\n",
    "Finally, we can wrap all this stuff up into a `Program` class that executes the whole Intcode sequence. This class just has a `run` method that creates each instruction, calls it, and repeats until we reach the `HALT` instruction.\n",
    "\n",
    "Enjoy!"
   ]
  },
  {
   "cell_type": "code",
   "execution_count": 420,
   "metadata": {},
   "outputs": [],
   "source": [
    "class Program:\n",
    "    def __init__(self, initial_memory):\n",
    "        self.memory = initial_memory[:]\n",
    "        self.memory_pointer = 0\n",
    "        \n",
    "    def run(self):\n",
    "        while(1):\n",
    "            instruction = create_instruction(self.memory, self.memory_pointer)\n",
    "            if instruction.opcode == HALT:\n",
    "                break\n",
    "                \n",
    "            jump_pointer = instruction.call()\n",
    "            self.memory_pointer = jump_pointer or (self.memory_pointer + instruction.length)"
   ]
  },
  {
   "cell_type": "markdown",
   "metadata": {},
   "source": [
    "## Part 1\n",
    "Here we set the `INPUT_VALUE` to 1, and the Intcode program does some diagnostics that only uses `Add`, `Multiply`, `Input`, `Output`, and `Halt` instructions."
   ]
  },
  {
   "cell_type": "code",
   "execution_count": 423,
   "metadata": {},
   "outputs": [
    {
     "name": "stdout",
     "output_type": "stream",
     "text": [
      "Output: 0\n",
      "Output: 0\n",
      "Output: 0\n",
      "Output: 0\n",
      "Output: 0\n",
      "Output: 0\n",
      "Output: 0\n",
      "Output: 0\n",
      "Output: 0\n",
      "Output: 5074395\n"
     ]
    }
   ],
   "source": [
    "INPUT_VALUE = 1\n",
    "Program(data).run()"
   ]
  },
  {
   "cell_type": "markdown",
   "metadata": {},
   "source": [
    "## Part 2\n",
    "For Part 2, we set the `INPUT_VALUE` to 5, and that executes a different program that includes all the opcode instructions. Fun!"
   ]
  },
  {
   "cell_type": "code",
   "execution_count": 424,
   "metadata": {},
   "outputs": [
    {
     "name": "stdout",
     "output_type": "stream",
     "text": [
      "Output: 8346937\n"
     ]
    }
   ],
   "source": [
    "INPUT_VALUE = 5\n",
    "Program(data).run()"
   ]
  },
  {
   "cell_type": "code",
   "execution_count": null,
   "metadata": {},
   "outputs": [],
   "source": []
  }
 ],
 "metadata": {
  "kernelspec": {
   "display_name": "Python 3",
   "language": "python",
   "name": "python3"
  },
  "language_info": {
   "codemirror_mode": {
    "name": "ipython",
    "version": 3
   },
   "file_extension": ".py",
   "mimetype": "text/x-python",
   "name": "python",
   "nbconvert_exporter": "python",
   "pygments_lexer": "ipython3",
   "version": "3.7.5"
  }
 },
 "nbformat": 4,
 "nbformat_minor": 2
}
