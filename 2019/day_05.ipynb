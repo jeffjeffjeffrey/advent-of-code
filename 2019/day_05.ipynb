{
 "cells": [
  {
   "cell_type": "code",
   "execution_count": 404,
   "metadata": {},
   "outputs": [],
   "source": [
    "with open('day_05.txt') as f:\n",
    "    data = [int(token) for token in f.readlines()[0].strip().split(',')]"
   ]
  },
  {
   "cell_type": "code",
   "execution_count": 405,
   "metadata": {},
   "outputs": [],
   "source": [
    "# Opcode IDs\n",
    "ADD = 1\n",
    "MULTIPLY = 2\n",
    "INPUT = 3\n",
    "OUTPUT = 4\n",
    "JUMP_IF_TRUE = 5\n",
    "JUMP_IF_FALSE = 6\n",
    "LESS_THAN = 7\n",
    "EQUALS = 8\n",
    "HALT = 99"
   ]
  },
  {
   "cell_type": "code",
   "execution_count": 406,
   "metadata": {},
   "outputs": [],
   "source": [
    "# Opcode param lengths\n",
    "NUM_PARAMS = {\n",
    "    ADD: 3,\n",
    "    MULTIPLY: 3,\n",
    "    INPUT: 1,\n",
    "    OUTPUT: 1,\n",
    "    JUMP_IF_TRUE: 2,\n",
    "    JUMP_IF_FALSE: 2,\n",
    "    LESS_THAN: 3,\n",
    "    EQUALS: 3,\n",
    "    HALT: 0,\n",
    "}"
   ]
  },
  {
   "cell_type": "code",
   "execution_count": 407,
   "metadata": {},
   "outputs": [],
   "source": [
    "# Opcode param modes\n",
    "POSITION_MODE = 0\n",
    "IMMEDIATE_MODE = 1"
   ]
  },
  {
   "cell_type": "code",
   "execution_count": 408,
   "metadata": {},
   "outputs": [],
   "source": [
    "class Instruction:\n",
    "    def __init__(self, opcode, length, params, modes, memory):\n",
    "        self.opcode = opcode\n",
    "        self.length = length\n",
    "        self.params = params\n",
    "        self.modes = modes\n",
    "        self.memory = memory\n",
    "        \n",
    "    def get_val(self, param_index):\n",
    "        if self.modes[param_index] == IMMEDIATE_MODE:\n",
    "            return self.params[param_index]\n",
    "        elif self.modes[param_index] == POSITION_MODE: \n",
    "            return self.memory[self.params[param_index]]\n",
    "    \n",
    "    def put_val(self, param_address_index, value):\n",
    "        self.memory[self.params[param_address_index]] = value\n",
    "        \n",
    "    def __str__(self):\n",
    "        return \"opcode: {}, length: {}, params: {}, modes: {}\".format(self.opcode, self.length, self.params, self.modes)\n",
    "        "
   ]
  },
  {
   "cell_type": "code",
   "execution_count": 409,
   "metadata": {},
   "outputs": [],
   "source": [
    "class Add(Instruction):\n",
    "    def call(self):\n",
    "        val0 = self.get_val(0)\n",
    "        val1 = self.get_val(1)\n",
    "        self.put_val(2, val0 + val1)"
   ]
  },
  {
   "cell_type": "code",
   "execution_count": 410,
   "metadata": {},
   "outputs": [],
   "source": [
    "class Multiply(Instruction):\n",
    "    def call(self):\n",
    "        val0 = self.get_val(0)\n",
    "        val1 = self.get_val(1)\n",
    "        self.put_val(2, val0 * val1)   "
   ]
  },
  {
   "cell_type": "code",
   "execution_count": 411,
   "metadata": {},
   "outputs": [],
   "source": [
    "INPUT_VALUE = 1 #default\n",
    "class Input(Instruction):\n",
    "    def call(self):\n",
    "        self.put_val(0, INPUT_VALUE)"
   ]
  },
  {
   "cell_type": "code",
   "execution_count": 412,
   "metadata": {},
   "outputs": [],
   "source": [
    "class Output(Instruction):\n",
    "    def call(self):\n",
    "        val = self.get_val(0)\n",
    "        print(\"Output:\", val)"
   ]
  },
  {
   "cell_type": "code",
   "execution_count": 413,
   "metadata": {},
   "outputs": [],
   "source": [
    "class JumpIfTrue(Instruction):\n",
    "    def call(self):\n",
    "        in_val = self.get_val(0)\n",
    "        out_val = self.get_val(1)\n",
    "        if in_val:\n",
    "            return out_val"
   ]
  },
  {
   "cell_type": "code",
   "execution_count": 414,
   "metadata": {},
   "outputs": [],
   "source": [
    "class JumpIfFalse(Instruction):\n",
    "    def call(self):\n",
    "        in_val = self.get_val(0)\n",
    "        out_val = self.get_val(1)\n",
    "        if not in_val:\n",
    "            return out_val        "
   ]
  },
  {
   "cell_type": "code",
   "execution_count": 415,
   "metadata": {},
   "outputs": [],
   "source": [
    "class LessThan(Instruction):\n",
    "    def call(self):\n",
    "        val0 = self.get_val(0)\n",
    "        val1 = self.get_val(1)\n",
    "        out_val = 1 if val0 < val1 else 0\n",
    "        self.put_val(2, out_val)           "
   ]
  },
  {
   "cell_type": "code",
   "execution_count": 416,
   "metadata": {},
   "outputs": [],
   "source": [
    "class Equals(Instruction):\n",
    "    def call(self):\n",
    "        val0 = self.get_val(0)\n",
    "        val1 = self.get_val(1)\n",
    "        out_val = 1 if val0 == val1 else 0\n",
    "        self.put_val(2, out_val)"
   ]
  },
  {
   "cell_type": "code",
   "execution_count": 417,
   "metadata": {},
   "outputs": [],
   "source": [
    "class Halt(Instruction):\n",
    "    def call(self):\n",
    "        pass"
   ]
  },
  {
   "cell_type": "code",
   "execution_count": 418,
   "metadata": {},
   "outputs": [],
   "source": [
    "OPS = {\n",
    "    ADD: Add,\n",
    "    MULTIPLY: Multiply,\n",
    "    INPUT: Input,\n",
    "    OUTPUT: Output,\n",
    "    JUMP_IF_TRUE: JumpIfTrue,\n",
    "    JUMP_IF_FALSE: JumpIfFalse,\n",
    "    LESS_THAN: LessThan,\n",
    "    EQUALS: Equals,\n",
    "    HALT: Halt,\n",
    "}"
   ]
  },
  {
   "cell_type": "code",
   "execution_count": 419,
   "metadata": {},
   "outputs": [],
   "source": [
    "def create_instruction(memory, memory_pointer):\n",
    "    encoded_opcode = memory[memory_pointer]\n",
    "    opcode = int(str(encoded_opcode)[-2:])\n",
    "    \n",
    "    num_params = NUM_PARAMS[opcode]\n",
    "    \n",
    "    reverse_modes = str(encoded_opcode)[:-2][::-1]\n",
    "    modes = [int(char) for char in reverse_modes] + [0] * (num_params - len(reverse_modes))\n",
    "    \n",
    "    params = memory[memory_pointer + 1 : memory_pointer + num_params + 1]\n",
    "    \n",
    "    return OPS[opcode](opcode, num_params + 1, params, modes, memory)"
   ]
  },
  {
   "cell_type": "code",
   "execution_count": 420,
   "metadata": {},
   "outputs": [],
   "source": [
    "class Program:\n",
    "    def __init__(self, initial_memory):\n",
    "        self.memory = initial_memory[:]\n",
    "        self.memory_pointer = 0\n",
    "        \n",
    "    def run(self):\n",
    "        while(1):\n",
    "            instruction = create_instruction(self.memory, self.memory_pointer)\n",
    "            if instruction.opcode == HALT:\n",
    "                break\n",
    "                \n",
    "            jump_pointer = instruction.call()\n",
    "            self.memory_pointer = jump_pointer or (self.memory_pointer + instruction.length)"
   ]
  },
  {
   "cell_type": "code",
   "execution_count": 423,
   "metadata": {},
   "outputs": [
    {
     "name": "stdout",
     "output_type": "stream",
     "text": [
      "Output: 0\n",
      "Output: 0\n",
      "Output: 0\n",
      "Output: 0\n",
      "Output: 0\n",
      "Output: 0\n",
      "Output: 0\n",
      "Output: 0\n",
      "Output: 0\n",
      "Output: 5074395\n"
     ]
    }
   ],
   "source": [
    "INPUT_VALUE = 1\n",
    "Program(data).run()"
   ]
  },
  {
   "cell_type": "code",
   "execution_count": 424,
   "metadata": {},
   "outputs": [
    {
     "name": "stdout",
     "output_type": "stream",
     "text": [
      "Output: 8346937\n"
     ]
    }
   ],
   "source": [
    "INPUT_VALUE = 5\n",
    "Program(data).run()"
   ]
  },
  {
   "cell_type": "code",
   "execution_count": null,
   "metadata": {},
   "outputs": [],
   "source": []
  }
 ],
 "metadata": {
  "kernelspec": {
   "display_name": "Python 3",
   "language": "python",
   "name": "python3"
  },
  "language_info": {
   "codemirror_mode": {
    "name": "ipython",
    "version": 3
   },
   "file_extension": ".py",
   "mimetype": "text/x-python",
   "name": "python",
   "nbconvert_exporter": "python",
   "pygments_lexer": "ipython3",
   "version": "3.7.5"
  }
 },
 "nbformat": 4,
 "nbformat_minor": 2
}
