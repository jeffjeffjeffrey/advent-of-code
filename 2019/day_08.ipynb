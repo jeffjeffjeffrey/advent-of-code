{
 "cells": [
  {
   "cell_type": "code",
   "execution_count": 103,
   "metadata": {},
   "outputs": [],
   "source": [
    "from collections import defaultdict"
   ]
  },
  {
   "cell_type": "code",
   "execution_count": 90,
   "metadata": {},
   "outputs": [],
   "source": [
    "with open('day_08.txt') as f:\n",
    "    data = f.readlines()[0].strip()"
   ]
  },
  {
   "cell_type": "code",
   "execution_count": 91,
   "metadata": {},
   "outputs": [],
   "source": [
    "NROW = 6\n",
    "NCOL = 25"
   ]
  },
  {
   "cell_type": "code",
   "execution_count": 92,
   "metadata": {},
   "outputs": [],
   "source": [
    "char_layer_counts = defaultdict(lambda: defaultdict(int))\n",
    "for i, char in enumerate(data):\n",
    "    layer = i // (NROW * NCOL)\n",
    "    char_layer_counts[char][layer] += 1"
   ]
  },
  {
   "cell_type": "code",
   "execution_count": 93,
   "metadata": {},
   "outputs": [],
   "source": [
    "min_zeros = NROW * NCOL\n",
    "min_layer = None\n",
    "for layer in char_layer_counts['0']:\n",
    "    if char_layer_counts['0'][layer] < min_zeros:\n",
    "        min_zeros = char_layer_counts['0'][layer]\n",
    "        min_layer = layer"
   ]
  },
  {
   "cell_type": "code",
   "execution_count": 94,
   "metadata": {},
   "outputs": [
    {
     "data": {
      "text/plain": [
       "1620"
      ]
     },
     "execution_count": 94,
     "metadata": {},
     "output_type": "execute_result"
    }
   ],
   "source": [
    "char_layer_counts['1'][min_layer] * char_layer_counts['2'][min_layer]"
   ]
  },
  {
   "cell_type": "code",
   "execution_count": 101,
   "metadata": {},
   "outputs": [],
   "source": [
    "image = {}\n",
    "for i, char in enumerate(data):\n",
    "    row = i // NCOL % NROW\n",
    "    col = i % NCOL\n",
    "\n",
    "    if (row, col) not in image and char != '2':\n",
    "        image[(row, col)] = {'0': ' ', '1': '#'}[char]"
   ]
  },
  {
   "cell_type": "code",
   "execution_count": 102,
   "metadata": {},
   "outputs": [
    {
     "name": "stdout",
     "output_type": "stream",
     "text": [
      "###   ##  #   ##### #### \n",
      "#  # #  # #   ##    #    \n",
      "###  #     # # ###  ###  \n",
      "#  # #      #  #    #    \n",
      "#  # #  #   #  #    #    \n",
      "###   ##    #  #### #    \n"
     ]
    }
   ],
   "source": [
    "for i in range(NROW):\n",
    "    print(\"\".join([image[(i, j)] for j in range(NCOL)]))"
   ]
  },
  {
   "cell_type": "code",
   "execution_count": null,
   "metadata": {},
   "outputs": [],
   "source": []
  }
 ],
 "metadata": {
  "kernelspec": {
   "display_name": "Python 3",
   "language": "python",
   "name": "python3"
  },
  "language_info": {
   "codemirror_mode": {
    "name": "ipython",
    "version": 3
   },
   "file_extension": ".py",
   "mimetype": "text/x-python",
   "name": "python",
   "nbconvert_exporter": "python",
   "pygments_lexer": "ipython3",
   "version": "3.7.5"
  }
 },
 "nbformat": 4,
 "nbformat_minor": 2
}
