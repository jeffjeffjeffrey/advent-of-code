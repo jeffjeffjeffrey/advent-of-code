{
 "cells": [
  {
   "cell_type": "code",
   "execution_count": 3,
   "metadata": {},
   "outputs": [],
   "source": [
    "from collections import defaultdict\n",
    "from math import atan2, degrees"
   ]
  },
  {
   "cell_type": "markdown",
   "metadata": {},
   "source": [
    "# Day 10: Monitoring Station\n",
    "Here are some sample maps to test out."
   ]
  },
  {
   "cell_type": "code",
   "execution_count": 4,
   "metadata": {},
   "outputs": [],
   "source": [
    "data = [\n",
    "\".#..#\",\n",
    "\".....\",\n",
    "\"#####\",\n",
    "\"....#\",\n",
    "\"...##\",\n",
    "]"
   ]
  },
  {
   "cell_type": "code",
   "execution_count": 5,
   "metadata": {},
   "outputs": [],
   "source": [
    "data = [\n",
    "\"......#.#.\",\n",
    "\"#..#.#....\",\n",
    "\"..#######.\",\n",
    "\".#.#.###..\",\n",
    "\".#..#.....\",\n",
    "\"..#....#.#\",\n",
    "\"#..#....#.\",\n",
    "\".##.#..###\",\n",
    "\"##...#..#.\",\n",
    "\".#....####\",\n",
    "]"
   ]
  },
  {
   "cell_type": "code",
   "execution_count": 6,
   "metadata": {},
   "outputs": [],
   "source": [
    "with open('day_10.txt') as f:\n",
    "    data = [row.strip() for row in f.readlines()]"
   ]
  },
  {
   "cell_type": "markdown",
   "metadata": {},
   "source": [
    "## Part 1: find the roid who can see the most other roids\n",
    "First, convert the input data into a list of roid coordinate pairs."
   ]
  },
  {
   "cell_type": "code",
   "execution_count": 7,
   "metadata": {},
   "outputs": [],
   "source": [
    "roids = []\n",
    "for j, row in enumerate(data):\n",
    "    for i, obj in enumerate(row):\n",
    "        if obj == '#':\n",
    "            roids.append((i, j))"
   ]
  },
  {
   "cell_type": "markdown",
   "metadata": {},
   "source": [
    "Next, for each roid, figure out how many other roids it can see. To do this, we normalise each roid's coordinates by dividing by its distance to the roid we're standing on (using Manhattan distance for simplicity). Roids that are hidden behind other roids will map to the same normalized coordinates as the roid they're hiding behind.\n",
    "\n",
    "Then we just count the number of unique such normalized roids, using a `set` to help."
   ]
  },
  {
   "cell_type": "code",
   "execution_count": 8,
   "metadata": {},
   "outputs": [],
   "source": [
    "vis_totals = {}\n",
    "for roid in roids:\n",
    "    angles = set()\n",
    "    for other in roids:\n",
    "        if roid == other:\n",
    "            continue\n",
    "        rise = roid[1] - other[1]\n",
    "        run = roid[0] - other[0]\n",
    "        length = abs(rise) + abs(run)\n",
    "        angles.add((rise/length, run/length)) \n",
    "    vis_totals[roid] = len(angles)"
   ]
  },
  {
   "cell_type": "markdown",
   "metadata": {},
   "source": [
    "The best roid is the one with the highest visibility count."
   ]
  },
  {
   "cell_type": "code",
   "execution_count": 10,
   "metadata": {},
   "outputs": [
    {
     "name": "stdout",
     "output_type": "stream",
     "text": [
      "(22, 25) 286\n"
     ]
    }
   ],
   "source": [
    "best_roid, visible_roids = sorted([(k, vis_totals[k]) for k in vis_totals], key=lambda v: v[1])[-1]\n",
    "print(best_roid, visible_roids)"
   ]
  },
  {
   "cell_type": "markdown",
   "metadata": {},
   "source": [
    "## Part 2: shoot down the roids\n",
    "Now we have to figure out how to shoot all the roids in spinning order.\n",
    "\n",
    "To do this, we'll use a similar technique as before, only instead of mapping each roid to its normalized version, we're going to map it to it's clockwise-angle from 90 degrees (aka 12 o'clock).\n",
    "\n",
    "Note: to get the angles to work we have to negate the change in `y` from the usual formula. It was also a bit tricky to figure out how to convert the domain of arctan (-pi, pi) to an equivalent domain that is in our desired spinning order."
   ]
  },
  {
   "cell_type": "code",
   "execution_count": 12,
   "metadata": {},
   "outputs": [],
   "source": [
    "angles = defaultdict(list)\n",
    "for other in roids:\n",
    "    if best_roid == other:\n",
    "        continue\n",
    "    y = best_roid[1] - other[1]\n",
    "    x = other[0] - best_roid[0]\n",
    "    degs = degrees(atan2(y,x))\n",
    "    if degs <= 90:\n",
    "        angle = 90 - degs\n",
    "    else:\n",
    "        angle = 90 - degs + 360\n",
    "    angles[angle].append(other)"
   ]
  },
  {
   "cell_type": "markdown",
   "metadata": {},
   "source": [
    "Next we'll make a list version of this dict, sorted by angles, and then within each angle, the roids will be sorted by distanece from the `best_roid` (again, we use Manhattan distance for simplicity)."
   ]
  },
  {
   "cell_type": "code",
   "execution_count": 18,
   "metadata": {},
   "outputs": [],
   "source": [
    "sorted_angles = []\n",
    "for angle, roids in sorted([(k, angles[k]) for k in angles], key=lambda v: v[0]):\n",
    "    sorted_angles.append(\n",
    "        (\n",
    "            angle, \n",
    "            sorted(roids, key=lambda roid: abs(roid[0] - best_roid[0]) + abs(roid[1] - best_roid[1]))\n",
    "        )\n",
    "    )"
   ]
  },
  {
   "cell_type": "markdown",
   "metadata": {},
   "source": [
    "Then we iterate through our `sorted_angles` list, once per 360 degree rotation, popping of one roid at a time until there are none left."
   ]
  },
  {
   "cell_type": "code",
   "execution_count": 19,
   "metadata": {},
   "outputs": [],
   "source": [
    "shots = []\n",
    "while sorted_angles:\n",
    "    for angle, roids in sorted_angles:\n",
    "        shots.append(roids.pop(0))\n",
    "    sorted_angles = [pair for pair in sorted_angles if pair[1]]"
   ]
  },
  {
   "cell_type": "markdown",
   "metadata": {},
   "source": [
    "The final answer is just the coords of the 200th roid"
   ]
  },
  {
   "cell_type": "code",
   "execution_count": 20,
   "metadata": {},
   "outputs": [
    {
     "data": {
      "text/plain": [
       "(5, 4)"
      ]
     },
     "execution_count": 20,
     "metadata": {},
     "output_type": "execute_result"
    }
   ],
   "source": [
    "shots[199]"
   ]
  },
  {
   "cell_type": "code",
   "execution_count": null,
   "metadata": {},
   "outputs": [],
   "source": []
  }
 ],
 "metadata": {
  "kernelspec": {
   "display_name": "Python 3",
   "language": "python",
   "name": "python3"
  },
  "language_info": {
   "codemirror_mode": {
    "name": "ipython",
    "version": 3
   },
   "file_extension": ".py",
   "mimetype": "text/x-python",
   "name": "python",
   "nbconvert_exporter": "python",
   "pygments_lexer": "ipython3",
   "version": "3.7.5"
  }
 },
 "nbformat": 4,
 "nbformat_minor": 2
}
