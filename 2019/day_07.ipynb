{
 "cells": [
  {
   "cell_type": "markdown",
   "metadata": {},
   "source": [
    "# Day 7: Amplification Circuit\n",
    "This day will be a lot like Day 5, but with a few modifications."
   ]
  },
  {
   "cell_type": "markdown",
   "metadata": {},
   "source": [
    "Import `itertools` to get all permutations of a list."
   ]
  },
  {
   "cell_type": "code",
   "execution_count": 1,
   "metadata": {},
   "outputs": [],
   "source": [
    "import itertools"
   ]
  },
  {
   "cell_type": "code",
   "execution_count": 2,
   "metadata": {},
   "outputs": [],
   "source": [
    "with open('day_07.txt') as f:\n",
    "    data = [int(token) for token in f.readlines()[0].strip().split(',')]"
   ]
  },
  {
   "cell_type": "code",
   "execution_count": 3,
   "metadata": {},
   "outputs": [],
   "source": [
    "# Opcode IDs\n",
    "ADD = 1\n",
    "MULTIPLY = 2\n",
    "INPUT = 3\n",
    "OUTPUT = 4\n",
    "JUMP_IF_TRUE = 5\n",
    "JUMP_IF_FALSE = 6\n",
    "LESS_THAN = 7\n",
    "EQUALS = 8\n",
    "HALT = 99"
   ]
  },
  {
   "cell_type": "code",
   "execution_count": 4,
   "metadata": {},
   "outputs": [],
   "source": [
    "OP_NAMES = {\n",
    "    ADD: 'Add',\n",
    "    MULTIPLY: 'Multiply',\n",
    "    INPUT: 'Input',\n",
    "    OUTPUT: 'Output',\n",
    "    JUMP_IF_TRUE: 'Jump If True',\n",
    "    JUMP_IF_FALSE: 'Jump If False',\n",
    "    LESS_THAN: 'Less Than',\n",
    "    EQUALS: 'Equals',\n",
    "    HALT: 'Halt',\n",
    "}"
   ]
  },
  {
   "cell_type": "code",
   "execution_count": 5,
   "metadata": {},
   "outputs": [],
   "source": [
    "# Opcode param lengths\n",
    "NUM_PARAMS = {\n",
    "    ADD: 3,\n",
    "    MULTIPLY: 3,\n",
    "    INPUT: 1,\n",
    "    OUTPUT: 1,\n",
    "    JUMP_IF_TRUE: 2,\n",
    "    JUMP_IF_FALSE: 2,\n",
    "    LESS_THAN: 3,\n",
    "    EQUALS: 3,\n",
    "    HALT: 0,\n",
    "}"
   ]
  },
  {
   "cell_type": "code",
   "execution_count": 6,
   "metadata": {},
   "outputs": [],
   "source": [
    "# Opcode param modes\n",
    "POSITION_MODE = 0\n",
    "IMMEDIATE_MODE = 1"
   ]
  },
  {
   "cell_type": "code",
   "execution_count": 7,
   "metadata": {},
   "outputs": [],
   "source": [
    "ACTION_NEXT = 0\n",
    "ACTION_JUMP = 1\n",
    "ACTION_OUTPUT = 2\n",
    "ACTION_HALT = 3"
   ]
  },
  {
   "cell_type": "markdown",
   "metadata": {},
   "source": [
    "Here we are modifying the `Instruction` class by adding a `return_control` method, which returns a tuple of `action` and `value`. This will let the caller know what to do next:\n",
    "* `ACTION_NEXT` tells the caller to move the instruction pointer to the next sequential instruction (`value` is `None`)\n",
    "* `ACTION_JUMP` tells the caller to set the instruction pointer to the provided `value`\n",
    "* `ACTION_OUTPUT` tells the caller to move the instruction pointer to the next sequential instruction, pause execution, and return the provided `value` to the caller's caller (lol)\n",
    "* `ACTION_HALT` tells the caller to halt entirely"
   ]
  },
  {
   "cell_type": "code",
   "execution_count": 8,
   "metadata": {},
   "outputs": [],
   "source": [
    "class Instruction:\n",
    "    def __init__(self, opcode, length, params, modes, memory):\n",
    "        self.opcode = opcode\n",
    "        self.length = length\n",
    "        self.params = params\n",
    "        self.modes = modes\n",
    "        self.memory = memory\n",
    "        \n",
    "    def get_val(self, param_index):\n",
    "        if self.modes[param_index] == IMMEDIATE_MODE:\n",
    "            return self.params[param_index]\n",
    "        elif self.modes[param_index] == POSITION_MODE: \n",
    "            return self.memory[self.params[param_index]]\n",
    "    \n",
    "    def put_val(self, param_address_index, value):\n",
    "        self.memory[self.params[param_address_index]] = value\n",
    "        \n",
    "    def return_control(self, action = ACTION_NEXT, value = None):\n",
    "        return [action, value]"
   ]
  },
  {
   "cell_type": "markdown",
   "metadata": {},
   "source": [
    "To account for this new `return_control()` paradigm, the `call()` method of each subclass of `Instruction` will now ultimately call `return_control()` itself."
   ]
  },
  {
   "cell_type": "code",
   "execution_count": 9,
   "metadata": {},
   "outputs": [],
   "source": [
    "class Add(Instruction):\n",
    "    def call(self):\n",
    "        val0 = self.get_val(0)\n",
    "        val1 = self.get_val(1)\n",
    "        self.put_val(2, val0 + val1)\n",
    "        return self.return_control()"
   ]
  },
  {
   "cell_type": "code",
   "execution_count": 10,
   "metadata": {},
   "outputs": [],
   "source": [
    "class Multiply(Instruction):\n",
    "    def call(self):\n",
    "        val0 = self.get_val(0)\n",
    "        val1 = self.get_val(1)\n",
    "        self.put_val(2, val0 * val1)\n",
    "        return self.return_control()                     "
   ]
  },
  {
   "cell_type": "markdown",
   "metadata": {},
   "source": [
    "The `Input` instruction's `call()` method has been modified to accept a single `input_value` parameter."
   ]
  },
  {
   "cell_type": "code",
   "execution_count": 11,
   "metadata": {},
   "outputs": [],
   "source": [
    "class Input(Instruction):\n",
    "    def call(self, input_value = None):\n",
    "        self.put_val(0, input_value)\n",
    "        return self.return_control()"
   ]
  },
  {
   "cell_type": "code",
   "execution_count": 12,
   "metadata": {},
   "outputs": [],
   "source": [
    "class Output(Instruction):\n",
    "    def call(self):\n",
    "        val = self.get_val(0)\n",
    "        return self.return_control(ACTION_OUTPUT, val)"
   ]
  },
  {
   "cell_type": "code",
   "execution_count": 13,
   "metadata": {},
   "outputs": [],
   "source": [
    "class JumpIfTrue(Instruction):\n",
    "    def call(self):\n",
    "        in_val = self.get_val(0)\n",
    "        out_val = self.get_val(1)\n",
    "        if in_val:\n",
    "            return self.return_control(ACTION_JUMP, out_val)\n",
    "        return self.return_control()"
   ]
  },
  {
   "cell_type": "code",
   "execution_count": 14,
   "metadata": {},
   "outputs": [],
   "source": [
    "class JumpIfFalse(Instruction):\n",
    "    def call(self):\n",
    "        in_val = self.get_val(0)\n",
    "        out_val = self.get_val(1)\n",
    "        if not in_val:\n",
    "            return self.return_control(ACTION_JUMP, out_val)   \n",
    "        return self.return_control()"
   ]
  },
  {
   "cell_type": "code",
   "execution_count": 15,
   "metadata": {},
   "outputs": [],
   "source": [
    "class LessThan(Instruction):\n",
    "    def call(self):\n",
    "        val0 = self.get_val(0)\n",
    "        val1 = self.get_val(1)\n",
    "        out_val = 1 if val0 < val1 else 0\n",
    "        self.put_val(2, out_val)\n",
    "        return self.return_control()"
   ]
  },
  {
   "cell_type": "code",
   "execution_count": 16,
   "metadata": {},
   "outputs": [],
   "source": [
    "class Equals(Instruction):\n",
    "    def call(self):\n",
    "        val0 = self.get_val(0)\n",
    "        val1 = self.get_val(1)\n",
    "        out_val = 1 if val0 == val1 else 0\n",
    "        self.put_val(2, out_val)\n",
    "        return self.return_control()"
   ]
  },
  {
   "cell_type": "code",
   "execution_count": 25,
   "metadata": {},
   "outputs": [],
   "source": [
    "class Halt(Instruction):\n",
    "    def call(self):\n",
    "        return self.return_control(ACTION_HALT)"
   ]
  },
  {
   "cell_type": "code",
   "execution_count": 26,
   "metadata": {},
   "outputs": [],
   "source": [
    "OPS = {\n",
    "    ADD: Add,\n",
    "    MULTIPLY: Multiply,\n",
    "    INPUT: Input,\n",
    "    OUTPUT: Output,\n",
    "    JUMP_IF_TRUE: JumpIfTrue,\n",
    "    JUMP_IF_FALSE: JumpIfFalse,\n",
    "    LESS_THAN: LessThan,\n",
    "    EQUALS: Equals,\n",
    "    HALT: Halt,\n",
    "}"
   ]
  },
  {
   "cell_type": "code",
   "execution_count": 19,
   "metadata": {},
   "outputs": [],
   "source": [
    "def create_instruction(memory, memory_pointer):\n",
    "    encoded_opcode = memory[memory_pointer]\n",
    "    opcode = int(str(encoded_opcode)[-2:])\n",
    "    \n",
    "    num_params = NUM_PARAMS[opcode]\n",
    "    \n",
    "    reverse_modes = str(encoded_opcode)[:-2][::-1]\n",
    "    modes = [int(char) for char in reverse_modes] + [0] * (num_params - len(reverse_modes))\n",
    "    \n",
    "    params = memory[memory_pointer + 1 : memory_pointer + num_params + 1]\n",
    "    \n",
    "    return OPS[opcode](opcode, num_params + 1, params, modes, memory)"
   ]
  },
  {
   "cell_type": "markdown",
   "metadata": {},
   "source": [
    "The `Program` class is modified slightly now too from how it was defined in Day 5. We now provide the `run` method with a list of `input_values`. Each time the `Program` encounters an `Input` instruction, it will take the next value from the `input_values` list as its input. (This requires that the caller knows in advance how many times an `Input` instruction should be encountered.)\n",
    "\n",
    "We also add logic to deal with the `action` and `value` return tuple from the `Instruction.call` method. This allows flexibility for the `Program` to reset the `memory_pointer`, return a value to the caller, or simply halt."
   ]
  },
  {
   "cell_type": "code",
   "execution_count": 20,
   "metadata": {},
   "outputs": [],
   "source": [
    "class Program:\n",
    "    def __init__(self, initial_memory):\n",
    "        self.memory = initial_memory[:]\n",
    "        self.memory_pointer = 0\n",
    "        \n",
    "    def run(self, input_values):\n",
    "        input_counter = 0\n",
    "        while(1):\n",
    "            instruction = create_instruction(self.memory, self.memory_pointer)\n",
    "                        \n",
    "            if instruction.opcode == INPUT:\n",
    "                action, value = instruction.call(input_values[input_counter])\n",
    "                input_counter += 1\n",
    "            else:\n",
    "                action, value = instruction.call()\n",
    "            \n",
    "            if action == ACTION_NEXT:\n",
    "                self.memory_pointer += instruction.length\n",
    "            elif action == ACTION_JUMP:\n",
    "                self.memory_pointer = value\n",
    "            elif action == ACTION_HALT:\n",
    "                break\n",
    "            elif action == ACTION_OUTPUT:\n",
    "                self.memory_pointer += instruction.length\n",
    "                return value"
   ]
  },
  {
   "cell_type": "markdown",
   "metadata": {},
   "source": [
    "## Part 1\n",
    "With the above modifications to our classes, we define a helper function `run_amplifiers()`, which takes a phase sequence and runs each amplifier in order. The output of one amplifier is fed in as an input to the next amplifier."
   ]
  },
  {
   "cell_type": "code",
   "execution_count": 21,
   "metadata": {},
   "outputs": [],
   "source": [
    "def run_amplifiers(phase_sequence, data):\n",
    "    input_signal = 0\n",
    "    for phase in phase_sequence:\n",
    "        program = Program(data)\n",
    "        input_signal = program.run([phase, input_signal])\n",
    "    return input_signal"
   ]
  },
  {
   "cell_type": "markdown",
   "metadata": {},
   "source": [
    "To solve Part 1, we just iterate over all permutations of `[0,1,2,3,4]` and keep track of the highest final output of the amplifiers for each run."
   ]
  },
  {
   "cell_type": "code",
   "execution_count": 22,
   "metadata": {},
   "outputs": [
    {
     "name": "stdout",
     "output_type": "stream",
     "text": [
      "77500\n"
     ]
    }
   ],
   "source": [
    "max_signal = 0\n",
    "for phase_sequence in itertools.permutations(range(5)):\n",
    "    max_signal = max(max_signal, run_amplifiers(phase_sequence, data))\n",
    "print(max_signal)"
   ]
  },
  {
   "cell_type": "markdown",
   "metadata": {},
   "source": [
    "## Part 2\n",
    "For Part 2, we luckily don't have to change our class structure at all. In order to handle the looping paradigm for the amplifiers, we just need to make a modified version of `run_amplifiers` that has looping logic. This new function is called `loop_amplifiers`.\n",
    "\n",
    "There were some tricy parts here:\n",
    "* In order to not restart the amplifier at each new loop iteration, we have to store each amplifier as an instance of `Program`, and call `run()` on them repeatedly in subsequent loop iterations.\n",
    "* In the first iteration of the loop, each amplifier receives 2 input values, just like in Part 1. However, in all subsequent iterations of the loop, each amplifier only receives 1 input value. That's because the `phase_sequence` value is only used on the first iteration of the loop.\n",
    "* Since each amplifier is left running after it encounters its `Output` instruction, we need to make sure to advance the instruction pointer before pausing execution Otherwise, when we return to that amplifier we'll just repeat the same `Output` instruction over and over."
   ]
  },
  {
   "cell_type": "code",
   "execution_count": 23,
   "metadata": {},
   "outputs": [],
   "source": [
    "def loop_amplifiers(phase_sequence, data):\n",
    "    input_signal = 0\n",
    "    amplifier_index = 0\n",
    "    is_first_loop = True\n",
    "    amplifiers = []\n",
    "    while(1):\n",
    "        if is_first_loop:\n",
    "            program = Program(data)\n",
    "            amplifiers.append(program)\n",
    "            program_input = [phase_sequence[amplifier_index], input_signal]\n",
    "        else:\n",
    "            program = amplifiers[amplifier_index]\n",
    "            program_input = [input_signal]\n",
    "         \n",
    "        output_signal = program.run(program_input)\n",
    "        if output_signal is None:\n",
    "            return input_signal\n",
    "        input_signal = output_signal\n",
    "        amplifier_index = (amplifier_index + 1) % 5\n",
    "        if amplifier_index == 0:\n",
    "            is_first_loop = False"
   ]
  },
  {
   "cell_type": "markdown",
   "metadata": {},
   "source": [
    "To get the answer for Part 2, we just do the same iteration over permutations, this time of `[5,6,7,8,9]`. Voila!"
   ]
  },
  {
   "cell_type": "code",
   "execution_count": 24,
   "metadata": {},
   "outputs": [
    {
     "name": "stdout",
     "output_type": "stream",
     "text": [
      "22476942\n"
     ]
    }
   ],
   "source": [
    "max_signal = 0\n",
    "for phase_sequence in itertools.permutations([5,6,7,8,9]):\n",
    "    max_signal = max(max_signal, loop_amplifiers(phase_sequence, data))\n",
    "print(max_signal)"
   ]
  },
  {
   "cell_type": "code",
   "execution_count": null,
   "metadata": {},
   "outputs": [],
   "source": []
  }
 ],
 "metadata": {
  "kernelspec": {
   "display_name": "Python 3",
   "language": "python",
   "name": "python3"
  },
  "language_info": {
   "codemirror_mode": {
    "name": "ipython",
    "version": 3
   },
   "file_extension": ".py",
   "mimetype": "text/x-python",
   "name": "python",
   "nbconvert_exporter": "python",
   "pygments_lexer": "ipython3",
   "version": "3.7.5"
  }
 },
 "nbformat": 4,
 "nbformat_minor": 2
}
