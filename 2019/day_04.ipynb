{
 "cells": [
  {
   "cell_type": "markdown",
   "metadata": {},
   "source": [
    "Sample input"
   ]
  },
  {
   "cell_type": "code",
   "execution_count": 53,
   "metadata": {},
   "outputs": [],
   "source": [
    "data = '100-500'"
   ]
  },
  {
   "cell_type": "markdown",
   "metadata": {},
   "source": [
    "Official input"
   ]
  },
  {
   "cell_type": "code",
   "execution_count": 54,
   "metadata": {},
   "outputs": [],
   "source": [
    "data = '271973-785961'"
   ]
  },
  {
   "cell_type": "markdown",
   "metadata": {},
   "source": [
    "# Part 1\n",
    "Let us define some basic functions for testing whether a number is never decreasing and whether it has any repeated consecutive digits.\n",
    "\n",
    "We'll use integers for iteration, but convert each one to a string for checking digits."
   ]
  },
  {
   "cell_type": "code",
   "execution_count": 55,
   "metadata": {},
   "outputs": [],
   "source": [
    "start, end = [int(x) for x in data.split('-')]"
   ]
  },
  {
   "cell_type": "code",
   "execution_count": 56,
   "metadata": {},
   "outputs": [],
   "source": [
    "def is_nondecreasing(n):\n",
    "    string = str(n)\n",
    "    for i, char in enumerate(string[:-1]):\n",
    "        if char > string[i+1]:\n",
    "            return False\n",
    "    return True"
   ]
  },
  {
   "cell_type": "code",
   "execution_count": 57,
   "metadata": {},
   "outputs": [],
   "source": [
    "def has_repeat(n):\n",
    "    string = str(n)\n",
    "    for i, char in enumerate(string[:-1]):\n",
    "        if char == string[i+1]:\n",
    "            return True\n",
    "    return False"
   ]
  },
  {
   "cell_type": "markdown",
   "metadata": {},
   "source": [
    "Now we can go through our range of inputs and just count up the numbers that meet the criteria."
   ]
  },
  {
   "cell_type": "code",
   "execution_count": 58,
   "metadata": {},
   "outputs": [],
   "source": [
    "def pw_count(start, end):\n",
    "    total = 0\n",
    "    for n in range(start, end+1):\n",
    "        if is_nondecreasing(n) and has_repeat(n):\n",
    "            total +=1\n",
    "    return total"
   ]
  },
  {
   "cell_type": "code",
   "execution_count": 59,
   "metadata": {},
   "outputs": [
    {
     "data": {
      "text/plain": [
       "925"
      ]
     },
     "execution_count": 59,
     "metadata": {},
     "output_type": "execute_result"
    }
   ],
   "source": [
    "pw_count(start, end)"
   ]
  },
  {
   "cell_type": "markdown",
   "metadata": {},
   "source": [
    "# Part 2\n",
    "Now we need to modify the `has_repeat()` function to count repeats of length exactly 2. This is a little trickier, but we can approach it by checking each digit against the digit before it and the two digits after it."
   ]
  },
  {
   "cell_type": "code",
   "execution_count": 60,
   "metadata": {},
   "outputs": [],
   "source": [
    "def has_double(n):\n",
    "    string = str(n)\n",
    "    length = len(string)\n",
    "    prev_char = None\n",
    "    for i, char in enumerate(string[:-1]):\n",
    "        next_char = string[i+1]\n",
    "        if i == length - 2:\n",
    "            next_next_char = None\n",
    "        else:\n",
    "            next_next_char = string[i+2]\n",
    "        if char == next_char and char != prev_char and char != next_next_char:\n",
    "            return True\n",
    "        prev_char = char\n",
    "    return False"
   ]
  },
  {
   "cell_type": "markdown",
   "metadata": {},
   "source": [
    "Just like in Part 1, we can iterate over our entire range and count up the numbers that meet our new criteria."
   ]
  },
  {
   "cell_type": "code",
   "execution_count": 61,
   "metadata": {},
   "outputs": [],
   "source": [
    "def pw_count_2(start, end):\n",
    "    total = 0\n",
    "    for n in range(start, end+1):\n",
    "        if is_nondecreasing(n) and has_double(n):\n",
    "            total +=1\n",
    "    return total"
   ]
  },
  {
   "cell_type": "code",
   "execution_count": 62,
   "metadata": {},
   "outputs": [
    {
     "data": {
      "text/plain": [
       "607"
      ]
     },
     "execution_count": 62,
     "metadata": {},
     "output_type": "execute_result"
    }
   ],
   "source": [
    "pw_count_2(start, end)"
   ]
  },
  {
   "cell_type": "code",
   "execution_count": null,
   "metadata": {},
   "outputs": [],
   "source": []
  }
 ],
 "metadata": {
  "kernelspec": {
   "display_name": "Python 3",
   "language": "python",
   "name": "python3"
  },
  "language_info": {
   "codemirror_mode": {
    "name": "ipython",
    "version": 3
   },
   "file_extension": ".py",
   "mimetype": "text/x-python",
   "name": "python",
   "nbconvert_exporter": "python",
   "pygments_lexer": "ipython3",
   "version": "3.7.5"
  }
 },
 "nbformat": 4,
 "nbformat_minor": 2
}
