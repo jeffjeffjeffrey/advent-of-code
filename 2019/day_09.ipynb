{
 "cells": [
  {
   "cell_type": "markdown",
   "metadata": {},
   "source": [
    "# Day 9: Sensor Boost\n",
    "This adds a couple more features to the Day 7 Intcode computer, mostly around the Relative Base Offset concept. We also refactor and simplify a lot of the class structure from Day 7."
   ]
  },
  {
   "cell_type": "markdown",
   "metadata": {},
   "source": [
    "Import `defaultdict` to make the input memory array more growable."
   ]
  },
  {
   "cell_type": "code",
   "execution_count": 1,
   "metadata": {},
   "outputs": [],
   "source": [
    "from collections import defaultdict"
   ]
  },
  {
   "cell_type": "markdown",
   "metadata": {},
   "source": [
    "Here we simplify the `Instruction` class to remove any logic besides the basic reading from params and writing to memory. The logic for handling `modes` and for what kind of action to take upon completion are both left up to the caller."
   ]
  },
  {
   "cell_type": "code",
   "execution_count": 2,
   "metadata": {},
   "outputs": [],
   "source": [
    "class Instruction:\n",
    "    def __init__(self, opcode, length, param_locations, param_values, memory):\n",
    "        self.opcode = opcode\n",
    "        self.length = length\n",
    "        self.param_locations = param_locations\n",
    "        self.param_values = param_values\n",
    "        self.memory = memory\n",
    "        \n",
    "    def get_val(self, i):\n",
    "        return self.param_values[i]\n",
    "    \n",
    "    def set_val(self, i, val):\n",
    "        self.memory[self.param_locations[i]] = val"
   ]
  },
  {
   "cell_type": "markdown",
   "metadata": {},
   "source": [
    "We also simplify the individual `Instruction` subclasses by not requiring them to return anything."
   ]
  },
  {
   "cell_type": "code",
   "execution_count": 3,
   "metadata": {},
   "outputs": [],
   "source": [
    "class Add(Instruction):\n",
    "    def call(self):\n",
    "        self.set_val(2, self.get_val(0) + self.get_val(1))"
   ]
  },
  {
   "cell_type": "code",
   "execution_count": 4,
   "metadata": {},
   "outputs": [],
   "source": [
    "class Multiply(Instruction):\n",
    "    def call(self):\n",
    "        self.set_val(2, self.get_val(0) * self.get_val(1))"
   ]
  },
  {
   "cell_type": "code",
   "execution_count": 5,
   "metadata": {},
   "outputs": [],
   "source": [
    "class Input(Instruction):\n",
    "    def call(self, input_value):\n",
    "        self.set_val(0, input_value)"
   ]
  },
  {
   "cell_type": "code",
   "execution_count": 6,
   "metadata": {},
   "outputs": [],
   "source": [
    "class Output(Instruction):\n",
    "    def call(self):\n",
    "        return self.get_val(0)"
   ]
  },
  {
   "cell_type": "code",
   "execution_count": 7,
   "metadata": {},
   "outputs": [],
   "source": [
    "class JumpIfTrue(Instruction):\n",
    "    def call(self):\n",
    "        return self.get_val(1) if self.get_val(0) else None"
   ]
  },
  {
   "cell_type": "code",
   "execution_count": 8,
   "metadata": {},
   "outputs": [],
   "source": [
    "class JumpIfFalse(Instruction):\n",
    "    def call(self):\n",
    "        return self.get_val(1) if not self.get_val(0) else None"
   ]
  },
  {
   "cell_type": "code",
   "execution_count": 9,
   "metadata": {},
   "outputs": [],
   "source": [
    "class LessThan(Instruction):\n",
    "    def call(self):\n",
    "        val = 1 if self.get_val(0) < self.get_val(1) else 0\n",
    "        self.set_val(2, val)"
   ]
  },
  {
   "cell_type": "code",
   "execution_count": 10,
   "metadata": {},
   "outputs": [],
   "source": [
    "class Equals(Instruction):\n",
    "    def call(self):\n",
    "        val = 1 if self.get_val(0) == self.get_val(1) else 0\n",
    "        self.set_val(2, val)"
   ]
  },
  {
   "cell_type": "markdown",
   "metadata": {},
   "source": [
    "This new Instruction returns a value to the caller so it can adjust the `relative_base`."
   ]
  },
  {
   "cell_type": "code",
   "execution_count": 11,
   "metadata": {},
   "outputs": [],
   "source": [
    "class RelativeBaseOffset(Instruction):\n",
    "    def call(self):\n",
    "        return self.get_val(0)"
   ]
  },
  {
   "cell_type": "code",
   "execution_count": 12,
   "metadata": {},
   "outputs": [],
   "source": [
    "class Halt(Instruction):\n",
    "    pass"
   ]
  },
  {
   "cell_type": "markdown",
   "metadata": {},
   "source": [
    "Here we do an overhaul to the `IntcodeComputer` class (f.k.a. `Program`). All the global constants are now in here, as is the `create_instruction()` method, which also handles `mode` interpretation.\n",
    "\n",
    "One of the new requirements is that the `memory` we keep track of needs to be able to be arbitrarily expanded as the program executes. To do this we convert the data structure of the `memory` from a list to a `defaultdict`."
   ]
  },
  {
   "cell_type": "code",
   "execution_count": 13,
   "metadata": {},
   "outputs": [],
   "source": [
    "class IntcodeComputer:\n",
    "    # Instruction opcodes\n",
    "    ADD = 1\n",
    "    MULTIPLY = 2\n",
    "    INPUT = 3\n",
    "    OUTPUT = 4\n",
    "    JUMP_IF_TRUE = 5\n",
    "    JUMP_IF_FALSE = 6\n",
    "    LESS_THAN = 7\n",
    "    EQUALS = 8\n",
    "    RELATIVE_BASE_OFFSET = 9\n",
    "    HALT = 99\n",
    "    \n",
    "    LENGTHS = {\n",
    "        ADD: 4,\n",
    "        MULTIPLY: 4,\n",
    "        INPUT: 2,\n",
    "        OUTPUT: 2,\n",
    "        JUMP_IF_TRUE: 3,\n",
    "        JUMP_IF_FALSE: 3,\n",
    "        LESS_THAN: 4,\n",
    "        EQUALS: 4,\n",
    "        RELATIVE_BASE_OFFSET: 2,\n",
    "        HALT: 1,\n",
    "    }\n",
    "    \n",
    "    INSTRUCTIONS = {\n",
    "        ADD: Add,\n",
    "        MULTIPLY: Multiply,\n",
    "        INPUT: Input,\n",
    "        OUTPUT: Output,\n",
    "        JUMP_IF_TRUE: JumpIfTrue,\n",
    "        JUMP_IF_FALSE: JumpIfFalse,\n",
    "        LESS_THAN: LessThan,\n",
    "        EQUALS: Equals,\n",
    "        RELATIVE_BASE_OFFSET: RelativeBaseOffset,\n",
    "        HALT: Halt,\n",
    "    }\n",
    "    \n",
    "    POSITION_MODE = '0'\n",
    "    IMMEDIATE_MODE = '1'\n",
    "    RELATIVE_MODE = '2'\n",
    "    \n",
    "    def __init__(self, program):\n",
    "        self.memory = program.copy()\n",
    "        self.memory_pointer = 0\n",
    "        self.relative_base = 0\n",
    "        \n",
    "    def create_instruction(self):\n",
    "        op = str(self.memory[self.memory_pointer])\n",
    "        opcode = int(op[-2:])    \n",
    "        length = self.LENGTHS[opcode]\n",
    "        args = [self.memory[self.memory_pointer + i] for i in range(1, length)]\n",
    "        modes = op[:-2].zfill(length - 1)[::-1]\n",
    "        locs = []\n",
    "        vals = []\n",
    "        for arg, mode in zip(args, modes):\n",
    "            if mode == self.POSITION_MODE: \n",
    "                locs.append(arg)\n",
    "                vals.append(self.memory[arg])\n",
    "            elif mode == self.IMMEDIATE_MODE:\n",
    "                locs.append(None)\n",
    "                vals.append(arg)\n",
    "            elif mode == self.RELATIVE_MODE:\n",
    "                locs.append(arg + self.relative_base)\n",
    "                vals.append(self.memory[arg + self.relative_base])\n",
    "\n",
    "        return self.INSTRUCTIONS[opcode](opcode, length, locs, vals, self.memory)\n",
    "        \n",
    "    def run(self, inputs = []):\n",
    "        while True:\n",
    "            instruction = self.create_instruction()\n",
    "            \n",
    "            if instruction.opcode == self.HALT:\n",
    "                break\n",
    "            elif instruction.opcode == self.INPUT:\n",
    "                value = instruction.call(inputs.pop(0))\n",
    "            else:\n",
    "                value = instruction.call()\n",
    "            \n",
    "            self.memory_pointer += instruction.length\n",
    "            if instruction.opcode in [self.JUMP_IF_TRUE, self.JUMP_IF_FALSE] and value is not None:\n",
    "                self.memory_pointer = value\n",
    "            elif instruction.opcode == self.RELATIVE_BASE_OFFSET:\n",
    "                self.relative_base += value\n",
    "            elif instruction.opcode == self.OUTPUT:\n",
    "                yield value\n",
    "\n",
    "    @staticmethod\n",
    "    def to_program(data):\n",
    "        return defaultdict(int, enumerate(data))"
   ]
  },
  {
   "cell_type": "markdown",
   "metadata": {},
   "source": [
    "Let's run some tests. This program's output should be a copy of the program itself! WTF "
   ]
  },
  {
   "cell_type": "code",
   "execution_count": 14,
   "metadata": {},
   "outputs": [
    {
     "data": {
      "text/plain": [
       "[109, 1, 204, -1, 1001, 100, 1, 100, 1008, 100, 16, 101, 1006, 101, 0, 99]"
      ]
     },
     "execution_count": 14,
     "metadata": {},
     "output_type": "execute_result"
    }
   ],
   "source": [
    "data = [109,1,204,-1,1001,100,1,100,1008,100,16,101,1006,101,0,99]\n",
    "program = IntcodeComputer.to_program(data)\n",
    "output = IntcodeComputer(program).run()\n",
    "list(output)"
   ]
  },
  {
   "cell_type": "markdown",
   "metadata": {},
   "source": [
    "This program should make a giant integer. This is to make sure that our program can handle big ints."
   ]
  },
  {
   "cell_type": "code",
   "execution_count": 15,
   "metadata": {},
   "outputs": [
    {
     "data": {
      "text/plain": [
       "[1219070632396864]"
      ]
     },
     "execution_count": 15,
     "metadata": {},
     "output_type": "execute_result"
    }
   ],
   "source": [
    "data = [1102,34915192,34915192,7,4,7,99,0]\n",
    "program = IntcodeComputer.to_program(data)\n",
    "output = IntcodeComputer(program).run()\n",
    "list(output)"
   ]
  },
  {
   "cell_type": "markdown",
   "metadata": {},
   "source": [
    "One more test, for old times sake."
   ]
  },
  {
   "cell_type": "code",
   "execution_count": 16,
   "metadata": {},
   "outputs": [
    {
     "data": {
      "text/plain": [
       "[1125899906842624]"
      ]
     },
     "execution_count": 16,
     "metadata": {},
     "output_type": "execute_result"
    }
   ],
   "source": [
    "data = [104,1125899906842624,99]\n",
    "program = IntcodeComputer.to_program(data)\n",
    "output = IntcodeComputer(program).run()\n",
    "list(output)"
   ]
  },
  {
   "cell_type": "markdown",
   "metadata": {},
   "source": [
    "## Part 1:\n",
    "Run the program with input `1`. This takes a few milliseconds to run. Not bad!"
   ]
  },
  {
   "cell_type": "code",
   "execution_count": 17,
   "metadata": {},
   "outputs": [],
   "source": [
    "with open('day_09.txt') as f:\n",
    "    data = [int(token) for token in f.readlines()[0].strip().split(',')]"
   ]
  },
  {
   "cell_type": "code",
   "execution_count": 18,
   "metadata": {},
   "outputs": [
    {
     "name": "stdout",
     "output_type": "stream",
     "text": [
      "CPU times: user 1.34 ms, sys: 49 µs, total: 1.39 ms\n",
      "Wall time: 1.39 ms\n"
     ]
    },
    {
     "data": {
      "text/plain": [
       "[2457252183]"
      ]
     },
     "execution_count": 18,
     "metadata": {},
     "output_type": "execute_result"
    }
   ],
   "source": [
    "%%time\n",
    "program = IntcodeComputer.to_program(data)\n",
    "output = IntcodeComputer(program).run([1])\n",
    "list(output)"
   ]
  },
  {
   "cell_type": "markdown",
   "metadata": {},
   "source": [
    "## Part 2:\n",
    "Run the same program, but with input `2`. This one takes longer, but still just a couple seconds. I guess we coded this puppy efficiently enough!"
   ]
  },
  {
   "cell_type": "code",
   "execution_count": 19,
   "metadata": {},
   "outputs": [
    {
     "name": "stdout",
     "output_type": "stream",
     "text": [
      "CPU times: user 2.08 s, sys: 7.76 ms, total: 2.09 s\n",
      "Wall time: 2.09 s\n"
     ]
    },
    {
     "data": {
      "text/plain": [
       "[70634]"
      ]
     },
     "execution_count": 19,
     "metadata": {},
     "output_type": "execute_result"
    }
   ],
   "source": [
    "%%time\n",
    "program = IntcodeComputer.to_program(data)\n",
    "output = IntcodeComputer(program).run([2])\n",
    "list(output)"
   ]
  },
  {
   "cell_type": "code",
   "execution_count": null,
   "metadata": {},
   "outputs": [],
   "source": []
  }
 ],
 "metadata": {
  "kernelspec": {
   "display_name": "Python 3",
   "language": "python",
   "name": "python3"
  },
  "language_info": {
   "codemirror_mode": {
    "name": "ipython",
    "version": 3
   },
   "file_extension": ".py",
   "mimetype": "text/x-python",
   "name": "python",
   "nbconvert_exporter": "python",
   "pygments_lexer": "ipython3",
   "version": "3.7.5"
  }
 },
 "nbformat": 4,
 "nbformat_minor": 2
}
