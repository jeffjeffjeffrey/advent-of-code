{
 "cells": [
  {
   "cell_type": "markdown",
   "metadata": {},
   "source": [
    "# Day 9: Sensor Boost\n",
    "This adds a couple more features to the Day 7 Intcode computer, mostly around the Relative Base Offset concept."
   ]
  },
  {
   "cell_type": "markdown",
   "metadata": {},
   "source": [
    "Import `defaultdict` to make the input memory array more growable."
   ]
  },
  {
   "cell_type": "code",
   "execution_count": 149,
   "metadata": {},
   "outputs": [],
   "source": [
    "from collections import defaultdict"
   ]
  },
  {
   "cell_type": "code",
   "execution_count": 150,
   "metadata": {},
   "outputs": [],
   "source": [
    "# Opcode IDs\n",
    "ADD = 1\n",
    "MULTIPLY = 2\n",
    "INPUT = 3\n",
    "OUTPUT = 4\n",
    "JUMP_IF_TRUE = 5\n",
    "JUMP_IF_FALSE = 6\n",
    "LESS_THAN = 7\n",
    "EQUALS = 8\n",
    "RELATIVE_BASE_OFFSET = 9\n",
    "HALT = 99"
   ]
  },
  {
   "cell_type": "code",
   "execution_count": 151,
   "metadata": {},
   "outputs": [],
   "source": [
    "OP_NAMES = {\n",
    "    ADD: 'Add',\n",
    "    MULTIPLY: 'Multiply',\n",
    "    INPUT: 'Input',\n",
    "    OUTPUT: 'Output',\n",
    "    JUMP_IF_TRUE: 'Jump If True',\n",
    "    JUMP_IF_FALSE: 'Jump If False',\n",
    "    LESS_THAN: 'Less Than',\n",
    "    EQUALS: 'Equals',\n",
    "    RELATIVE_BASE_OFFSET: 'Relative Base Offset',\n",
    "    HALT: 'Halt',\n",
    "}"
   ]
  },
  {
   "cell_type": "code",
   "execution_count": 152,
   "metadata": {},
   "outputs": [],
   "source": [
    "# Opcode param lengths\n",
    "NUM_PARAMS = {\n",
    "    ADD: 3,\n",
    "    MULTIPLY: 3,\n",
    "    INPUT: 1,\n",
    "    OUTPUT: 1,\n",
    "    JUMP_IF_TRUE: 2,\n",
    "    JUMP_IF_FALSE: 2,\n",
    "    LESS_THAN: 3,\n",
    "    EQUALS: 3,\n",
    "    RELATIVE_BASE_OFFSET: 1,\n",
    "    HALT: 0,\n",
    "}"
   ]
  },
  {
   "cell_type": "markdown",
   "metadata": {},
   "source": [
    "We now add a new parameter mode: `RELATIVE_MODE`."
   ]
  },
  {
   "cell_type": "code",
   "execution_count": 153,
   "metadata": {},
   "outputs": [],
   "source": [
    "# Opcode param modes\n",
    "POSITION_MODE = 0\n",
    "IMMEDIATE_MODE = 1\n",
    "RELATIVE_MODE = 2"
   ]
  },
  {
   "cell_type": "markdown",
   "metadata": {},
   "source": [
    "We also add a new post-`Instruction` action called `ACTION_RELATIVE_BASE`. This will be used when the `RelativeBaseOffset` instruction finishes, and the global value of the relative base needs to be updated in the `Program` class for the next `Instructions` to use. "
   ]
  },
  {
   "cell_type": "code",
   "execution_count": 154,
   "metadata": {},
   "outputs": [],
   "source": [
    "ACTION_NEXT = 0\n",
    "ACTION_JUMP = 1\n",
    "ACTION_OUTPUT = 2\n",
    "ACTION_RELATIVE_BASE = 3\n",
    "ACTION_HALT = 99"
   ]
  },
  {
   "cell_type": "markdown",
   "metadata": {},
   "source": [
    "We also modify the `Instruction` class to have an attribute called `relative_base`. This is used when reading or writing in relative mode, which is now implemented in the `get_val()` and `put_val()` methods, respectively."
   ]
  },
  {
   "cell_type": "code",
   "execution_count": 155,
   "metadata": {},
   "outputs": [],
   "source": [
    "class Instruction:\n",
    "    def __init__(self, opcode, length, params, modes, relative_base, memory):\n",
    "        self.opcode = opcode\n",
    "        self.length = length\n",
    "        self.params = params\n",
    "        self.modes = modes\n",
    "        self.relative_base = relative_base\n",
    "        self.memory = memory\n",
    "        \n",
    "    def get_val(self, param_index):\n",
    "        if self.modes[param_index] == IMMEDIATE_MODE:\n",
    "            return self.params[param_index]\n",
    "        elif self.modes[param_index] == POSITION_MODE: \n",
    "            return self.memory[self.params[param_index]]\n",
    "        elif self.modes[param_index] == RELATIVE_MODE:\n",
    "            return self.memory[self.params[param_index] + self.relative_base]\n",
    "    \n",
    "    def put_val(self, param_index, value):\n",
    "        if self.modes[param_index] == POSITION_MODE:\n",
    "            self.memory[self.params[param_index]] = value\n",
    "        elif self.modes[param_index] == RELATIVE_MODE:\n",
    "            self.memory[self.params[param_index] + self.relative_base] = value\n",
    "        \n",
    "    def return_control(self, action = ACTION_NEXT, value = None):\n",
    "        return [action, value]"
   ]
  },
  {
   "cell_type": "code",
   "execution_count": 156,
   "metadata": {},
   "outputs": [],
   "source": [
    "class Add(Instruction):\n",
    "    def call(self):\n",
    "        val0 = self.get_val(0)\n",
    "        val1 = self.get_val(1)\n",
    "        self.put_val(2, val0 + val1)\n",
    "        return self.return_control()"
   ]
  },
  {
   "cell_type": "code",
   "execution_count": 157,
   "metadata": {},
   "outputs": [],
   "source": [
    "class Multiply(Instruction):\n",
    "    def call(self):\n",
    "        val0 = self.get_val(0)\n",
    "        val1 = self.get_val(1)\n",
    "        self.put_val(2, val0 * val1)\n",
    "        return self.return_control()                     "
   ]
  },
  {
   "cell_type": "code",
   "execution_count": 158,
   "metadata": {},
   "outputs": [],
   "source": [
    "class Input(Instruction):\n",
    "    def call(self, input_value = None):\n",
    "        self.put_val(0, input_value)\n",
    "        return self.return_control()"
   ]
  },
  {
   "cell_type": "code",
   "execution_count": 159,
   "metadata": {},
   "outputs": [],
   "source": [
    "class Output(Instruction):\n",
    "    def call(self):\n",
    "        val = self.get_val(0)\n",
    "        return self.return_control(ACTION_OUTPUT, val)"
   ]
  },
  {
   "cell_type": "code",
   "execution_count": 160,
   "metadata": {},
   "outputs": [],
   "source": [
    "class JumpIfTrue(Instruction):\n",
    "    def call(self):\n",
    "        in_val = self.get_val(0)\n",
    "        out_val = self.get_val(1)\n",
    "        if in_val:\n",
    "            return self.return_control(ACTION_JUMP, out_val)\n",
    "        return self.return_control()"
   ]
  },
  {
   "cell_type": "code",
   "execution_count": 161,
   "metadata": {},
   "outputs": [],
   "source": [
    "class JumpIfFalse(Instruction):\n",
    "    def call(self):\n",
    "        in_val = self.get_val(0)\n",
    "        out_val = self.get_val(1)\n",
    "        if not in_val:\n",
    "            return self.return_control(ACTION_JUMP, out_val)   \n",
    "        return self.return_control()"
   ]
  },
  {
   "cell_type": "code",
   "execution_count": 162,
   "metadata": {},
   "outputs": [],
   "source": [
    "class LessThan(Instruction):\n",
    "    def call(self):\n",
    "        val0 = self.get_val(0)\n",
    "        val1 = self.get_val(1)\n",
    "        out_val = 1 if val0 < val1 else 0\n",
    "        self.put_val(2, out_val)\n",
    "        return self.return_control()"
   ]
  },
  {
   "cell_type": "code",
   "execution_count": 163,
   "metadata": {},
   "outputs": [],
   "source": [
    "class Equals(Instruction):\n",
    "    def call(self):\n",
    "        val0 = self.get_val(0)\n",
    "        val1 = self.get_val(1)\n",
    "        out_val = 1 if val0 == val1 else 0\n",
    "        self.put_val(2, out_val)\n",
    "        return self.return_control()"
   ]
  },
  {
   "cell_type": "markdown",
   "metadata": {},
   "source": [
    "Here is the `RelativeBaseOffset` instruction. All it does is grab a value from memory and return the `relative_base` adjusted by that value."
   ]
  },
  {
   "cell_type": "code",
   "execution_count": 164,
   "metadata": {},
   "outputs": [],
   "source": [
    "class RelativeBaseOffset(Instruction):\n",
    "    def call(self):\n",
    "        val = self.get_val(0)\n",
    "        return self.return_control(ACTION_RELATIVE_BASE, self.relative_base + val)"
   ]
  },
  {
   "cell_type": "code",
   "execution_count": 165,
   "metadata": {},
   "outputs": [],
   "source": [
    "class Halt(Instruction):\n",
    "    def call(self):\n",
    "        return self.return_control(ACTION_HALT)"
   ]
  },
  {
   "cell_type": "code",
   "execution_count": 166,
   "metadata": {},
   "outputs": [],
   "source": [
    "OPS = {\n",
    "    ADD: Add,\n",
    "    MULTIPLY: Multiply,\n",
    "    INPUT: Input,\n",
    "    OUTPUT: Output,\n",
    "    JUMP_IF_TRUE: JumpIfTrue,\n",
    "    JUMP_IF_FALSE: JumpIfFalse,\n",
    "    LESS_THAN: LessThan,\n",
    "    EQUALS: Equals,\n",
    "    RELATIVE_BASE_OFFSET: RelativeBaseOffset,\n",
    "    HALT: Halt,\n",
    "}"
   ]
  },
  {
   "cell_type": "code",
   "execution_count": 167,
   "metadata": {},
   "outputs": [],
   "source": [
    "def create_instruction(memory, memory_pointer, relative_base):\n",
    "    encoded_opcode = memory[memory_pointer]\n",
    "    opcode = int(str(encoded_opcode)[-2:])\n",
    "    \n",
    "    num_params = NUM_PARAMS[opcode]\n",
    "    \n",
    "    reverse_modes = str(encoded_opcode)[:-2][::-1]\n",
    "    modes = [int(char) for char in reverse_modes] + [0] * (num_params - len(reverse_modes))\n",
    "    \n",
    "    params = [memory[i] for i in range(memory_pointer + 1, memory_pointer + num_params + 1)]\n",
    "    \n",
    "    return OPS[opcode](opcode, num_params + 1, params, modes, relative_base, memory)"
   ]
  },
  {
   "cell_type": "markdown",
   "metadata": {},
   "source": [
    "The only real difference to the `Program` class is again the addition of `relative_base`, and the `ACTION_RELATIVE_BASE` logic for when the `RelativeBaseOffset` instruction is encountered. This action is the same as the standard `ACTION_NEXT`, except it also updates the `relative_base` attribute of the `Program`."
   ]
  },
  {
   "cell_type": "code",
   "execution_count": 168,
   "metadata": {},
   "outputs": [],
   "source": [
    "class Program:\n",
    "    def __init__(self, initial_memory):\n",
    "        self.memory = initial_memory.copy()\n",
    "        self.memory_pointer = 0\n",
    "        self.relative_base = 0\n",
    "        \n",
    "    def run(self, input_values = []):\n",
    "        input_counter = 0\n",
    "        while(1):\n",
    "            instruction = create_instruction(self.memory, self.memory_pointer, self.relative_base)\n",
    "            if instruction.opcode == INPUT:\n",
    "                action, value = instruction.call(input_values[input_counter])\n",
    "                input_counter += 1\n",
    "            else:\n",
    "                action, value = instruction.call()\n",
    "            \n",
    "            if action == ACTION_NEXT:\n",
    "                self.memory_pointer += instruction.length\n",
    "            elif action == ACTION_JUMP:\n",
    "                self.memory_pointer = value\n",
    "            elif action == ACTION_HALT:\n",
    "                break\n",
    "            elif action == ACTION_OUTPUT:\n",
    "                print(value)\n",
    "                self.memory_pointer += instruction.length\n",
    "            elif action == ACTION_RELATIVE_BASE:\n",
    "                self.relative_base = value\n",
    "                self.memory_pointer += instruction.length"
   ]
  },
  {
   "cell_type": "markdown",
   "metadata": {},
   "source": [
    "One of the new requirements is that the `memory` we keep track of needs to be able to be arbitrarily expanded as the program executes. To do this we convert the data structure of the `memory` from a list to a default dict, where the indexes are the keys."
   ]
  },
  {
   "cell_type": "code",
   "execution_count": 173,
   "metadata": {},
   "outputs": [],
   "source": [
    "def to_dictionary(data):\n",
    "    dd = defaultdict(int)\n",
    "    for i, val in enumerate(data):\n",
    "        dd[i] = val\n",
    "    return dd"
   ]
  },
  {
   "cell_type": "markdown",
   "metadata": {},
   "source": [
    "Let's run some tests. This program's output should be a copy of the program itself! WTF "
   ]
  },
  {
   "cell_type": "code",
   "execution_count": 174,
   "metadata": {},
   "outputs": [
    {
     "name": "stdout",
     "output_type": "stream",
     "text": [
      "109\n",
      "1\n",
      "204\n",
      "-1\n",
      "1001\n",
      "100\n",
      "1\n",
      "100\n",
      "1008\n",
      "100\n",
      "16\n",
      "101\n",
      "1006\n",
      "101\n",
      "0\n",
      "99\n"
     ]
    }
   ],
   "source": [
    "data = [109,1,204,-1,1001,100,1,100,1008,100,16,101,1006,101,0,99]\n",
    "data_dict = to_dictionary(data)\n",
    "Program(data_dict).run()"
   ]
  },
  {
   "cell_type": "markdown",
   "metadata": {},
   "source": [
    "This program should make a giant integer. This is to make sure that our program can handle big ints."
   ]
  },
  {
   "cell_type": "code",
   "execution_count": 175,
   "metadata": {},
   "outputs": [
    {
     "name": "stdout",
     "output_type": "stream",
     "text": [
      "1219070632396864\n"
     ]
    }
   ],
   "source": [
    "data = [1102,34915192,34915192,7,4,7,99,0]\n",
    "data_dict = to_dictionary(data)\n",
    "Program(data_dict).run()"
   ]
  },
  {
   "cell_type": "markdown",
   "metadata": {},
   "source": [
    "One more test, for old times sake."
   ]
  },
  {
   "cell_type": "code",
   "execution_count": 176,
   "metadata": {},
   "outputs": [
    {
     "name": "stdout",
     "output_type": "stream",
     "text": [
      "1125899906842624\n"
     ]
    }
   ],
   "source": [
    "data = [104,1125899906842624,99]\n",
    "data_dict = to_dictionary(data)\n",
    "Program(data_dict).run()"
   ]
  },
  {
   "cell_type": "markdown",
   "metadata": {},
   "source": [
    "## Part 1:\n",
    "Run the program with input `1`. This takes about 6ms to run. Not bad!"
   ]
  },
  {
   "cell_type": "code",
   "execution_count": 177,
   "metadata": {},
   "outputs": [],
   "source": [
    "with open('day_09.txt') as f:\n",
    "    data = [int(token) for token in f.readlines()[0].strip().split(',')]"
   ]
  },
  {
   "cell_type": "code",
   "execution_count": 178,
   "metadata": {},
   "outputs": [
    {
     "name": "stdout",
     "output_type": "stream",
     "text": [
      "2457252183\n",
      "CPU times: user 2.21 ms, sys: 1.82 ms, total: 4.03 ms\n",
      "Wall time: 6.05 ms\n"
     ]
    }
   ],
   "source": [
    "%%time\n",
    "data_dict = to_dictionary(data)\n",
    "Program(data_dict).run([1])"
   ]
  },
  {
   "cell_type": "markdown",
   "metadata": {},
   "source": [
    "## Part 2:\n",
    "Run the same program, but with input `2`. This one takes longer, but still just 2.1 seconds. I guess we coded this puppy efficiently enough!"
   ]
  },
  {
   "cell_type": "code",
   "execution_count": 172,
   "metadata": {},
   "outputs": [
    {
     "name": "stdout",
     "output_type": "stream",
     "text": [
      "70634\n",
      "CPU times: user 2.08 s, sys: 7.82 ms, total: 2.09 s\n",
      "Wall time: 2.1 s\n"
     ]
    }
   ],
   "source": [
    "%%time\n",
    "data_dict = to_dictionary(data)\n",
    "Program(data_dict).run([2])"
   ]
  },
  {
   "cell_type": "code",
   "execution_count": null,
   "metadata": {},
   "outputs": [],
   "source": []
  }
 ],
 "metadata": {
  "kernelspec": {
   "display_name": "Python 3",
   "language": "python",
   "name": "python3"
  },
  "language_info": {
   "codemirror_mode": {
    "name": "ipython",
    "version": 3
   },
   "file_extension": ".py",
   "mimetype": "text/x-python",
   "name": "python",
   "nbconvert_exporter": "python",
   "pygments_lexer": "ipython3",
   "version": "3.7.5"
  }
 },
 "nbformat": 4,
 "nbformat_minor": 2
}
