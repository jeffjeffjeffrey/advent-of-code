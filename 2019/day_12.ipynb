{
 "cells": [
  {
   "cell_type": "markdown",
   "metadata": {},
   "source": [
    "# Day 12: The N-Body Problem"
   ]
  },
  {
   "cell_type": "code",
   "execution_count": 90,
   "metadata": {},
   "outputs": [],
   "source": [
    "class Moon:\n",
    "    def __init__(self, position):\n",
    "        self.position = position\n",
    "        self.velocity = [0, 0, 0]\n",
    "        \n",
    "    def apply_gravity(self, other_moon):\n",
    "        for i in range(3):\n",
    "            if self.position[i] < other_moon.position[i]:\n",
    "                self.velocity[i] += 1\n",
    "            elif self.position[i] > other_moon.position[i]:\n",
    "                self.velocity[i] -= 1\n",
    "\n",
    "    def apply_velocity(self):\n",
    "        for i in range(3):\n",
    "            self.position[i] += self.velocity[i]\n",
    "            \n",
    "    def potential_energy(self):\n",
    "        return sum([abs(self.position[i]) for i in range(3)])\n",
    "    \n",
    "    def kinetic_energy(self):\n",
    "        return sum([abs(self.velocity[i]) for i in range(3)])\n",
    "    \n",
    "    def total_energy(self):\n",
    "        return self.potential_energy() * self.kinetic_energy()\n",
    "        \n",
    "    @staticmethod\n",
    "    def build(string):\n",
    "        return Moon([int(coord.split(\"=\")[1]) for coord in string[1:-1].split(\", \")])"
   ]
  },
  {
   "cell_type": "code",
   "execution_count": 80,
   "metadata": {},
   "outputs": [],
   "source": [
    "def time_step(moons):\n",
    "    for moon in moons:\n",
    "        for other_moon in moons:\n",
    "            moon.apply_gravity(other_moon)\n",
    "    for moon in moons:\n",
    "        moon.apply_velocity()"
   ]
  },
  {
   "cell_type": "code",
   "execution_count": 149,
   "metadata": {},
   "outputs": [],
   "source": [
    "# test input 1\n",
    "data = [   \n",
    "    \"<x=-1, y=0, z=2>\",\n",
    "    \"<x=2, y=-10, z=-7>\",\n",
    "    \"<x=4, y=-8, z=8>\",\n",
    "    \"<x=3, y=5, z=-1>\"\n",
    "]"
   ]
  },
  {
   "cell_type": "code",
   "execution_count": 132,
   "metadata": {},
   "outputs": [],
   "source": [
    "# test input 2\n",
    "data = [\n",
    "    \"<x=-8, y=-10, z=0>\",\n",
    "    \"<x=5, y=5, z=10>\",\n",
    "    \"<x=2, y=-7, z=3>\",\n",
    "    \"<x=9, y=-8, z=-3>\"\n",
    "]"
   ]
  },
  {
   "cell_type": "code",
   "execution_count": 138,
   "metadata": {},
   "outputs": [],
   "source": [
    "# official input\n",
    "data = [\n",
    "    \"<x=17, y=5, z=1>\",\n",
    "    \"<x=-2, y=-8, z=8>\",\n",
    "    \"<x=7, y=-6, z=14>\",\n",
    "    \"<x=1, y=-10, z=4>\"\n",
    "]"
   ]
  },
  {
   "cell_type": "markdown",
   "metadata": {},
   "source": [
    "## Part 1"
   ]
  },
  {
   "cell_type": "code",
   "execution_count": 146,
   "metadata": {},
   "outputs": [],
   "source": [
    "moons = [Moon.build(m) for m in data]"
   ]
  },
  {
   "cell_type": "code",
   "execution_count": 147,
   "metadata": {},
   "outputs": [],
   "source": [
    "for i in range(1000):\n",
    "    time_step(moons)"
   ]
  },
  {
   "cell_type": "code",
   "execution_count": 148,
   "metadata": {},
   "outputs": [
    {
     "data": {
      "text/plain": [
       "9876"
      ]
     },
     "execution_count": 148,
     "metadata": {},
     "output_type": "execute_result"
    }
   ],
   "source": [
    "sum([moon.total_energy() for moon in moons])"
   ]
  },
  {
   "cell_type": "markdown",
   "metadata": {},
   "source": [
    "## Part 2"
   ]
  },
  {
   "cell_type": "code",
   "execution_count": 97,
   "metadata": {},
   "outputs": [],
   "source": [
    "def signature(axis, moons):\n",
    "    return str([(moon.position[axis], moon.velocity[axis]) for moon in moons])"
   ]
  },
  {
   "cell_type": "code",
   "execution_count": 139,
   "metadata": {},
   "outputs": [],
   "source": [
    "moons = [Moon.build(m) for m in data]\n",
    "state = [{}, {}, {}]\n",
    "cycles = [None, None, None]"
   ]
  },
  {
   "cell_type": "code",
   "execution_count": 140,
   "metadata": {},
   "outputs": [
    {
     "name": "stdout",
     "output_type": "stream",
     "text": [
      "axis 2 repeats on 0 102356\n",
      "axis 1 repeats on 0 167624\n",
      "axis 0 repeats on 0 286332\n"
     ]
    }
   ],
   "source": [
    "i = 0\n",
    "while not all(cycles):\n",
    "    for axis in range(3):\n",
    "        if cycles[axis]:\n",
    "            continue\n",
    "        sig = signature(axis, moons)\n",
    "        if sig in state[axis]:\n",
    "            print(\"axis\", axis, \"repeats on\", state[axis][sig], i)\n",
    "            cycles[axis] = (state[axis][sig], i)\n",
    "        state[axis][sig] = i\n",
    "    time_step(moons)\n",
    "    i += 1"
   ]
  },
  {
   "cell_type": "code",
   "execution_count": 112,
   "metadata": {},
   "outputs": [],
   "source": [
    "from math import gcd"
   ]
  },
  {
   "cell_type": "code",
   "execution_count": 142,
   "metadata": {},
   "outputs": [],
   "source": [
    "def lcm(ints):\n",
    "    m = 1\n",
    "    for n in ints:\n",
    "        m = int(m * n / gcd(m, n))\n",
    "    return m"
   ]
  },
  {
   "cell_type": "code",
   "execution_count": 145,
   "metadata": {},
   "outputs": [
    {
     "data": {
      "text/plain": [
       "307043147758488"
      ]
     },
     "execution_count": 145,
     "metadata": {},
     "output_type": "execute_result"
    }
   ],
   "source": [
    "lcm([cycle[1] for cycle in cycles])"
   ]
  },
  {
   "cell_type": "code",
   "execution_count": null,
   "metadata": {},
   "outputs": [],
   "source": []
  }
 ],
 "metadata": {
  "kernelspec": {
   "display_name": "Python 3",
   "language": "python",
   "name": "python3"
  },
  "language_info": {
   "codemirror_mode": {
    "name": "ipython",
    "version": 3
   },
   "file_extension": ".py",
   "mimetype": "text/x-python",
   "name": "python",
   "nbconvert_exporter": "python",
   "pygments_lexer": "ipython3",
   "version": "3.7.5"
  }
 },
 "nbformat": 4,
 "nbformat_minor": 2
}
