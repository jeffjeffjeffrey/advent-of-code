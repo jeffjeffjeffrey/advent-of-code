{
 "cells": [
  {
   "cell_type": "markdown",
   "metadata": {},
   "source": [
    "# Day 15: Oxygen System"
   ]
  },
  {
   "cell_type": "code",
   "execution_count": 143,
   "metadata": {},
   "outputs": [],
   "source": [
    "from collections import defaultdict\n",
    "from queue import Queue"
   ]
  },
  {
   "cell_type": "code",
   "execution_count": 4,
   "metadata": {},
   "outputs": [],
   "source": [
    "class Instruction:\n",
    "    def __init__(self, opcode, length, param_locations, param_values, memory):\n",
    "        self.opcode = opcode\n",
    "        self.length = length\n",
    "        self.param_locations = param_locations\n",
    "        self.param_values = param_values\n",
    "        self.memory = memory\n",
    "        \n",
    "    def get_val(self, i):\n",
    "        return self.param_values[i]\n",
    "    \n",
    "    def set_val(self, i, val):\n",
    "        self.memory[self.param_locations[i]] = val"
   ]
  },
  {
   "cell_type": "code",
   "execution_count": 5,
   "metadata": {},
   "outputs": [],
   "source": [
    "class Add(Instruction):\n",
    "    def call(self):\n",
    "        self.set_val(2, self.get_val(0) + self.get_val(1))"
   ]
  },
  {
   "cell_type": "code",
   "execution_count": 6,
   "metadata": {},
   "outputs": [],
   "source": [
    "class Multiply(Instruction):\n",
    "    def call(self):\n",
    "        self.set_val(2, self.get_val(0) * self.get_val(1))"
   ]
  },
  {
   "cell_type": "code",
   "execution_count": 7,
   "metadata": {},
   "outputs": [],
   "source": [
    "class Input(Instruction):\n",
    "    def call(self, input_value):\n",
    "        self.set_val(0, input_value)"
   ]
  },
  {
   "cell_type": "code",
   "execution_count": 8,
   "metadata": {},
   "outputs": [],
   "source": [
    "class Output(Instruction):\n",
    "    def call(self):\n",
    "        return self.get_val(0)"
   ]
  },
  {
   "cell_type": "code",
   "execution_count": 9,
   "metadata": {},
   "outputs": [],
   "source": [
    "class JumpIfTrue(Instruction):\n",
    "    def call(self):\n",
    "        return self.get_val(1) if self.get_val(0) else None"
   ]
  },
  {
   "cell_type": "code",
   "execution_count": 10,
   "metadata": {},
   "outputs": [],
   "source": [
    "class JumpIfFalse(Instruction):\n",
    "    def call(self):\n",
    "        return self.get_val(1) if not self.get_val(0) else None"
   ]
  },
  {
   "cell_type": "code",
   "execution_count": 11,
   "metadata": {},
   "outputs": [],
   "source": [
    "class LessThan(Instruction):\n",
    "    def call(self):\n",
    "        val = 1 if self.get_val(0) < self.get_val(1) else 0\n",
    "        self.set_val(2, val)"
   ]
  },
  {
   "cell_type": "code",
   "execution_count": 12,
   "metadata": {},
   "outputs": [],
   "source": [
    "class Equals(Instruction):\n",
    "    def call(self):\n",
    "        val = 1 if self.get_val(0) == self.get_val(1) else 0\n",
    "        self.set_val(2, val)"
   ]
  },
  {
   "cell_type": "code",
   "execution_count": 13,
   "metadata": {},
   "outputs": [],
   "source": [
    "class RelativeBaseOffset(Instruction):\n",
    "    def call(self):\n",
    "        return self.get_val(0)"
   ]
  },
  {
   "cell_type": "code",
   "execution_count": 14,
   "metadata": {},
   "outputs": [],
   "source": [
    "class Halt(Instruction):\n",
    "    pass"
   ]
  },
  {
   "cell_type": "code",
   "execution_count": 15,
   "metadata": {},
   "outputs": [],
   "source": [
    "class IntcodeComputer:\n",
    "    # Instruction opcodes\n",
    "    ADD = 1\n",
    "    MULTIPLY = 2\n",
    "    INPUT = 3\n",
    "    OUTPUT = 4\n",
    "    JUMP_IF_TRUE = 5\n",
    "    JUMP_IF_FALSE = 6\n",
    "    LESS_THAN = 7\n",
    "    EQUALS = 8\n",
    "    RELATIVE_BASE_OFFSET = 9\n",
    "    HALT = 99\n",
    "    \n",
    "    LENGTHS = {\n",
    "        ADD: 4,\n",
    "        MULTIPLY: 4,\n",
    "        INPUT: 2,\n",
    "        OUTPUT: 2,\n",
    "        JUMP_IF_TRUE: 3,\n",
    "        JUMP_IF_FALSE: 3,\n",
    "        LESS_THAN: 4,\n",
    "        EQUALS: 4,\n",
    "        RELATIVE_BASE_OFFSET: 2,\n",
    "        HALT: 1,\n",
    "    }\n",
    "    \n",
    "    INSTRUCTIONS = {\n",
    "        ADD: Add,\n",
    "        MULTIPLY: Multiply,\n",
    "        INPUT: Input,\n",
    "        OUTPUT: Output,\n",
    "        JUMP_IF_TRUE: JumpIfTrue,\n",
    "        JUMP_IF_FALSE: JumpIfFalse,\n",
    "        LESS_THAN: LessThan,\n",
    "        EQUALS: Equals,\n",
    "        RELATIVE_BASE_OFFSET: RelativeBaseOffset,\n",
    "        HALT: Halt,\n",
    "    }\n",
    "    \n",
    "    POSITION_MODE = '0'\n",
    "    IMMEDIATE_MODE = '1'\n",
    "    RELATIVE_MODE = '2'\n",
    "    \n",
    "    def __init__(self, program):\n",
    "        self.memory = program.copy()\n",
    "        self.memory_pointer = 0\n",
    "        self.relative_base = 0\n",
    "        self.inputs = []\n",
    "        \n",
    "    def create_instruction(self):\n",
    "        op = str(self.memory[self.memory_pointer])\n",
    "        opcode = int(op[-2:])    \n",
    "        length = self.LENGTHS[opcode]\n",
    "        args = [self.memory[self.memory_pointer + i] for i in range(1, length)]\n",
    "        modes = op[:-2].zfill(length - 1)[::-1]\n",
    "        locs = []\n",
    "        vals = []\n",
    "        for arg, mode in zip(args, modes):\n",
    "            if mode == self.POSITION_MODE: \n",
    "                locs.append(arg)\n",
    "                vals.append(self.memory[arg])\n",
    "            elif mode == self.IMMEDIATE_MODE:\n",
    "                locs.append(None)\n",
    "                vals.append(arg)\n",
    "            elif mode == self.RELATIVE_MODE:\n",
    "                locs.append(arg + self.relative_base)\n",
    "                vals.append(self.memory[arg + self.relative_base])\n",
    "\n",
    "        return self.INSTRUCTIONS[opcode](opcode, length, locs, vals, self.memory)\n",
    "    \n",
    "    def queue_input(self, input_value):\n",
    "        self.inputs.append(input_value)\n",
    "        \n",
    "    def run(self):\n",
    "        while True:\n",
    "            instruction = self.create_instruction()\n",
    "            if instruction.opcode == self.HALT:\n",
    "                break\n",
    "            elif instruction.opcode == self.INPUT:\n",
    "                value = instruction.call(self.inputs.pop(0))\n",
    "            else:\n",
    "                value = instruction.call()\n",
    "            \n",
    "            self.memory_pointer += instruction.length\n",
    "            if instruction.opcode in [self.JUMP_IF_TRUE, self.JUMP_IF_FALSE] and value is not None:\n",
    "                self.memory_pointer = value\n",
    "            elif instruction.opcode == self.RELATIVE_BASE_OFFSET:\n",
    "                self.relative_base += value\n",
    "            elif instruction.opcode == self.OUTPUT:\n",
    "                yield value\n",
    "\n",
    "    @staticmethod\n",
    "    def to_program(data):\n",
    "        return defaultdict(int, enumerate(data.copy()))"
   ]
  },
  {
   "cell_type": "code",
   "execution_count": 16,
   "metadata": {},
   "outputs": [],
   "source": [
    "with open('day_15.txt') as f:\n",
    "    data = [int(token) for token in f.readlines()[0].strip().split(',')]"
   ]
  },
  {
   "cell_type": "markdown",
   "metadata": {},
   "source": [
    "## Part 1\n",
    "For this part we are first going to traverse the entire maze to create the adjacency list of all positions in the maze. \n",
    "\n",
    "Then we're going to use a breadth-first search approach to get all distances between the start position and the oxygen."
   ]
  },
  {
   "cell_type": "code",
   "execution_count": 164,
   "metadata": {},
   "outputs": [],
   "source": [
    "NORTH = 1\n",
    "SOUTH = 2\n",
    "WEST = 3\n",
    "EAST = 4\n",
    "\n",
    "HIT_WALL = 0\n",
    "MADE_STEP = 1\n",
    "FOUND_OXYGEN = 2\n",
    "\n",
    "START_LOC = 0j\n",
    "\n",
    "STEP_DIR = {\n",
    "    NORTH: 1j,\n",
    "    SOUTH: -1j,\n",
    "    WEST: -1 + 0j,\n",
    "    EAST: 1 + 0j\n",
    "}\n",
    "\n",
    "WALL_CRUMB = -1\n",
    "\n",
    "START = \"🎅🏻\"\n",
    "WALL = \"🌲\"\n",
    "PATH = \"🌫\"\n",
    "OXYGEN = '🎁'"
   ]
  },
  {
   "cell_type": "markdown",
   "metadata": {},
   "source": [
    "In order to exhaustively traverse the maze with the robot, I wanted to make sure not to accidentally have a traversal scheme that would miss any pathways or get stuck in any loops. \n",
    "\n",
    "To achieve this, I leave a trail of breadcrumbs (a dict called `crumbs` from position to an integer) everywhere the robot goes. When the robot needs to choose which direction to move, it will always choose the direction with the least breadcrumbs, i.e. the path it has visited the least. \n",
    "\n",
    "This ensures the robot won't get stuck in some kind of weird loop based on hardcoded navigation rules.\n",
    "\n",
    "I also wanted to be able to know when the robot has explored all pathways in the maze for a halting condition. To do this, I keep a set called `unvisited`. When the robot is at one location, any unvisited adjacent locations get added to `unvisited`. When the robot steps into a new position, we remove it from `unvisited`. The function halts when `unvisited` is empty."
   ]
  },
  {
   "cell_type": "code",
   "execution_count": 138,
   "metadata": {},
   "outputs": [],
   "source": [
    "def build_maze(computer, start_loc):\n",
    "    edges = defaultdict(set)\n",
    "    crumbs = defaultdict(int)\n",
    "    loc = start_loc\n",
    "    oxygen_loc = None\n",
    "    crumbs[loc] = 1\n",
    "    direction = NORTH\n",
    "    computer.queue_input(direction)\n",
    "    unvisited = set()\n",
    "    for status in computer.run():\n",
    "        tried_loc = loc + STEP_DIR[direction]\n",
    "        unvisited.discard(tried_loc)\n",
    "        \n",
    "        if status == HIT_WALL:\n",
    "            crumbs[tried_loc] = WALL_CRUMB\n",
    "        else:\n",
    "            edges[loc].add(tried_loc)\n",
    "            edges[tried_loc].add(loc)\n",
    "            loc = tried_loc\n",
    "            crumbs[loc] += 1\n",
    "        \n",
    "        if status == FOUND_OXYGEN:\n",
    "            oxygen_loc = loc\n",
    "        \n",
    "        min_crumbs = None\n",
    "        for d in [NORTH, SOUTH, WEST, EAST]:\n",
    "            neighbor = loc + STEP_DIR[d]\n",
    "            if crumbs[neighbor] == WALL_CRUMB:\n",
    "                continue\n",
    "                \n",
    "            crumb_count = crumbs[neighbor]\n",
    "            if crumb_count == 0:\n",
    "                unvisited.add(neighbor)\n",
    "            if min_crumbs is None or crumb_count < min_crumbs:\n",
    "                min_crumbs = crumb_count\n",
    "                direction = d\n",
    "        if not unvisited:\n",
    "            break\n",
    "        computer.queue_input(direction)\n",
    "    return [edges, oxygen_loc]"
   ]
  },
  {
   "cell_type": "code",
   "execution_count": 139,
   "metadata": {},
   "outputs": [],
   "source": [
    "program = IntcodeComputer.to_program(data)\n",
    "computer = IntcodeComputer(program)"
   ]
  },
  {
   "cell_type": "code",
   "execution_count": 140,
   "metadata": {},
   "outputs": [],
   "source": [
    "edges, oxygen_loc = build_maze(computer, START_LOC)"
   ]
  },
  {
   "cell_type": "markdown",
   "metadata": {},
   "source": [
    "Once we have the maze in adjacency list form (`edges`), we can use `get_distances` to find the minimum distance from the starting point to the oxygen location."
   ]
  },
  {
   "cell_type": "code",
   "execution_count": 154,
   "metadata": {},
   "outputs": [],
   "source": [
    "def get_distances(edges, start_loc):\n",
    "    distances = {start_loc: 0}\n",
    "    loc_queue = Queue()\n",
    "    loc_queue.put(start_loc)\n",
    "    while not loc_queue.empty():\n",
    "        loc = loc_queue.get()\n",
    "        for neighbor in edges[loc]:\n",
    "            if neighbor not in distances or distances[loc] + 1 < distances[neighbor]:\n",
    "                distances[neighbor] = distances[loc] + 1\n",
    "                loc_queue.put(neighbor)\n",
    "    return distances"
   ]
  },
  {
   "cell_type": "code",
   "execution_count": 155,
   "metadata": {
    "scrolled": true
   },
   "outputs": [
    {
     "data": {
      "text/plain": [
       "232"
      ]
     },
     "execution_count": 155,
     "metadata": {},
     "output_type": "execute_result"
    }
   ],
   "source": [
    "get_distances(edges, START_LOC)[oxygen_loc]"
   ]
  },
  {
   "cell_type": "markdown",
   "metadata": {},
   "source": [
    "## Part 2\n",
    "We've already done all the hard work! For Part 2, we just need to find the max distance from the oxygen to any other point in the maze."
   ]
  },
  {
   "cell_type": "code",
   "execution_count": 156,
   "metadata": {},
   "outputs": [
    {
     "data": {
      "text/plain": [
       "320"
      ]
     },
     "execution_count": 156,
     "metadata": {},
     "output_type": "execute_result"
    }
   ],
   "source": [
    "max(get_distances(edges, oxygen_loc).values())"
   ]
  },
  {
   "cell_type": "markdown",
   "metadata": {},
   "source": [
    "Just for fun, I also wrote a function to print the maze."
   ]
  },
  {
   "cell_type": "code",
   "execution_count": 165,
   "metadata": {},
   "outputs": [],
   "source": [
    "def print_maze(path_locs, start_loc, oxygen_loc):\n",
    "    maze = defaultdict(lambda: WALL)\n",
    "    for loc in path_locs:\n",
    "        maze[loc] = PATH\n",
    "    maze[start_loc] = START\n",
    "    maze[oxygen_loc]= OXYGEN\n",
    "    min_x = min([int(loc.real) for loc in path_locs]) - 1\n",
    "    max_x = max([int(loc.real) for loc in path_locs]) + 1\n",
    "    min_y = min([int(loc.imag) for loc in path_locs]) - 1\n",
    "    max_y = max([int(loc.imag) for loc in path_locs]) + 1\n",
    "    for y in range(max_y, min_y - 1, -1):\n",
    "        row = [maze[complex(x, y)] for x in range(min_x, max_x + 1)]\n",
    "        print(\"\".join(row))"
   ]
  },
  {
   "cell_type": "code",
   "execution_count": 166,
   "metadata": {},
   "outputs": [
    {
     "name": "stdout",
     "output_type": "stream",
     "text": [
      "🌲🌲🌲🌲🌲🌲🌲🌲🌲🌲🌲🌲🌲🌲🌲🌲🌲🌲🌲🌲🌲🌲🌲🌲🌲🌲🌲🌲🌲🌲🌲🌲🌲🌲🌲🌲🌲🌲🌲🌲🌲\n",
      "🌲🌫🌫🌫🌫🌫🌫🌫🌫🌫🌫🌫🌲🌫🌫🌫🌫🌫🌫🌫🌫🌫🌫🌫🌫🌫🌫🌫🌫🌫🌫🌫🌫🌫🌲🌫🌫🌫🌫🌫🌲\n",
      "🌲🌫🌲🌫🌲🌫🌲🌲🌲🌲🌲🌲🌲🌫🌲🌲🌲🌲🌲🌲🌲🌲🌲🌲🌲🌫🌲🌲🌲🌲🌲🌫🌲🌫🌲🌲🌲🌫🌲🌫🌲\n",
      "🌲🌫🌲🌫🌲🌫🌲🌫🌫🌫🌫🌫🌫🌫🌲🌫🌲🌫🌫🌫🌫🌫🌫🌫🌲🌫🌫🌫🌲🌫🌫🌫🌲🌫🌫🌫🌲🌫🌲🌫🌲\n",
      "🌲🌫🌲🌫🌲🌫🌲🌫🌲🌲🌲🌲🌲🌲🌲🌫🌲🌫🌲🌲🌲🌲🌲🌫🌲🌫🌲🌲🌲🌫🌲🌲🌲🌲🌲🌫🌲🌲🌲🌫🌲\n",
      "🌲🌫🌲🌫🌲🌫🌲🌫🌫🌫🌲🌫🌫🌫🌫🌫🌲🌫🌲🌫🌫🌫🌲🌫🌲🌫🌲🌫🌫🌫🌲🌫🌫🌫🌲🌫🌫🌫🌫🌫🌲\n",
      "🌲🌲🌲🌫🌲🌲🌲🌲🌲🌫🌲🌫🌲🌫🌲🌲🌲🌫🌲🌫🌲🌲🌲🌫🌲🌲🌲🌫🌲🌲🌲🌫🌲🌫🌲🌲🌲🌲🌲🌫🌲\n",
      "🌲🌫🌫🌫🌲🌫🌫🌫🌫🌫🌲🌫🌲🌫🌲🌫🌫🌫🌲🌫🌫🌫🌫🌫🌫🌫🌲🌫🌫🌫🌫🌫🌲🌫🌲🎁🌲🌫🌫🌫🌲\n",
      "🌲🌫🌲🌲🌲🌫🌲🌲🌲🌲🌲🌲🌲🌫🌲🌫🌲🌲🌲🌲🌲🌲🌲🌲🌲🌫🌲🌲🌲🌲🌲🌲🌲🌫🌲🌫🌲🌫🌲🌲🌲\n",
      "🌲🌫🌲🌫🌫🌫🌲🌫🌫🌫🌫🌫🌫🌫🌲🌫🌫🌫🌫🌫🌫🌫🌲🌫🌲🌫🌫🌫🌫🌫🌫🌫🌫🌫🌲🌫🌫🌫🌫🌫🌲\n",
      "🌲🌫🌲🌫🌲🌲🌲🌫🌲🌲🌲🌲🌲🌫🌲🌲🌲🌲🌲🌫🌲🌫🌲🌫🌲🌫🌲🌲🌲🌲🌲🌲🌲🌲🌲🌲🌲🌲🌲🌲🌲\n",
      "🌲🌫🌲🌫🌲🌫🌫🌫🌫🌫🌲🌫🌫🌫🌲🌫🌫🌫🌲🌫🌲🌫🌲🌫🌫🌫🌲🌫🌫🌫🌫🌫🌲🌫🌫🌫🌲🌫🌫🌫🌲\n",
      "🌲🌫🌲🌫🌲🌫🌲🌲🌲🌫🌲🌫🌲🌲🌲🌫🌲🌫🌲🌫🌲🌫🌲🌲🌲🌲🌲🌫🌲🌲🌲🌫🌲🌫🌲🌫🌲🌫🌲🌫🌲\n",
      "🌲🌫🌫🌫🌲🌫🌲🌫🌫🌫🌲🌫🌫🌫🌲🌫🌲🌫🌲🌫🌲🌫🌫🌫🌫🌫🌫🌫🌫🌫🌲🌫🌲🌫🌲🌫🌲🌫🌲🌫🌲\n",
      "🌲🌫🌲🌲🌲🌲🌲🌫🌲🌲🌲🌲🌲🌫🌲🌫🌲🌫🌲🌲🌲🌲🌲🌲🌲🌲🌲🌲🌲🌲🌲🌫🌲🌫🌲🌫🌲🌫🌲🌫🌲\n",
      "🌲🌫🌫🌫🌫🌫🌫🌫🌲🌫🌫🌫🌲🌫🌲🌫🌲🌫🌫🌫🌲🌫🌫🌫🌲🌫🌫🌫🌲🌫🌫🌫🌲🌫🌲🌫🌫🌫🌲🌫🌲\n",
      "🌲🌲🌲🌲🌲🌲🌲🌲🌲🌫🌲🌲🌲🌫🌲🌫🌲🌲🌲🌫🌲🌫🌲🌫🌲🌫🌲🌫🌲🌫🌲🌲🌲🌫🌲🌲🌲🌲🌲🌫🌲\n",
      "🌲🌫🌲🌫🌫🌫🌫🌫🌫🌫🌫🌫🌫🌫🌲🌫🌲🌫🌫🌫🌫🌫🌲🌫🌫🌫🌲🌫🌲🌫🌫🌫🌫🌫🌫🌫🌫🌫🌲🌫🌲\n",
      "🌲🌫🌲🌫🌲🌲🌲🌲🌲🌲🌲🌲🌲🌲🌲🌫🌲🌫🌲🌲🌲🌲🌲🌲🌲🌲🌲🌫🌲🌲🌲🌫🌲🌲🌲🌲🌲🌲🌲🌫🌲\n",
      "🌲🌫🌫🌫🌲🌫🌫🌫🌫🌫🌫🌫🌲🌫🌲🌫🌲🌫🌲🌫🌫🌫🌲🌫🌫🌫🌲🌫🌫🌫🌲🌫🌲🌫🌫🌫🌫🌫🌫🌫🌲\n",
      "🌲🌫🌲🌲🌲🌫🌲🌲🌲🌲🌲🌫🌲🌫🌲🌫🌲🌲🌲🌫🌲🌫🌲🌫🌲🌫🌲🌲🌲🌫🌲🌫🌲🌫🌲🌲🌲🌲🌲🌲🌲\n",
      "🌲🌫🌫🌫🌲🌫🌫🌫🌲🌫🌫🌫🌫🌫🌲🌫🌫🌫🌫🌫🌲🎅🏻🌲🌫🌲🌫🌫🌫🌲🌫🌲🌫🌲🌫🌫🌫🌫🌫🌫🌫🌲\n",
      "🌲🌲🌲🌫🌲🌫🌲🌫🌲🌲🌲🌲🌲🌫🌲🌲🌲🌲🌲🌲🌲🌲🌲🌫🌲🌲🌲🌲🌲🌫🌲🌲🌲🌲🌲🌫🌲🌲🌲🌫🌲\n",
      "🌲🌫🌫🌫🌲🌫🌲🌫🌫🌫🌲🌫🌲🌫🌲🌫🌫🌫🌫🌫🌫🌫🌲🌫🌫🌫🌫🌫🌲🌫🌫🌫🌫🌫🌲🌫🌲🌫🌫🌫🌲\n",
      "🌲🌫🌲🌲🌲🌫🌲🌲🌲🌫🌲🌫🌲🌫🌲🌫🌲🌲🌲🌲🌲🌫🌲🌲🌲🌲🌲🌫🌲🌲🌲🌲🌲🌫🌲🌫🌲🌫🌲🌲🌲\n",
      "🌲🌫🌲🌫🌫🌫🌲🌫🌫🌫🌲🌫🌲🌫🌫🌫🌲🌫🌲🌫🌫🌫🌲🌫🌫🌫🌫🌫🌫🌫🌲🌫🌫🌫🌲🌫🌲🌫🌫🌫🌲\n",
      "🌲🌫🌲🌲🌲🌲🌲🌫🌲🌲🌲🌫🌲🌲🌲🌲🌲🌫🌲🌫🌲🌲🌲🌫🌲🌲🌲🌲🌲🌫🌲🌫🌲🌲🌲🌲🌲🌲🌲🌫🌲\n",
      "🌲🌫🌫🌫🌫🌫🌫🌫🌲🌫🌫🌫🌲🌫🌫🌫🌲🌫🌫🌫🌲🌫🌫🌫🌲🌫🌫🌫🌫🌫🌲🌫🌫🌫🌫🌫🌫🌫🌫🌫🌲\n",
      "🌲🌲🌲🌲🌲🌲🌲🌲🌲🌫🌲🌫🌲🌫🌲🌫🌲🌫🌲🌲🌲🌲🌲🌫🌲🌫🌲🌲🌲🌲🌲🌲🌲🌲🌲🌲🌲🌲🌲🌲🌲\n",
      "🌲🌫🌫🌫🌫🌫🌫🌫🌫🌫🌲🌫🌲🌫🌲🌫🌲🌫🌲🌫🌫🌫🌲🌫🌲🌫🌫🌫🌲🌫🌲🌫🌫🌫🌲🌫🌫🌫🌫🌫🌲\n",
      "🌲🌫🌲🌲🌲🌫🌲🌲🌲🌲🌲🌫🌲🌫🌲🌫🌲🌫🌲🌫🌲🌫🌲🌫🌲🌲🌲🌫🌲🌫🌲🌫🌲🌫🌲🌫🌲🌫🌲🌲🌲\n",
      "🌲🌫🌫🌫🌲🌫🌫🌫🌫🌫🌲🌫🌫🌫🌲🌫🌲🌫🌲🌫🌲🌫🌫🌫🌲🌫🌲🌫🌲🌫🌲🌫🌲🌫🌲🌫🌲🌫🌫🌫🌲\n",
      "🌲🌲🌲🌫🌲🌲🌲🌲🌲🌫🌲🌲🌲🌲🌲🌫🌲🌫🌲🌫🌲🌲🌲🌲🌲🌫🌲🌫🌲🌫🌲🌫🌲🌫🌲🌫🌲🌲🌲🌫🌲\n",
      "🌲🌫🌲🌫🌲🌫🌫🌫🌲🌫🌫🌫🌲🌫🌫🌫🌲🌫🌲🌫🌲🌫🌫🌫🌫🌫🌲🌫🌲🌫🌲🌫🌲🌫🌫🌫🌲🌫🌫🌫🌲\n",
      "🌲🌫🌲🌫🌲🌫🌲🌫🌲🌲🌲🌫🌲🌲🌲🌲🌲🌫🌲🌫🌲🌫🌲🌲🌲🌲🌲🌫🌲🌫🌲🌫🌲🌲🌲🌲🌲🌫🌲🌲🌲\n",
      "🌲🌫🌲🌫🌲🌫🌲🌫🌫🌫🌫🌫🌲🌫🌫🌫🌫🌫🌲🌫🌲🌫🌫🌫🌲🌫🌫🌫🌲🌫🌲🌫🌲🌫🌫🌫🌲🌫🌫🌫🌲\n",
      "🌲🌫🌲🌫🌲🌫🌲🌲🌲🌫🌲🌲🌲🌫🌲🌲🌲🌲🌲🌫🌲🌲🌲🌫🌲🌫🌲🌲🌲🌫🌲🌫🌲🌲🌲🌫🌲🌲🌲🌫🌲\n",
      "🌲🌫🌫🌫🌲🌫🌫🌫🌲🌫🌲🌫🌫🌫🌲🌫🌫🌫🌫🌫🌲🌫🌫🌫🌲🌫🌫🌫🌲🌫🌫🌫🌫🌫🌫🌫🌲🌫🌫🌫🌲\n",
      "🌲🌫🌲🌲🌲🌲🌲🌫🌲🌲🌲🌫🌲🌲🌲🌫🌲🌲🌲🌲🌲🌫🌲🌲🌲🌲🌲🌫🌲🌲🌲🌲🌲🌲🌲🌲🌲🌫🌲🌫🌲\n",
      "🌲🌫🌫🌫🌫🌫🌲🌫🌫🌫🌫🌫🌫🌫🌫🌫🌲🌫🌫🌫🌫🌫🌫🌫🌫🌫🌫🌫🌫🌫🌫🌫🌫🌫🌫🌫🌫🌫🌲🌫🌲\n",
      "🌲🌲🌲🌲🌲🌲🌲🌲🌲🌲🌲🌲🌲🌲🌲🌲🌲🌲🌲🌲🌲🌲🌲🌲🌲🌲🌲🌲🌲🌲🌲🌲🌲🌲🌲🌲🌲🌲🌲🌲🌲\n"
     ]
    }
   ],
   "source": [
    "print_maze(edges, START_LOC, oxygen_loc)"
   ]
  },
  {
   "cell_type": "code",
   "execution_count": null,
   "metadata": {},
   "outputs": [],
   "source": []
  }
 ],
 "metadata": {
  "kernelspec": {
   "display_name": "Python 3",
   "language": "python",
   "name": "python3"
  },
  "language_info": {
   "codemirror_mode": {
    "name": "ipython",
    "version": 3
   },
   "file_extension": ".py",
   "mimetype": "text/x-python",
   "name": "python",
   "nbconvert_exporter": "python",
   "pygments_lexer": "ipython3",
   "version": "3.7.5"
  }
 },
 "nbformat": 4,
 "nbformat_minor": 2
}
