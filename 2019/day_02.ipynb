{
 "cells": [
  {
   "cell_type": "code",
   "execution_count": 1,
   "metadata": {},
   "outputs": [],
   "source": [
    "with open('day_02.txt') as f:\n",
    "    data = [int(token) for token in f.readlines()[0].strip().split(',')]"
   ]
  },
  {
   "cell_type": "markdown",
   "metadata": {},
   "source": [
    "# Part 1"
   ]
  },
  {
   "cell_type": "code",
   "execution_count": 2,
   "metadata": {},
   "outputs": [],
   "source": [
    "program = data.copy()\n",
    "program[1] = 12\n",
    "program[2] = 2"
   ]
  },
  {
   "cell_type": "code",
   "execution_count": 3,
   "metadata": {},
   "outputs": [],
   "source": [
    "def run(input_program):\n",
    "    cursor = 0\n",
    "    while program[cursor] != 99:\n",
    "        input1_index = program[cursor + 1]\n",
    "        input2_index = program[cursor + 2]\n",
    "        output_index = program[cursor + 3]\n",
    "        if program[cursor] == 1:\n",
    "            program[output_index] = program[input1_index] + program[input2_index]\n",
    "        elif program[cursor] == 2:\n",
    "            program[output_index] = program[input1_index] * program[input2_index]\n",
    "        else:\n",
    "            return -1\n",
    "        cursor += 4\n",
    "    return program[0]"
   ]
  },
  {
   "cell_type": "code",
   "execution_count": 4,
   "metadata": {},
   "outputs": [
    {
     "data": {
      "text/plain": [
       "5866714"
      ]
     },
     "execution_count": 4,
     "metadata": {},
     "output_type": "execute_result"
    }
   ],
   "source": [
    "run(program)"
   ]
  },
  {
   "cell_type": "markdown",
   "metadata": {},
   "source": [
    "# Part 2"
   ]
  },
  {
   "cell_type": "code",
   "execution_count": 5,
   "metadata": {},
   "outputs": [
    {
     "name": "stdout",
     "output_type": "stream",
     "text": [
      "52 8 5208\n"
     ]
    }
   ],
   "source": [
    "target = 19690720\n",
    "for noun in range(100):\n",
    "    for verb in range(100):\n",
    "        program = data.copy()\n",
    "        program[1] = noun\n",
    "        program[2] = verb\n",
    "        output = run(program)\n",
    "        if output == target:\n",
    "            print(noun, verb, 100 * noun + verb)\n",
    "            break"
   ]
  },
  {
   "cell_type": "code",
   "execution_count": null,
   "metadata": {},
   "outputs": [],
   "source": []
  }
 ],
 "metadata": {
  "kernelspec": {
   "display_name": "Python 3",
   "language": "python",
   "name": "python3"
  },
  "language_info": {
   "codemirror_mode": {
    "name": "ipython",
    "version": 3
   },
   "file_extension": ".py",
   "mimetype": "text/x-python",
   "name": "python",
   "nbconvert_exporter": "python",
   "pygments_lexer": "ipython3",
   "version": "3.7.5"
  }
 },
 "nbformat": 4,
 "nbformat_minor": 2
}
