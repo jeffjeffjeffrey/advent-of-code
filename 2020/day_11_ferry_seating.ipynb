{
 "cells": [
  {
   "cell_type": "code",
   "execution_count": 4,
   "metadata": {},
   "outputs": [],
   "source": [
    "def input_data(file):\n",
    "    layout = {}\n",
    "    with open(file) as f:\n",
    "        for row, line in enumerate(f.readlines()):\n",
    "            for col, char in enumerate(line.strip()):\n",
    "                layout[(row, col)] = char\n",
    "    return (layout, row+1, col+1)"
   ]
  },
  {
   "cell_type": "code",
   "execution_count": 17,
   "metadata": {},
   "outputs": [],
   "source": [
    "layout_test, nrow, ncol = input_data(\"day_11_test.txt\")"
   ]
  },
  {
   "cell_type": "code",
   "execution_count": 18,
   "metadata": {},
   "outputs": [
    {
     "data": {
      "text/plain": [
       "10"
      ]
     },
     "execution_count": 18,
     "metadata": {},
     "output_type": "execute_result"
    }
   ],
   "source": [
    "ncol"
   ]
  },
  {
   "cell_type": "code",
   "execution_count": 21,
   "metadata": {},
   "outputs": [],
   "source": [
    "def str_layout(layout, nrow, ncol):\n",
    "    grid = []\n",
    "    for row in range(nrow):\n",
    "        line = ''.join([layout[(row, col)] for col in range(ncol)])\n",
    "        grid.append(line)\n",
    "    return '\\n'.join(grid)"
   ]
  },
  {
   "cell_type": "code",
   "execution_count": 23,
   "metadata": {},
   "outputs": [
    {
     "name": "stdout",
     "output_type": "stream",
     "text": [
      "L.LL.LL.LL\n",
      "LLLLLLL.LL\n",
      "L.L.L..L..\n",
      "LLLL.LL.LL\n",
      "L.LL.LL.LL\n",
      "L.LLLLL.LL\n",
      "..L.L.....\n",
      "LLLLLLLLLL\n",
      "L.LLLLLL.L\n",
      "L.LLLLL.LL\n"
     ]
    }
   ],
   "source": [
    "print(str_layout(layout_test, nrow, ncol))"
   ]
  },
  {
   "cell_type": "code",
   "execution_count": 32,
   "metadata": {},
   "outputs": [],
   "source": [
    "def run_round(layout, nrow, ncol):\n",
    "    new_layout = {}\n",
    "    for row, col in layout:\n",
    "        if layout[(row, col)] == '.':\n",
    "            new_layout[(row, col)] = '.'\n",
    "        neighbor_ct = 0\n",
    "        for i in range(-1,2):\n",
    "            for j in range(-1,2):\n",
    "                neighbor = (row + i, col + j)\n",
    "                if neighbor in layout and neighbor != (row, col) and layout[neighbor] == '#':\n",
    "                    neighbor_ct += 1\n",
    "        if layout[(row, col)] == 'L' and neighbor_ct == 0:\n",
    "            new_layout[(row, col)] = '#'\n",
    "        elif layout[(row, col)] == '#' and neighbor_ct >= 4:\n",
    "            new_layout[(row, col)] = 'L'\n",
    "        else:\n",
    "            new_layout[(row, col)] = layout[(row, col)]\n",
    "    return new_layout"
   ]
  },
  {
   "cell_type": "code",
   "execution_count": 33,
   "metadata": {},
   "outputs": [],
   "source": [
    "new_layout = run_round(layout_test, nrow, ncol)"
   ]
  },
  {
   "cell_type": "code",
   "execution_count": 38,
   "metadata": {},
   "outputs": [
    {
     "name": "stdout",
     "output_type": "stream",
     "text": [
      "#.##.L#.##\n",
      "#L###LL.L#\n",
      "L.#.#..#..\n",
      "#L##.##.L#\n",
      "#.##.LL.LL\n",
      "#.###L#.##\n",
      "..#.#.....\n",
      "#L######L#\n",
      "#.LL###L.L\n",
      "#.#L###.##\n"
     ]
    }
   ],
   "source": [
    "print(str_layout(new_layout, nrow, ncol))"
   ]
  },
  {
   "cell_type": "code",
   "execution_count": 37,
   "metadata": {},
   "outputs": [],
   "source": [
    "new_layout = run_round(new_layout, nrow, ncol)"
   ]
  },
  {
   "cell_type": "code",
   "execution_count": 44,
   "metadata": {},
   "outputs": [],
   "source": [
    "def run_until_repeat(layout, nrow, ncol):\n",
    "    prev_layout = layout\n",
    "    new_layout = run_round(layout, nrow, ncol)\n",
    "    while prev_layout != new_layout:\n",
    "#         print(str_layout(prev_layout, nrow, ncol), '\\n')\n",
    "        prev_layout = new_layout\n",
    "        new_layout = run_round(new_layout, nrow, ncol)\n",
    "    return new_layout"
   ]
  },
  {
   "cell_type": "code",
   "execution_count": 45,
   "metadata": {},
   "outputs": [],
   "source": [
    "stable_layout = run_until_repeat(layout_test, nrow, ncol)"
   ]
  },
  {
   "cell_type": "code",
   "execution_count": 46,
   "metadata": {},
   "outputs": [
    {
     "name": "stdout",
     "output_type": "stream",
     "text": [
      "#.#L.L#.##\n",
      "#LLL#LL.L#\n",
      "L.#.L..#..\n",
      "#L##.##.L#\n",
      "#.#L.LL.LL\n",
      "#.#L#L#.##\n",
      "..L.L.....\n",
      "#L#L##L#L#\n",
      "#.LLLLLL.L\n",
      "#.#L#L#.##\n"
     ]
    }
   ],
   "source": [
    "print(str_layout(stable_layout, nrow, ncol))"
   ]
  },
  {
   "cell_type": "code",
   "execution_count": 47,
   "metadata": {},
   "outputs": [],
   "source": [
    "def seated_ct(layout):\n",
    "    return sum([1 if layout[loc] == '#' else 0 for loc in layout])"
   ]
  },
  {
   "cell_type": "code",
   "execution_count": 48,
   "metadata": {},
   "outputs": [
    {
     "data": {
      "text/plain": [
       "37"
      ]
     },
     "execution_count": 48,
     "metadata": {},
     "output_type": "execute_result"
    }
   ],
   "source": [
    "seated_ct(stable_layout)"
   ]
  },
  {
   "cell_type": "code",
   "execution_count": 49,
   "metadata": {},
   "outputs": [
    {
     "data": {
      "text/plain": [
       "2354"
      ]
     },
     "execution_count": 49,
     "metadata": {},
     "output_type": "execute_result"
    }
   ],
   "source": [
    "layout, nrow, ncol = input_data(\"day_11.txt\")\n",
    "stable_layout = run_until_repeat(layout, nrow, ncol)\n",
    "seated_ct(stable_layout)"
   ]
  },
  {
   "cell_type": "code",
   "execution_count": 50,
   "metadata": {},
   "outputs": [],
   "source": [
    "def first_visible_seat(layout, row, col, row_dir, col_dir):\n",
    "    if (row_dir, col_dir) == (0, 0):\n",
    "        return 0\n",
    "    while True:\n",
    "        row += row_dir\n",
    "        col += col_dir\n",
    "        if (row, col) not in layout or layout[(row, col)] == 'L':\n",
    "            return 0\n",
    "        elif layout[(row, col)] == '#':\n",
    "            return 1"
   ]
  },
  {
   "cell_type": "code",
   "execution_count": 51,
   "metadata": {},
   "outputs": [],
   "source": [
    "def run_visibility_round(layout, nrow, ncol):\n",
    "    new_layout = {}\n",
    "    for row, col in layout:\n",
    "        if layout[(row, col)] == '.':\n",
    "            new_layout[(row, col)] = '.'\n",
    "            \n",
    "        neighbor_ct = 0\n",
    "        for row_dir in range(-1,2):\n",
    "            for col_dir in range(-1,2):\n",
    "                neighbor_ct += first_visible_seat(layout, row, col, row_dir, col_dir)\n",
    "                \n",
    "        if layout[(row, col)] == 'L' and neighbor_ct == 0:\n",
    "            new_layout[(row, col)] = '#'\n",
    "        elif layout[(row, col)] == '#' and neighbor_ct >= 5:\n",
    "            new_layout[(row, col)] = 'L'\n",
    "        else:\n",
    "            new_layout[(row, col)] = layout[(row, col)]\n",
    "    return new_layout"
   ]
  },
  {
   "cell_type": "code",
   "execution_count": 52,
   "metadata": {},
   "outputs": [],
   "source": [
    "next_layout = run_visibility_round(layout_test, 10, 10)"
   ]
  },
  {
   "cell_type": "code",
   "execution_count": 57,
   "metadata": {},
   "outputs": [
    {
     "name": "stdout",
     "output_type": "stream",
     "text": [
      "#.L#.##.L#\n",
      "#L#####.LL\n",
      "L.#.#..#..\n",
      "##L#.##.##\n",
      "#.##.#L.##\n",
      "#.#####.#L\n",
      "..#.#.....\n",
      "LLL####LL#\n",
      "#.L#####.L\n",
      "#.L####.L#\n"
     ]
    }
   ],
   "source": [
    "print(str_layout(next_layout, 10, 10))"
   ]
  },
  {
   "cell_type": "code",
   "execution_count": 56,
   "metadata": {},
   "outputs": [],
   "source": [
    "next_layout = run_visibility_round(next_layout, 10, 10)"
   ]
  },
  {
   "cell_type": "code",
   "execution_count": 61,
   "metadata": {},
   "outputs": [],
   "source": [
    "def run_visibility_until_repeat(layout, nrow, ncol):\n",
    "    prev_layout = layout\n",
    "    new_layout = run_visibility_round(layout, nrow, ncol)\n",
    "    while prev_layout != new_layout:\n",
    "#         print(str_layout(prev_layout, nrow, ncol), '\\n')\n",
    "        prev_layout = new_layout\n",
    "        new_layout = run_visibility_round(new_layout, nrow, ncol)\n",
    "    return new_layout"
   ]
  },
  {
   "cell_type": "code",
   "execution_count": 62,
   "metadata": {},
   "outputs": [
    {
     "data": {
      "text/plain": [
       "26"
      ]
     },
     "execution_count": 62,
     "metadata": {},
     "output_type": "execute_result"
    }
   ],
   "source": [
    "stable_layout = run_visibility_until_repeat(layout_test, 10, 10)\n",
    "seated_ct(stable_layout)"
   ]
  },
  {
   "cell_type": "code",
   "execution_count": 63,
   "metadata": {},
   "outputs": [
    {
     "data": {
      "text/plain": [
       "2072"
      ]
     },
     "execution_count": 63,
     "metadata": {},
     "output_type": "execute_result"
    }
   ],
   "source": [
    "stable_layout = run_visibility_until_repeat(layout, nrow, ncol)\n",
    "seated_ct(stable_layout)"
   ]
  },
  {
   "cell_type": "code",
   "execution_count": null,
   "metadata": {},
   "outputs": [],
   "source": []
  }
 ],
 "metadata": {
  "kernelspec": {
   "display_name": "Python 3",
   "language": "python",
   "name": "python3"
  },
  "language_info": {
   "codemirror_mode": {
    "name": "ipython",
    "version": 3
   },
   "file_extension": ".py",
   "mimetype": "text/x-python",
   "name": "python",
   "nbconvert_exporter": "python",
   "pygments_lexer": "ipython3",
   "version": "3.8.2"
  }
 },
 "nbformat": 4,
 "nbformat_minor": 4
}
