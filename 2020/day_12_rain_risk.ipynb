{
 "cells": [
  {
   "cell_type": "code",
   "execution_count": 3,
   "metadata": {},
   "outputs": [],
   "source": [
    "def input_data(file):\n",
    "    with open(file) as f:\n",
    "        return [(line[0], int(line[1:])) for line in f.readlines()]\n",
    "\n",
    "            "
   ]
  },
  {
   "cell_type": "code",
   "execution_count": 4,
   "metadata": {},
   "outputs": [],
   "source": [
    "instructions_test = input_data('day_12_test.txt')"
   ]
  },
  {
   "cell_type": "code",
   "execution_count": 5,
   "metadata": {},
   "outputs": [
    {
     "data": {
      "text/plain": [
       "[('F', 10), ('N', 3), ('F', 7), ('R', 90), ('F', 11)]"
      ]
     },
     "execution_count": 5,
     "metadata": {},
     "output_type": "execute_result"
    }
   ],
   "source": [
    "instructions_test"
   ]
  },
  {
   "cell_type": "code",
   "execution_count": 27,
   "metadata": {},
   "outputs": [],
   "source": [
    "def run_instruction(action, value, loc, direction):\n",
    "    if action == 'F':\n",
    "        return loc + direction * value, direction\n",
    "    elif (action == 'R' or action == 'L') and value == 180:\n",
    "        return loc, direction * -1\n",
    "    elif (action == 'R' and value == 90) or (action == 'L' and value == 270):\n",
    "        return loc, direction * -1j\n",
    "    elif (action == 'L' and value == 90) or (action == 'R' and value == 270):\n",
    "        return loc, direction * 1j\n",
    "    elif action == 'N':\n",
    "        return loc + 1j * value, direction\n",
    "    elif action == 'S':\n",
    "        return loc - 1j * value, direction\n",
    "    elif action == 'E':\n",
    "        return loc + value, direction\n",
    "    elif action == 'W':\n",
    "        return loc - value, direction\n",
    "    else:\n",
    "        print(loc, value)"
   ]
  },
  {
   "cell_type": "code",
   "execution_count": 11,
   "metadata": {},
   "outputs": [
    {
     "data": {
      "text/plain": [
       "(10, 1)"
      ]
     },
     "execution_count": 11,
     "metadata": {},
     "output_type": "execute_result"
    }
   ],
   "source": [
    "run_instruction('F', 10, 0, 1)"
   ]
  },
  {
   "cell_type": "code",
   "execution_count": 12,
   "metadata": {},
   "outputs": [
    {
     "data": {
      "text/plain": [
       "(3j, 1)"
      ]
     },
     "execution_count": 12,
     "metadata": {},
     "output_type": "execute_result"
    }
   ],
   "source": [
    "run_instruction('N', 3, 0, 1)"
   ]
  },
  {
   "cell_type": "code",
   "execution_count": 13,
   "metadata": {},
   "outputs": [
    {
     "data": {
      "text/plain": [
       "(0, -1j)"
      ]
     },
     "execution_count": 13,
     "metadata": {},
     "output_type": "execute_result"
    }
   ],
   "source": [
    "run_instruction('R', 90, 0, 1)"
   ]
  },
  {
   "cell_type": "code",
   "execution_count": 14,
   "metadata": {},
   "outputs": [],
   "source": [
    "def run_instructions(instructions):\n",
    "    loc = 0\n",
    "    direction = 1\n",
    "    for action, value in instructions:\n",
    "        loc, direction = run_instruction(action, value, loc, direction)\n",
    "    return loc, direction"
   ]
  },
  {
   "cell_type": "code",
   "execution_count": 19,
   "metadata": {},
   "outputs": [
    {
     "data": {
      "text/plain": [
       "25.0"
      ]
     },
     "execution_count": 19,
     "metadata": {},
     "output_type": "execute_result"
    }
   ],
   "source": [
    "loc, direction = run_instructions(instructions_test)\n",
    "abs(loc.real) + abs(loc.imag)"
   ]
  },
  {
   "cell_type": "code",
   "execution_count": 23,
   "metadata": {},
   "outputs": [],
   "source": [
    "instructions = input_data('day_12.txt')"
   ]
  },
  {
   "cell_type": "code",
   "execution_count": 28,
   "metadata": {},
   "outputs": [],
   "source": [
    "loc, direction = run_instructions(instructions)"
   ]
  },
  {
   "cell_type": "code",
   "execution_count": 29,
   "metadata": {},
   "outputs": [
    {
     "data": {
      "text/plain": [
       "1533.0"
      ]
     },
     "execution_count": 29,
     "metadata": {},
     "output_type": "execute_result"
    }
   ],
   "source": [
    "abs(loc.real) + abs(loc.imag)"
   ]
  },
  {
   "cell_type": "code",
   "execution_count": 30,
   "metadata": {},
   "outputs": [],
   "source": [
    "def run_waypoint_instruction(action, value, loc, waypoint):\n",
    "    if action == 'F':\n",
    "        return loc + waypoint * value, waypoint\n",
    "    elif (action == 'R' or action == 'L') and value == 180:\n",
    "        return loc, waypoint * -1\n",
    "    elif (action == 'R' and value == 90) or (action == 'L' and value == 270):\n",
    "        return loc, waypoint * -1j\n",
    "    elif (action == 'L' and value == 90) or (action == 'R' and value == 270):\n",
    "        return loc, waypoint * 1j\n",
    "    elif action == 'N':\n",
    "        return loc, waypoint + 1j * value\n",
    "    elif action == 'S':\n",
    "        return loc, waypoint - 1j * value\n",
    "    elif action == 'E':\n",
    "        return loc, waypoint + value\n",
    "    elif action == 'W':\n",
    "        return loc, waypoint - value\n",
    "    else:\n",
    "        print(loc, value)"
   ]
  },
  {
   "cell_type": "code",
   "execution_count": 37,
   "metadata": {},
   "outputs": [],
   "source": [
    "def run_waypoint_instructions(instructions):\n",
    "    loc = 0\n",
    "    waypoint = 10 + 1j\n",
    "    for action, value in instructions:\n",
    "        loc, waypoint = run_waypoint_instruction(action, value, loc, waypoint)\n",
    "    return loc, waypoint"
   ]
  },
  {
   "cell_type": "code",
   "execution_count": 38,
   "metadata": {},
   "outputs": [
    {
     "data": {
      "text/plain": [
       "((214-72j), (4-10j))"
      ]
     },
     "execution_count": 38,
     "metadata": {},
     "output_type": "execute_result"
    }
   ],
   "source": [
    "run_waypoint_instructions(instructions_test)"
   ]
  },
  {
   "cell_type": "code",
   "execution_count": 39,
   "metadata": {},
   "outputs": [],
   "source": [
    "loc, waypoint = run_waypoint_instructions(instructions)"
   ]
  },
  {
   "cell_type": "code",
   "execution_count": 41,
   "metadata": {},
   "outputs": [
    {
     "data": {
      "text/plain": [
       "25235.0"
      ]
     },
     "execution_count": 41,
     "metadata": {},
     "output_type": "execute_result"
    }
   ],
   "source": [
    "abs(loc.real) + abs(loc.imag)"
   ]
  },
  {
   "cell_type": "code",
   "execution_count": null,
   "metadata": {},
   "outputs": [],
   "source": []
  }
 ],
 "metadata": {
  "kernelspec": {
   "display_name": "Python 3",
   "language": "python",
   "name": "python3"
  },
  "language_info": {
   "codemirror_mode": {
    "name": "ipython",
    "version": 3
   },
   "file_extension": ".py",
   "mimetype": "text/x-python",
   "name": "python",
   "nbconvert_exporter": "python",
   "pygments_lexer": "ipython3",
   "version": "3.8.2"
  }
 },
 "nbformat": 4,
 "nbformat_minor": 4
}
