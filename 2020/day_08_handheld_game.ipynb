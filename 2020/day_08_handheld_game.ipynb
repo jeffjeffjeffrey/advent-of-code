{
 "cells": [
  {
   "cell_type": "code",
   "execution_count": 4,
   "metadata": {},
   "outputs": [],
   "source": [
    "def input_data(file):\n",
    "    instructions = []\n",
    "    with open(file) as f:\n",
    "        for line in f.readlines():\n",
    "            operation, argument = line.split()\n",
    "            instructions.append((operation, int(argument)))\n",
    "    return instructions"
   ]
  },
  {
   "cell_type": "code",
   "execution_count": 5,
   "metadata": {},
   "outputs": [],
   "source": [
    "test_instructions = input_data(\"day_08_test.txt\")"
   ]
  },
  {
   "cell_type": "code",
   "execution_count": 6,
   "metadata": {},
   "outputs": [
    {
     "data": {
      "text/plain": [
       "[('nop', 0),\n",
       " ('acc', 1),\n",
       " ('jmp', 4),\n",
       " ('acc', 3),\n",
       " ('jmp', -3),\n",
       " ('acc', -99),\n",
       " ('acc', 1),\n",
       " ('jmp', -4),\n",
       " ('acc', 6)]"
      ]
     },
     "execution_count": 6,
     "metadata": {},
     "output_type": "execute_result"
    }
   ],
   "source": [
    "test_instructions"
   ]
  },
  {
   "cell_type": "code",
   "execution_count": 8,
   "metadata": {},
   "outputs": [],
   "source": [
    "def run_program_until_loop(instructions):\n",
    "    accum = 0\n",
    "    index = 0\n",
    "    seen = set()\n",
    "    while index not in seen:\n",
    "        seen.add(index)\n",
    "        op, arg = instructions[index]\n",
    "        if op == 'nop':\n",
    "            index += 1\n",
    "        elif op == 'acc':\n",
    "            accum += arg\n",
    "            index += 1\n",
    "        elif op == 'jmp':\n",
    "            index += arg\n",
    "    return accum"
   ]
  },
  {
   "cell_type": "code",
   "execution_count": 9,
   "metadata": {},
   "outputs": [
    {
     "data": {
      "text/plain": [
       "5"
      ]
     },
     "execution_count": 9,
     "metadata": {},
     "output_type": "execute_result"
    }
   ],
   "source": [
    "run_program_until_loop(test_instructions)"
   ]
  },
  {
   "cell_type": "code",
   "execution_count": 10,
   "metadata": {},
   "outputs": [
    {
     "data": {
      "text/plain": [
       "1217"
      ]
     },
     "execution_count": 10,
     "metadata": {},
     "output_type": "execute_result"
    }
   ],
   "source": [
    "run_program_until_loop(input_data(\"day_08.txt\"))"
   ]
  },
  {
   "cell_type": "code",
   "execution_count": 11,
   "metadata": {},
   "outputs": [],
   "source": [
    "def run_program(instructions):\n",
    "    accum = 0\n",
    "    index = 0\n",
    "    seen = set()\n",
    "    while index not in seen:\n",
    "        if index == len(instructions):\n",
    "            return accum\n",
    "        seen.add(index)\n",
    "        op, arg = instructions[index]\n",
    "        if op == 'nop':\n",
    "            index += 1\n",
    "        elif op == 'acc':\n",
    "            accum += arg\n",
    "            index += 1\n",
    "        elif op == 'jmp':\n",
    "            index += arg"
   ]
  },
  {
   "cell_type": "code",
   "execution_count": 12,
   "metadata": {},
   "outputs": [],
   "source": [
    "run_program(test_instructions)"
   ]
  },
  {
   "cell_type": "code",
   "execution_count": 13,
   "metadata": {},
   "outputs": [],
   "source": [
    "def debug_program(instructions):\n",
    "    for i in range(len(instructions)):\n",
    "        swapped = instructions.copy()\n",
    "        op, arg = swapped[i]\n",
    "        if op == 'jmp':\n",
    "            swapped[i] = ('nop', arg)\n",
    "        elif op == 'nop':\n",
    "            swapped[i] = ('jmp', arg)\n",
    "        else:\n",
    "            continue\n",
    "        output = run_program(swapped)\n",
    "        if output:\n",
    "            return output"
   ]
  },
  {
   "cell_type": "code",
   "execution_count": 14,
   "metadata": {},
   "outputs": [
    {
     "data": {
      "text/plain": [
       "8"
      ]
     },
     "execution_count": 14,
     "metadata": {},
     "output_type": "execute_result"
    }
   ],
   "source": [
    "debug_program(test_instructions)"
   ]
  },
  {
   "cell_type": "code",
   "execution_count": 15,
   "metadata": {},
   "outputs": [
    {
     "data": {
      "text/plain": [
       "501"
      ]
     },
     "execution_count": 15,
     "metadata": {},
     "output_type": "execute_result"
    }
   ],
   "source": [
    "debug_program(input_data(\"day_08.txt\"))"
   ]
  },
  {
   "cell_type": "code",
   "execution_count": null,
   "metadata": {},
   "outputs": [],
   "source": []
  }
 ],
 "metadata": {
  "kernelspec": {
   "display_name": "Python 3",
   "language": "python",
   "name": "python3"
  },
  "language_info": {
   "codemirror_mode": {
    "name": "ipython",
    "version": 3
   },
   "file_extension": ".py",
   "mimetype": "text/x-python",
   "name": "python",
   "nbconvert_exporter": "python",
   "pygments_lexer": "ipython3",
   "version": "3.8.2"
  }
 },
 "nbformat": 4,
 "nbformat_minor": 4
}
