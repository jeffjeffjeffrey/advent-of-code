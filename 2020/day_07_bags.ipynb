{
 "cells": [
  {
   "cell_type": "code",
   "execution_count": 1,
   "metadata": {},
   "outputs": [],
   "source": [
    "def input_data(file):\n",
    "    with open(file) as f:\n",
    "        return [line.strip() for line in f.readlines()]"
   ]
  },
  {
   "cell_type": "code",
   "execution_count": 2,
   "metadata": {},
   "outputs": [],
   "source": [
    "test_data = input_data('day_07_test.txt')"
   ]
  },
  {
   "cell_type": "code",
   "execution_count": 3,
   "metadata": {},
   "outputs": [
    {
     "data": {
      "text/plain": [
       "['light red bags contain 1 bright white bag, 2 muted yellow bags.',\n",
       " 'dark orange bags contain 3 bright white bags, 4 muted yellow bags.',\n",
       " 'bright white bags contain 1 shiny gold bag.',\n",
       " 'muted yellow bags contain 2 shiny gold bags, 9 faded blue bags.',\n",
       " 'shiny gold bags contain 1 dark olive bag, 2 vibrant plum bags.',\n",
       " 'dark olive bags contain 3 faded blue bags, 4 dotted black bags.',\n",
       " 'vibrant plum bags contain 5 faded blue bags, 6 dotted black bags.',\n",
       " 'faded blue bags contain no other bags.',\n",
       " 'dotted black bags contain no other bags.']"
      ]
     },
     "execution_count": 3,
     "metadata": {},
     "output_type": "execute_result"
    }
   ],
   "source": [
    "test_data"
   ]
  },
  {
   "cell_type": "code",
   "execution_count": 11,
   "metadata": {},
   "outputs": [],
   "source": [
    "import re"
   ]
  },
  {
   "cell_type": "code",
   "execution_count": 86,
   "metadata": {},
   "outputs": [],
   "source": [
    "def parse_rule(rule):\n",
    "    parent_str, children_str = rule[:-1].split(' contain ')\n",
    "    parent = parent_str[:-5]\n",
    "    children = []\n",
    "    for child_str in children_str.split(', '):\n",
    "        if child_str == 'no other bags':\n",
    "            continue\n",
    "        match = re.match(\"^(\\d*) ([a-z]* [a-z]*) bags?$\", child_str)\n",
    "        qty = int(match.group(1))\n",
    "        child = match.group(2)\n",
    "        children.append((child, qty))\n",
    "    return(parent, children)"
   ]
  },
  {
   "cell_type": "code",
   "execution_count": 87,
   "metadata": {},
   "outputs": [
    {
     "data": {
      "text/plain": [
       "[('light red', [('bright white', 1), ('muted yellow', 2)]),\n",
       " ('dark orange', [('bright white', 3), ('muted yellow', 4)]),\n",
       " ('bright white', [('shiny gold', 1)]),\n",
       " ('muted yellow', [('shiny gold', 2), ('faded blue', 9)]),\n",
       " ('shiny gold', [('dark olive', 1), ('vibrant plum', 2)]),\n",
       " ('dark olive', [('faded blue', 3), ('dotted black', 4)]),\n",
       " ('vibrant plum', [('faded blue', 5), ('dotted black', 6)]),\n",
       " ('faded blue', []),\n",
       " ('dotted black', [])]"
      ]
     },
     "execution_count": 87,
     "metadata": {},
     "output_type": "execute_result"
    }
   ],
   "source": [
    "[parse_rule(rule) for rule in test_data]"
   ]
  },
  {
   "cell_type": "code",
   "execution_count": 88,
   "metadata": {},
   "outputs": [],
   "source": [
    "from collections import defaultdict"
   ]
  },
  {
   "cell_type": "code",
   "execution_count": 89,
   "metadata": {},
   "outputs": [],
   "source": [
    "def compile_parents_dict(rules):\n",
    "    parents_dict = defaultdict(list)\n",
    "    for rule in rules:\n",
    "        parent, children = parse_rule(rule)\n",
    "        for child in children:\n",
    "            parents_dict[child[0]].append(parent)\n",
    "    return parents_dict"
   ]
  },
  {
   "cell_type": "code",
   "execution_count": 90,
   "metadata": {},
   "outputs": [
    {
     "data": {
      "text/plain": [
       "defaultdict(list,\n",
       "            {'bright white': ['light red', 'dark orange'],\n",
       "             'muted yellow': ['light red', 'dark orange'],\n",
       "             'shiny gold': ['bright white', 'muted yellow'],\n",
       "             'faded blue': ['muted yellow', 'dark olive', 'vibrant plum'],\n",
       "             'dark olive': ['shiny gold'],\n",
       "             'vibrant plum': ['shiny gold'],\n",
       "             'dotted black': ['dark olive', 'vibrant plum']})"
      ]
     },
     "execution_count": 90,
     "metadata": {},
     "output_type": "execute_result"
    }
   ],
   "source": [
    "compile_parents_dict(test_data)"
   ]
  },
  {
   "cell_type": "code",
   "execution_count": 46,
   "metadata": {},
   "outputs": [],
   "source": [
    "from queue import Queue"
   ]
  },
  {
   "cell_type": "code",
   "execution_count": 47,
   "metadata": {},
   "outputs": [],
   "source": [
    "q = Queue()"
   ]
  },
  {
   "cell_type": "code",
   "execution_count": 51,
   "metadata": {},
   "outputs": [],
   "source": [
    "q.put(5)"
   ]
  },
  {
   "cell_type": "code",
   "execution_count": 99,
   "metadata": {},
   "outputs": [],
   "source": [
    "def get_ancestors(parents_dict, child='shiny gold'):\n",
    "    ancestors = set()\n",
    "    q = Queue()\n",
    "    q.put(child)\n",
    "    while not q.empty():\n",
    "        child = q.get()\n",
    "        for parent in parents_dict[child]:\n",
    "            ancestors.add(parent)\n",
    "            q.put(parent)\n",
    "    return ancestors"
   ]
  },
  {
   "cell_type": "code",
   "execution_count": 100,
   "metadata": {},
   "outputs": [
    {
     "data": {
      "text/plain": [
       "{'bright white', 'dark orange', 'light red', 'muted yellow'}"
      ]
     },
     "execution_count": 100,
     "metadata": {},
     "output_type": "execute_result"
    }
   ],
   "source": [
    "get_ancestors(compile_parents_dict(test_data))"
   ]
  },
  {
   "cell_type": "code",
   "execution_count": 102,
   "metadata": {},
   "outputs": [
    {
     "data": {
      "text/plain": [
       "103"
      ]
     },
     "execution_count": 102,
     "metadata": {},
     "output_type": "execute_result"
    }
   ],
   "source": [
    "len(get_ancestors(compile_parents_dict(input_data('day_07.txt'))))"
   ]
  },
  {
   "cell_type": "code",
   "execution_count": 103,
   "metadata": {},
   "outputs": [],
   "source": [
    "def compile_children_dict(rules):\n",
    "    children_dict = defaultdict(list)\n",
    "    for rule in rules:\n",
    "        parent, children = parse_rule(rule)\n",
    "        for child in children:\n",
    "            children_dict[parent].append(child)\n",
    "    return children_dict"
   ]
  },
  {
   "cell_type": "code",
   "execution_count": 104,
   "metadata": {},
   "outputs": [],
   "source": [
    "children_dict = compile_children_dict(test_data)"
   ]
  },
  {
   "cell_type": "code",
   "execution_count": 105,
   "metadata": {},
   "outputs": [
    {
     "data": {
      "text/plain": [
       "defaultdict(list,\n",
       "            {'light red': [('bright white', 1), ('muted yellow', 2)],\n",
       "             'dark orange': [('bright white', 3), ('muted yellow', 4)],\n",
       "             'bright white': [('shiny gold', 1)],\n",
       "             'muted yellow': [('shiny gold', 2), ('faded blue', 9)],\n",
       "             'shiny gold': [('dark olive', 1), ('vibrant plum', 2)],\n",
       "             'dark olive': [('faded blue', 3), ('dotted black', 4)],\n",
       "             'vibrant plum': [('faded blue', 5), ('dotted black', 6)]})"
      ]
     },
     "execution_count": 105,
     "metadata": {},
     "output_type": "execute_result"
    }
   ],
   "source": [
    "children_dict"
   ]
  },
  {
   "cell_type": "code",
   "execution_count": 122,
   "metadata": {},
   "outputs": [],
   "source": [
    "def get_descendents(children_dict, parent='shiny gold'):\n",
    "    if parent not in children_dict:\n",
    "        return 0\n",
    "    children_totals = [qty * (1 + get_descendents(children_dict, child)) for child, qty in children_dict[parent]]\n",
    "    return sum(children_totals)     "
   ]
  },
  {
   "cell_type": "code",
   "execution_count": 123,
   "metadata": {},
   "outputs": [
    {
     "data": {
      "text/plain": [
       "32"
      ]
     },
     "execution_count": 123,
     "metadata": {},
     "output_type": "execute_result"
    }
   ],
   "source": [
    "get_descendents(children_dict)"
   ]
  },
  {
   "cell_type": "code",
   "execution_count": 124,
   "metadata": {},
   "outputs": [
    {
     "data": {
      "text/plain": [
       "1469"
      ]
     },
     "execution_count": 124,
     "metadata": {},
     "output_type": "execute_result"
    }
   ],
   "source": [
    "get_descendents(compile_children_dict(input_data('day_07.txt')))"
   ]
  },
  {
   "cell_type": "code",
   "execution_count": null,
   "metadata": {},
   "outputs": [],
   "source": []
  }
 ],
 "metadata": {
  "kernelspec": {
   "display_name": "Python 3",
   "language": "python",
   "name": "python3"
  },
  "language_info": {
   "codemirror_mode": {
    "name": "ipython",
    "version": 3
   },
   "file_extension": ".py",
   "mimetype": "text/x-python",
   "name": "python",
   "nbconvert_exporter": "python",
   "pygments_lexer": "ipython3",
   "version": "3.8.5"
  }
 },
 "nbformat": 4,
 "nbformat_minor": 4
}
